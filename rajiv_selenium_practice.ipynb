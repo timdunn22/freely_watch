{
 "cells": [
  {
   "cell_type": "code",
   "execution_count": 1,
   "id": "b6294d9f",
   "metadata": {},
   "outputs": [],
   "source": [
    "import pysnooper\n",
    "from movie_project.common_methods import (re, merge_many_dicts, os, \n",
    "                                          common_null_values, get_selenium_soup, sample )\n",
    "from movie_project.marketing.kftv_scraper import (UndetectedSeleniumScraper, \n",
    "                                                  MultiThreadedSeleniumScraper, \n",
    "                                                  ThreadManagement)\n",
    "from movie_project.all_processes.load_yaml_vars import LoadYamlVars\n",
    "import time\n",
    "from selenium.webdriver.common.by import By\n",
    "from selenium import webdriver\n",
    "from selenium.webdriver.firefox.options import Options"
   ]
  },
  {
   "cell_type": "code",
   "execution_count": 6,
   "id": "60d0361f",
   "metadata": {},
   "outputs": [],
   "source": [
    "def typical_driver():\n",
    "#     host, port, headless):\n",
    "    test_ua = 'Mozilla/5.0 (Windows NT 4.0; WOW64) AppleWebKit/537.36 (KHTML, like Gecko) Chrome/37.0.2049.0 Safari/537.36'\n",
    "\n",
    "    options = Options()\n",
    "    options.add_argument(\"--window-size=1920,1080\")\n",
    "\n",
    "    options.add_argument(f'--user-agent={test_ua}')\n",
    "\n",
    "    options.add_argument('--no-sandbox')\n",
    "    options.add_argument(\"--disable-extensions\")\n",
    "    # uc.install()\n",
    "    # proxy_num = sample(list(range(1,3)), 1)[0]\n",
    "    # if proxy_num == 1:\n",
    "#     options.add_argument(f\"--proxy-server={host}:{port}\")\n",
    "\n",
    "    \n",
    "#     options.add_argument(\"--headless\")\n",
    "    # return uc.Chrome(executable_path='/Users/timdunn/Downloads/chromedriver_mac_arm64-1/chromedriver', options=options)\n",
    "    # webdriver.Safari(options=options)\n",
    "    # return get_driver_from_options(options)\n",
    "    return webdriver.Firefox(options=options, )\n",
    "                            # executable_path='/Users/timdunn/Downloads/chromedriver_mac_arm64-1/chromedriver'"
   ]
  },
  {
   "cell_type": "code",
   "execution_count": 9,
   "id": "37667a42",
   "metadata": {},
   "outputs": [],
   "source": [
    "from selenium.webdriver.support.ui import Select"
   ]
  },
  {
   "cell_type": "code",
   "execution_count": 10,
   "id": "59c5681a",
   "metadata": {},
   "outputs": [],
   "source": [
    "driver = typical_driver()"
   ]
  },
  {
   "cell_type": "code",
   "execution_count": 12,
   "id": "cbbacfc3",
   "metadata": {},
   "outputs": [],
   "source": [
    "def fill_participant(driver):\n",
    "    select = Select(driver.find_element(By.ID, 'selectBranch'))\n",
    "\n",
    "    select.select_by_value('PROVIDENT MERCHANT BANKING LIMITED (16600)')\n",
    "# select.select_by_value(value)\n",
    "    "
   ]
  },
  {
   "cell_type": "code",
   "execution_count": 14,
   "id": "b10e9f88",
   "metadata": {},
   "outputs": [],
   "source": [
    "select_thing = driver.find_element(By.ID, 'selectBranch')"
   ]
  },
  {
   "cell_type": "code",
   "execution_count": 15,
   "id": "2ef74a86",
   "metadata": {},
   "outputs": [
    {
     "data": {
      "text/plain": [
       "<selenium.webdriver.remote.webelement.WebElement (session=\"b1a4c012-d3f1-499f-a2db-69884fc9fce0\", element=\"4774814a-dc7d-4705-a992-a5583d11b144\")>"
      ]
     },
     "execution_count": 15,
     "metadata": {},
     "output_type": "execute_result"
    }
   ],
   "source": [
    "select_thing.find_element()"
   ]
  },
  {
   "cell_type": "code",
   "execution_count": 13,
   "id": "dd0a2c11",
   "metadata": {},
   "outputs": [
    {
     "ename": "UnexpectedTagNameException",
     "evalue": "Message: Select only works on <select> elements, not on select2\n",
     "output_type": "error",
     "traceback": [
      "\u001b[0;31m---------------------------------------------------------------------------\u001b[0m",
      "\u001b[0;31mUnexpectedTagNameException\u001b[0m                Traceback (most recent call last)",
      "Input \u001b[0;32mIn [13]\u001b[0m, in \u001b[0;36m<module>\u001b[0;34m\u001b[0m\n\u001b[0;32m----> 1\u001b[0m \u001b[43mfill_participant\u001b[49m\u001b[43m(\u001b[49m\u001b[43mdriver\u001b[49m\u001b[43m)\u001b[49m\n",
      "Input \u001b[0;32mIn [12]\u001b[0m, in \u001b[0;36mfill_participant\u001b[0;34m(driver)\u001b[0m\n\u001b[1;32m      1\u001b[0m \u001b[38;5;28;01mdef\u001b[39;00m \u001b[38;5;21mfill_participant\u001b[39m(driver):\n\u001b[0;32m----> 2\u001b[0m     select \u001b[38;5;241m=\u001b[39m \u001b[43mSelect\u001b[49m\u001b[43m(\u001b[49m\u001b[43mdriver\u001b[49m\u001b[38;5;241;43m.\u001b[39;49m\u001b[43mfind_element\u001b[49m\u001b[43m(\u001b[49m\u001b[43mBy\u001b[49m\u001b[38;5;241;43m.\u001b[39;49m\u001b[43mID\u001b[49m\u001b[43m,\u001b[49m\u001b[43m \u001b[49m\u001b[38;5;124;43m'\u001b[39;49m\u001b[38;5;124;43mselectBranch\u001b[39;49m\u001b[38;5;124;43m'\u001b[39;49m\u001b[43m)\u001b[49m\u001b[43m)\u001b[49m\n\u001b[1;32m      4\u001b[0m     select\u001b[38;5;241m.\u001b[39mselect_by_value(\u001b[38;5;124m'\u001b[39m\u001b[38;5;124mPROVIDENT MERCHANT BANKING LIMITED (16600)\u001b[39m\u001b[38;5;124m'\u001b[39m)\n",
      "File \u001b[0;32m~/miniforge3/lib/python3.9/site-packages/selenium/webdriver/support/select.py:36\u001b[0m, in \u001b[0;36mSelect.__init__\u001b[0;34m(self, webelement)\u001b[0m\n\u001b[1;32m     25\u001b[0m \u001b[38;5;124;03m\"\"\"Constructor. A check is made that the given element is, indeed, a\u001b[39;00m\n\u001b[1;32m     26\u001b[0m \u001b[38;5;124;03mSELECT tag. If it is not, then an UnexpectedTagNameException is thrown.\u001b[39;00m\n\u001b[1;32m     27\u001b[0m \n\u001b[0;32m   (...)\u001b[0m\n\u001b[1;32m     33\u001b[0m \u001b[38;5;124;03m    Select(driver.find_element(By.TAG_NAME, \"select\")).select_by_index(2)\u001b[39;00m\n\u001b[1;32m     34\u001b[0m \u001b[38;5;124;03m\"\"\"\u001b[39;00m\n\u001b[1;32m     35\u001b[0m \u001b[38;5;28;01mif\u001b[39;00m webelement\u001b[38;5;241m.\u001b[39mtag_name\u001b[38;5;241m.\u001b[39mlower() \u001b[38;5;241m!=\u001b[39m \u001b[38;5;124m\"\u001b[39m\u001b[38;5;124mselect\u001b[39m\u001b[38;5;124m\"\u001b[39m:\n\u001b[0;32m---> 36\u001b[0m     \u001b[38;5;28;01mraise\u001b[39;00m UnexpectedTagNameException(\u001b[38;5;124mf\u001b[39m\u001b[38;5;124m\"\u001b[39m\u001b[38;5;124mSelect only works on <select> elements, not on \u001b[39m\u001b[38;5;132;01m{\u001b[39;00mwebelement\u001b[38;5;241m.\u001b[39mtag_name\u001b[38;5;132;01m}\u001b[39;00m\u001b[38;5;124m\"\u001b[39m)\n\u001b[1;32m     37\u001b[0m \u001b[38;5;28mself\u001b[39m\u001b[38;5;241m.\u001b[39m_el \u001b[38;5;241m=\u001b[39m webelement\n\u001b[1;32m     38\u001b[0m multi \u001b[38;5;241m=\u001b[39m \u001b[38;5;28mself\u001b[39m\u001b[38;5;241m.\u001b[39m_el\u001b[38;5;241m.\u001b[39mget_dom_attribute(\u001b[38;5;124m\"\u001b[39m\u001b[38;5;124mmultiple\u001b[39m\u001b[38;5;124m\"\u001b[39m)\n",
      "\u001b[0;31mUnexpectedTagNameException\u001b[0m: Message: Select only works on <select> elements, not on select2\n"
     ]
    }
   ],
   "source": [
    "fill_participant(driver)"
   ]
  },
  {
   "cell_type": "code",
   "execution_count": null,
   "id": "ae58161a",
   "metadata": {},
   "outputs": [],
   "source": [
    "title=\"PROVIDENT MERCHANT BANKING LIMITED (16600)\""
   ]
  },
  {
   "cell_type": "code",
   "execution_count": 11,
   "id": "3c299a42",
   "metadata": {},
   "outputs": [],
   "source": [
    "driver.get('https://meroshare.cdsc.com.np/#/login')"
   ]
  }
 ],
 "metadata": {
  "kernelspec": {
   "display_name": "Python 3 (ipykernel)",
   "language": "python",
   "name": "python3"
  },
  "language_info": {
   "codemirror_mode": {
    "name": "ipython",
    "version": 3
   },
   "file_extension": ".py",
   "mimetype": "text/x-python",
   "name": "python",
   "nbconvert_exporter": "python",
   "pygments_lexer": "ipython3",
   "version": "3.9.7"
  }
 },
 "nbformat": 4,
 "nbformat_minor": 5
}
