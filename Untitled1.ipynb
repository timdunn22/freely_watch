{
 "cells": [
  {
   "cell_type": "code",
   "execution_count": null,
   "id": "a2705b18",
   "metadata": {},
   "outputs": [],
   "source": [
    "from scripts.import_all_data import ImportAllData"
   ]
  },
  {
   "cell_type": "code",
   "execution_count": null,
   "id": "c6a8c48f",
   "metadata": {},
   "outputs": [],
   "source": [
    "import_data_object = ImportAllData('./movie_configuration.yaml')"
   ]
  },
  {
   "cell_type": "code",
   "execution_count": null,
   "id": "036670cf",
   "metadata": {},
   "outputs": [],
   "source": [
    "import_data_object.current_import_object.current_import_object.create_objects"
   ]
  },
  {
   "cell_type": "code",
   "execution_count": null,
   "id": "1543cef8",
   "metadata": {},
   "outputs": [],
   "source": [
    "df = import_data_object.current_import_object.current_import_object.created_df"
   ]
  },
  {
   "cell_type": "code",
   "execution_count": null,
   "id": "3e4f6215",
   "metadata": {},
   "outputs": [],
   "source": [
    "df.loc[~df.duplicated(subset=['tconst'], keep='first')]"
   ]
  },
  {
   "cell_type": "code",
   "execution_count": null,
   "id": "441d98fd",
   "metadata": {},
   "outputs": [],
   "source": [
    "df.loc[~df['tconst'].duplicated()]"
   ]
  },
  {
   "cell_type": "code",
   "execution_count": null,
   "id": "8de36446",
   "metadata": {},
   "outputs": [],
   "source": [
    "from movies.models import Movie"
   ]
  },
  {
   "cell_type": "code",
   "execution_count": 1,
   "id": "0e347191",
   "metadata": {},
   "outputs": [],
   "source": [
    "yaml_file = '/Users/timdunn/freely_watch/movie_configuration.yaml'"
   ]
  },
  {
   "cell_type": "code",
   "execution_count": null,
   "id": "57de855c",
   "metadata": {},
   "outputs": [],
   "source": [
    "from all_processes.convert_all_data import ConvertAllData"
   ]
  },
  {
   "cell_type": "code",
   "execution_count": null,
   "id": "6a04452a",
   "metadata": {},
   "outputs": [],
   "source": [
    "convert_object = ConvertAllData(yaml_file, True)"
   ]
  },
  {
   "cell_type": "code",
   "execution_count": null,
   "id": "40ca70fa",
   "metadata": {},
   "outputs": [],
   "source": [
    "convert_object.convert_data()"
   ]
  },
  {
   "cell_type": "code",
   "execution_count": null,
   "id": "826765d7",
   "metadata": {},
   "outputs": [],
   "source": [
    "def is_related_field(field):\n",
    "    return 'related' in str(field.__class__).split('models.fields')[-1]"
   ]
  },
  {
   "cell_type": "code",
   "execution_count": null,
   "id": "9ba75b1f",
   "metadata": {},
   "outputs": [],
   "source": [
    "import pandas as pd"
   ]
  },
  {
   "cell_type": "code",
   "execution_count": null,
   "id": "8e8efd40",
   "metadata": {},
   "outputs": [],
   "source": [
    "from movies.documents import *"
   ]
  },
  {
   "cell_type": "code",
   "execution_count": null,
   "id": "30722e3d",
   "metadata": {},
   "outputs": [],
   "source": [
    "s = MovieDocument.search().query(\"match\", primary_title=\"beautiful\")"
   ]
  },
  {
   "cell_type": "code",
   "execution_count": null,
   "id": "61493438",
   "metadata": {},
   "outputs": [],
   "source": [
    "for hit in s:\n",
    "    print(s.primary_title)"
   ]
  },
  {
   "cell_type": "code",
   "execution_count": null,
   "id": "1b8a7db4",
   "metadata": {},
   "outputs": [],
   "source": [
    "MovieDocument.search()"
   ]
  },
  {
   "cell_type": "code",
   "execution_count": null,
   "id": "aec87116",
   "metadata": {},
   "outputs": [],
   "source": [
    "'/Users/timdunn/'"
   ]
  },
  {
   "cell_type": "code",
   "execution_count": null,
   "id": "d7d95785",
   "metadata": {},
   "outputs": [],
   "source": [
    "links.to_csv('/Users/timdunn/freely_watch/converted_data/merged_imdb_links.csv', index=False)"
   ]
  },
  {
   "cell_type": "code",
   "execution_count": null,
   "id": "6ffd9bea",
   "metadata": {},
   "outputs": [],
   "source": [
    "links.drop(['probability'], inplace=True, axis=1)"
   ]
  },
  {
   "cell_type": "code",
   "execution_count": null,
   "id": "271b2b8d",
   "metadata": {},
   "outputs": [],
   "source": [
    "links.columns"
   ]
  },
  {
   "cell_type": "code",
   "execution_count": null,
   "id": "79e2ad54",
   "metadata": {},
   "outputs": [],
   "source": [
    "class Book(models.Model):\n",
    "    title = models.CharField(max_length=100)\n",
    "\n",
    "    @classmethod\n",
    "    def create(cls, title):\n",
    "        book = cls(title=title)\n",
    "        # do something with the book\n",
    "        return book"
   ]
  },
  {
   "cell_type": "code",
   "execution_count": null,
   "id": "528f962e",
   "metadata": {},
   "outputs": [],
   "source": [
    "fields = [field.attname for field in Movie._meta.local_fields if not is_related_field(field)]"
   ]
  },
  {
   "cell_type": "code",
   "execution_count": null,
   "id": "da966529",
   "metadata": {},
   "outputs": [],
   "source": [
    "fields"
   ]
  },
  {
   "cell_type": "code",
   "execution_count": null,
   "id": "f0b83a50",
   "metadata": {},
   "outputs": [],
   "source": [
    "'related' in str(Movie._meta.local_fields[0].__class__).split('models.fields')[-1]"
   ]
  },
  {
   "cell_type": "code",
   "execution_count": null,
   "id": "f847dc97",
   "metadata": {},
   "outputs": [],
   "source": [
    "import_data_object.current_import_object.current_import_object.created_df"
   ]
  },
  {
   "cell_type": "code",
   "execution_count": null,
   "id": "0590bb7c",
   "metadata": {},
   "outputs": [],
   "source": [
    "import_data_object.import_data()"
   ]
  },
  {
   "cell_type": "code",
   "execution_count": null,
   "id": "7543b593",
   "metadata": {},
   "outputs": [],
   "source": [
    "from all_processes.add_all_imdb_info import AddAllImdbInfo"
   ]
  },
  {
   "cell_type": "code",
   "execution_count": null,
   "id": "83802c17",
   "metadata": {},
   "outputs": [],
   "source": [
    "add_imdb_info_object = AddAllImdbInfo(\n",
    "    configuration_file='/Users/timdunn/movie_project/all_processes/movie_configuration.yaml')"
   ]
  },
  {
   "cell_type": "code",
   "execution_count": null,
   "id": "8cab3c1a",
   "metadata": {},
   "outputs": [],
   "source": [
    "add_imdb_info_object.run_with_exceptions()"
   ]
  },
  {
   "cell_type": "code",
   "execution_count": null,
   "id": "ab5bb7a4",
   "metadata": {},
   "outputs": [],
   "source": [
    "add_imdb_info_object.run_with_exceptions()"
   ]
  },
  {
   "cell_type": "code",
   "execution_count": null,
   "id": "fe3bb7ce",
   "metadata": {},
   "outputs": [],
   "source": [
    "add_imdb_info_object.run_with_exceptions()"
   ]
  },
  {
   "cell_type": "code",
   "execution_count": null,
   "id": "dce9f7c6",
   "metadata": {},
   "outputs": [],
   "source": [
    "class A:\n",
    "    def __init__(self, instances=5):\n",
    "        for instance_id in range(instances):\n",
    "            setattr(self, f'data_{instance_id}', list())"
   ]
  },
  {
   "cell_type": "code",
   "execution_count": null,
   "id": "8cc19297",
   "metadata": {},
   "outputs": [],
   "source": [
    "a_object = A()"
   ]
  },
  {
   "cell_type": "code",
   "execution_count": null,
   "id": "5cebf8f6",
   "metadata": {},
   "outputs": [],
   "source": [
    "set"
   ]
  },
  {
   "cell_type": "code",
   "execution_count": null,
   "id": "ea2d3532",
   "metadata": {},
   "outputs": [],
   "source": [
    "getattr(a_object, 'data_0').append('3')"
   ]
  },
  {
   "cell_type": "code",
   "execution_count": null,
   "id": "f9fc21df",
   "metadata": {},
   "outputs": [],
   "source": [
    "getattr(a_object, 'data_0')"
   ]
  }
 ],
 "metadata": {
  "kernelspec": {
   "display_name": "Python 3 (ipykernel)",
   "language": "python",
   "name": "python3"
  },
  "language_info": {
   "codemirror_mode": {
    "name": "ipython",
    "version": 3
   },
   "file_extension": ".py",
   "mimetype": "text/x-python",
   "name": "python",
   "nbconvert_exporter": "python",
   "pygments_lexer": "ipython3",
   "version": "3.9.7"
  }
 },
 "nbformat": 4,
 "nbformat_minor": 5
}
