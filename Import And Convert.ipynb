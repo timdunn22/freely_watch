{
 "cells": [
  {
   "cell_type": "code",
   "execution_count": 1,
   "id": "95380594",
   "metadata": {},
   "outputs": [],
   "source": [
    "from scripts.import_all_data import ImportAllData"
   ]
  },
  {
   "cell_type": "code",
   "execution_count": 2,
   "id": "3e9c1e01",
   "metadata": {},
   "outputs": [],
   "source": [
    "import_object = ImportAllData(\n",
    "    configuration_file='/Users/timdunn/movie_project/all_processes/movie_configuration.yaml')"
   ]
  },
  {
   "cell_type": "code",
   "execution_count": 3,
   "id": "42c847fb",
   "metadata": {},
   "outputs": [],
   "source": [
    "from scripts.data_to_db import *"
   ]
  },
  {
   "cell_type": "code",
   "execution_count": 4,
   "id": "2dda85be",
   "metadata": {},
   "outputs": [],
   "source": [
    "from movies.models import *"
   ]
  },
  {
   "cell_type": "code",
   "execution_count": 5,
   "id": "b30dad82",
   "metadata": {},
   "outputs": [],
   "source": [
    "from common_methods import *"
   ]
  },
  {
   "cell_type": "code",
   "execution_count": null,
   "id": "6bb85b3a",
   "metadata": {},
   "outputs": [],
   "source": [
    "test_file = pd.read_csv('/Users/timdunn/test_imdb.csv')"
   ]
  },
  {
   "cell_type": "code",
   "execution_count": null,
   "id": "1082fbd6",
   "metadata": {},
   "outputs": [],
   "source": [
    "test_file.to_csv('/Users/timdunn/test_imdb.csv')"
   ]
  },
  {
   "cell_type": "code",
   "execution_count": null,
   "id": "d048eace",
   "metadata": {},
   "outputs": [],
   "source": [
    "test_file.loc[:, 'language'] = None"
   ]
  },
  {
   "cell_type": "code",
   "execution_count": null,
   "id": "418f5526",
   "metadata": {},
   "outputs": [],
   "source": [
    "data_object = DataToDb(Movie, '/Users/timdunn/test_imdb.csv')"
   ]
  },
  {
   "cell_type": "code",
   "execution_count": null,
   "id": "8f2d44d9",
   "metadata": {},
   "outputs": [],
   "source": [
    "genres = Genre.objects.all()"
   ]
  },
  {
   "cell_type": "code",
   "execution_count": null,
   "id": "509dfc54",
   "metadata": {},
   "outputs": [],
   "source": [
    "list(genres)"
   ]
  },
  {
   "cell_type": "code",
   "execution_count": null,
   "id": "bffeb6c9",
   "metadata": {},
   "outputs": [],
   "source": [
    "data_object.import_records()"
   ]
  },
  {
   "cell_type": "code",
   "execution_count": 18,
   "id": "be918c9c",
   "metadata": {},
   "outputs": [],
   "source": [
    "movie_title_sample = pd.read_csv('/Users/timdunn/Desktop/converted_movie_project_data/merged_imdb.csv')"
   ]
  },
  {
   "cell_type": "code",
   "execution_count": 19,
   "id": "5bbaecff",
   "metadata": {},
   "outputs": [],
   "source": [
    "movie_title_sample = movie_title_sample.loc[~movie_title_sample['tconst'].isin(tconsts)]"
   ]
  },
  {
   "cell_type": "code",
   "execution_count": 11,
   "id": "7c46a77f",
   "metadata": {},
   "outputs": [],
   "source": [
    "nonnull_air_dates = movie_title_sample.loc[~movie_title_sample['original_air_date'].isnull()]"
   ]
  },
  {
   "cell_type": "code",
   "execution_count": null,
   "id": "2f3ba455",
   "metadata": {},
   "outputs": [],
   "source": [
    "nonnull_air_dates"
   ]
  },
  {
   "cell_type": "code",
   "execution_count": 43,
   "id": "a712ceab",
   "metadata": {},
   "outputs": [],
   "source": [
    "integer_columns = [column.attname for column in Movie._meta.get_fields() if\n",
    "                           'IntegerField' in str(column.__class__)]"
   ]
  },
  {
   "cell_type": "code",
   "execution_count": 12,
   "id": "f184449e",
   "metadata": {},
   "outputs": [],
   "source": [
    "def not_null_value(value):\n",
    "    return not pd.isnull(value) and value not in ['None', 'nan', None]"
   ]
  },
  {
   "cell_type": "code",
   "execution_count": 47,
   "id": "5914edcb",
   "metadata": {},
   "outputs": [],
   "source": [
    "def value_converted(key, value):\n",
    "    if key == 'is_adult' and value not in [None, 0, 1, True, False]:\n",
    "        return False\n",
    "    if key in integer_columns:\n",
    "        try:\n",
    "            return int(value)\n",
    "        except:\n",
    "            return 0\n",
    "    return value"
   ]
  },
  {
   "cell_type": "code",
   "execution_count": 48,
   "id": "4b823c10",
   "metadata": {},
   "outputs": [],
   "source": [
    "def compact_dict(row):\n",
    "    initial_dict = {key: value for key, value in dict(row).items() if not_null_value(value)}\n",
    "    initial_dict = {key: value_converted(key, value) for key, value in initial_dict.items()}\n",
    "    return Movie(**assign_language(initial_dict, language_mapping))"
   ]
  },
  {
   "cell_type": "code",
   "execution_count": 49,
   "id": "c6dd8e9b",
   "metadata": {},
   "outputs": [],
   "source": [
    "def assign_language(the_dict, language_mapping):\n",
    "    if the_dict.get('language') is not None:\n",
    "        the_dict['language'] = language_mapping.get(the_dict.get('language'))\n",
    "    return the_dict"
   ]
  },
  {
   "cell_type": "code",
   "execution_count": 50,
   "id": "6570228a",
   "metadata": {},
   "outputs": [],
   "source": [
    "movie_objects = list(movie_title_sample.apply(lambda row: compact_dict(row), axis=1))"
   ]
  },
  {
   "cell_type": "code",
   "execution_count": 35,
   "id": "e74de3a6",
   "metadata": {},
   "outputs": [
    {
     "data": {
      "text/plain": [
       "array([0.000e+00, 1.000e+00, 1.981e+03, 2.005e+03, 2.014e+03, 2.017e+03,\n",
       "       2.019e+03, 2.020e+03, 2.023e+03,       nan])"
      ]
     },
     "execution_count": 35,
     "metadata": {},
     "output_type": "execute_result"
    }
   ],
   "source": [
    "np.unique(movie_title_sample['is_adult'])"
   ]
  },
  {
   "cell_type": "code",
   "execution_count": 36,
   "id": "377889e3",
   "metadata": {},
   "outputs": [
    {
     "data": {
      "text/html": [
       "<div>\n",
       "<style scoped>\n",
       "    .dataframe tbody tr th:only-of-type {\n",
       "        vertical-align: middle;\n",
       "    }\n",
       "\n",
       "    .dataframe tbody tr th {\n",
       "        vertical-align: top;\n",
       "    }\n",
       "\n",
       "    .dataframe thead th {\n",
       "        text-align: right;\n",
       "    }\n",
       "</style>\n",
       "<table border=\"1\" class=\"dataframe\">\n",
       "  <thead>\n",
       "    <tr style=\"text-align: right;\">\n",
       "      <th></th>\n",
       "      <th>tconst</th>\n",
       "      <th>title_type</th>\n",
       "      <th>primary_title</th>\n",
       "      <th>original_title</th>\n",
       "      <th>is_adult</th>\n",
       "      <th>start_year</th>\n",
       "      <th>runtime_minutes</th>\n",
       "      <th>end_year</th>\n",
       "      <th>original_air_date</th>\n",
       "      <th>language</th>\n",
       "      <th>...</th>\n",
       "      <th>score</th>\n",
       "      <th>poster</th>\n",
       "      <th>plot_outline</th>\n",
       "      <th>aspect_ratio</th>\n",
       "      <th>production_status</th>\n",
       "      <th>production_status_updated</th>\n",
       "      <th>bottom_100_rank</th>\n",
       "      <th>top_250_rank</th>\n",
       "      <th>box_office_budget</th>\n",
       "      <th>box_office_cumulative_worldwide_gross</th>\n",
       "    </tr>\n",
       "  </thead>\n",
       "  <tbody>\n",
       "    <tr>\n",
       "      <th>100</th>\n",
       "      <td>tt0000102</td>\n",
       "      <td>short</td>\n",
       "      <td>The Beach at Villiers in a Gale</td>\n",
       "      <td>Plage de Villiers par gros temps</td>\n",
       "      <td>0.0</td>\n",
       "      <td>1896.0</td>\n",
       "      <td>0.0</td>\n",
       "      <td>0.0</td>\n",
       "      <td>NaN</td>\n",
       "      <td>NaN</td>\n",
       "      <td>...</td>\n",
       "      <td>NaN</td>\n",
       "      <td>NaN</td>\n",
       "      <td>NaN</td>\n",
       "      <td>NaN</td>\n",
       "      <td>NaN</td>\n",
       "      <td>NaN</td>\n",
       "      <td>0.0</td>\n",
       "      <td>0.0</td>\n",
       "      <td>NaN</td>\n",
       "      <td>NaN</td>\n",
       "    </tr>\n",
       "    <tr>\n",
       "      <th>101</th>\n",
       "      <td>tt0000103</td>\n",
       "      <td>short</td>\n",
       "      <td>Smarter than the Teacher</td>\n",
       "      <td>Plus fort que le maître</td>\n",
       "      <td>0.0</td>\n",
       "      <td>1896.0</td>\n",
       "      <td>0.0</td>\n",
       "      <td>0.0</td>\n",
       "      <td>NaN</td>\n",
       "      <td>NaN</td>\n",
       "      <td>...</td>\n",
       "      <td>NaN</td>\n",
       "      <td>NaN</td>\n",
       "      <td>NaN</td>\n",
       "      <td>NaN</td>\n",
       "      <td>NaN</td>\n",
       "      <td>NaN</td>\n",
       "      <td>0.0</td>\n",
       "      <td>0.0</td>\n",
       "      <td>NaN</td>\n",
       "      <td>NaN</td>\n",
       "    </tr>\n",
       "    <tr>\n",
       "      <th>102</th>\n",
       "      <td>tt0000104</td>\n",
       "      <td>short</td>\n",
       "      <td>Pompiers à Lyon</td>\n",
       "      <td>Pompiers à Lyon</td>\n",
       "      <td>0.0</td>\n",
       "      <td>1896.0</td>\n",
       "      <td>1.0</td>\n",
       "      <td>0.0</td>\n",
       "      <td>NaN</td>\n",
       "      <td>NaN</td>\n",
       "      <td>...</td>\n",
       "      <td>NaN</td>\n",
       "      <td>NaN</td>\n",
       "      <td>NaN</td>\n",
       "      <td>NaN</td>\n",
       "      <td>NaN</td>\n",
       "      <td>NaN</td>\n",
       "      <td>0.0</td>\n",
       "      <td>0.0</td>\n",
       "      <td>NaN</td>\n",
       "      <td>NaN</td>\n",
       "    </tr>\n",
       "    <tr>\n",
       "      <th>103</th>\n",
       "      <td>tt0000105</td>\n",
       "      <td>short</td>\n",
       "      <td>The Docks at Marseilles</td>\n",
       "      <td>Les quais à Marseille</td>\n",
       "      <td>0.0</td>\n",
       "      <td>1896.0</td>\n",
       "      <td>0.0</td>\n",
       "      <td>0.0</td>\n",
       "      <td>NaN</td>\n",
       "      <td>NaN</td>\n",
       "      <td>...</td>\n",
       "      <td>NaN</td>\n",
       "      <td>NaN</td>\n",
       "      <td>NaN</td>\n",
       "      <td>NaN</td>\n",
       "      <td>NaN</td>\n",
       "      <td>NaN</td>\n",
       "      <td>0.0</td>\n",
       "      <td>0.0</td>\n",
       "      <td>NaN</td>\n",
       "      <td>NaN</td>\n",
       "    </tr>\n",
       "    <tr>\n",
       "      <th>104</th>\n",
       "      <td>tt0000106</td>\n",
       "      <td>short</td>\n",
       "      <td>Retour au cantonnement</td>\n",
       "      <td>Retour au cantonnement</td>\n",
       "      <td>0.0</td>\n",
       "      <td>1896.0</td>\n",
       "      <td>0.0</td>\n",
       "      <td>0.0</td>\n",
       "      <td>NaN</td>\n",
       "      <td>NaN</td>\n",
       "      <td>...</td>\n",
       "      <td>NaN</td>\n",
       "      <td>NaN</td>\n",
       "      <td>NaN</td>\n",
       "      <td>NaN</td>\n",
       "      <td>NaN</td>\n",
       "      <td>NaN</td>\n",
       "      <td>0.0</td>\n",
       "      <td>0.0</td>\n",
       "      <td>NaN</td>\n",
       "      <td>NaN</td>\n",
       "    </tr>\n",
       "    <tr>\n",
       "      <th>...</th>\n",
       "      <td>...</td>\n",
       "      <td>...</td>\n",
       "      <td>...</td>\n",
       "      <td>...</td>\n",
       "      <td>...</td>\n",
       "      <td>...</td>\n",
       "      <td>...</td>\n",
       "      <td>...</td>\n",
       "      <td>...</td>\n",
       "      <td>...</td>\n",
       "      <td>...</td>\n",
       "      <td>...</td>\n",
       "      <td>...</td>\n",
       "      <td>...</td>\n",
       "      <td>...</td>\n",
       "      <td>...</td>\n",
       "      <td>...</td>\n",
       "      <td>...</td>\n",
       "      <td>...</td>\n",
       "      <td>...</td>\n",
       "      <td>...</td>\n",
       "    </tr>\n",
       "    <tr>\n",
       "      <th>9711496</th>\n",
       "      <td>tt9916848</td>\n",
       "      <td>tvEpisode</td>\n",
       "      <td>Episode #3.17</td>\n",
       "      <td>Episode #3.17</td>\n",
       "      <td>0.0</td>\n",
       "      <td>2010.0</td>\n",
       "      <td>0</td>\n",
       "      <td>0.0</td>\n",
       "      <td>NaN</td>\n",
       "      <td>NaN</td>\n",
       "      <td>...</td>\n",
       "      <td>NaN</td>\n",
       "      <td>NaN</td>\n",
       "      <td>NaN</td>\n",
       "      <td>NaN</td>\n",
       "      <td>NaN</td>\n",
       "      <td>NaN</td>\n",
       "      <td>0.0</td>\n",
       "      <td>0.0</td>\n",
       "      <td>NaN</td>\n",
       "      <td>NaN</td>\n",
       "    </tr>\n",
       "    <tr>\n",
       "      <th>9711497</th>\n",
       "      <td>tt9916850</td>\n",
       "      <td>tvEpisode</td>\n",
       "      <td>Episode #3.19</td>\n",
       "      <td>Episode #3.19</td>\n",
       "      <td>0.0</td>\n",
       "      <td>2010.0</td>\n",
       "      <td>0</td>\n",
       "      <td>0.0</td>\n",
       "      <td>NaN</td>\n",
       "      <td>NaN</td>\n",
       "      <td>...</td>\n",
       "      <td>NaN</td>\n",
       "      <td>NaN</td>\n",
       "      <td>NaN</td>\n",
       "      <td>NaN</td>\n",
       "      <td>NaN</td>\n",
       "      <td>NaN</td>\n",
       "      <td>0.0</td>\n",
       "      <td>0.0</td>\n",
       "      <td>NaN</td>\n",
       "      <td>NaN</td>\n",
       "    </tr>\n",
       "    <tr>\n",
       "      <th>9711498</th>\n",
       "      <td>tt9916852</td>\n",
       "      <td>tvEpisode</td>\n",
       "      <td>Episode #3.20</td>\n",
       "      <td>Episode #3.20</td>\n",
       "      <td>0.0</td>\n",
       "      <td>2010.0</td>\n",
       "      <td>0</td>\n",
       "      <td>0.0</td>\n",
       "      <td>NaN</td>\n",
       "      <td>NaN</td>\n",
       "      <td>...</td>\n",
       "      <td>NaN</td>\n",
       "      <td>NaN</td>\n",
       "      <td>NaN</td>\n",
       "      <td>NaN</td>\n",
       "      <td>NaN</td>\n",
       "      <td>NaN</td>\n",
       "      <td>0.0</td>\n",
       "      <td>0.0</td>\n",
       "      <td>NaN</td>\n",
       "      <td>NaN</td>\n",
       "    </tr>\n",
       "    <tr>\n",
       "      <th>9711499</th>\n",
       "      <td>tt9916856</td>\n",
       "      <td>short</td>\n",
       "      <td>The Wind</td>\n",
       "      <td>The Wind</td>\n",
       "      <td>0.0</td>\n",
       "      <td>2015.0</td>\n",
       "      <td>27</td>\n",
       "      <td>0.0</td>\n",
       "      <td>NaN</td>\n",
       "      <td>NaN</td>\n",
       "      <td>...</td>\n",
       "      <td>NaN</td>\n",
       "      <td>NaN</td>\n",
       "      <td>NaN</td>\n",
       "      <td>NaN</td>\n",
       "      <td>NaN</td>\n",
       "      <td>NaN</td>\n",
       "      <td>0.0</td>\n",
       "      <td>0.0</td>\n",
       "      <td>NaN</td>\n",
       "      <td>NaN</td>\n",
       "    </tr>\n",
       "    <tr>\n",
       "      <th>9711500</th>\n",
       "      <td>tt9916880</td>\n",
       "      <td>tvEpisode</td>\n",
       "      <td>Horrid Henry Knows It All</td>\n",
       "      <td>Horrid Henry Knows It All</td>\n",
       "      <td>0.0</td>\n",
       "      <td>2014.0</td>\n",
       "      <td>10</td>\n",
       "      <td>0.0</td>\n",
       "      <td>NaN</td>\n",
       "      <td>NaN</td>\n",
       "      <td>...</td>\n",
       "      <td>NaN</td>\n",
       "      <td>NaN</td>\n",
       "      <td>NaN</td>\n",
       "      <td>NaN</td>\n",
       "      <td>NaN</td>\n",
       "      <td>NaN</td>\n",
       "      <td>0.0</td>\n",
       "      <td>0.0</td>\n",
       "      <td>NaN</td>\n",
       "      <td>NaN</td>\n",
       "    </tr>\n",
       "  </tbody>\n",
       "</table>\n",
       "<p>9711401 rows × 21 columns</p>\n",
       "</div>"
      ],
      "text/plain": [
       "            tconst title_type                    primary_title  \\\n",
       "100      tt0000102      short  The Beach at Villiers in a Gale   \n",
       "101      tt0000103      short         Smarter than the Teacher   \n",
       "102      tt0000104      short                  Pompiers à Lyon   \n",
       "103      tt0000105      short          The Docks at Marseilles   \n",
       "104      tt0000106      short           Retour au cantonnement   \n",
       "...            ...        ...                              ...   \n",
       "9711496  tt9916848  tvEpisode                    Episode #3.17   \n",
       "9711497  tt9916850  tvEpisode                    Episode #3.19   \n",
       "9711498  tt9916852  tvEpisode                    Episode #3.20   \n",
       "9711499  tt9916856      short                         The Wind   \n",
       "9711500  tt9916880  tvEpisode        Horrid Henry Knows It All   \n",
       "\n",
       "                           original_title  is_adult  start_year  \\\n",
       "100      Plage de Villiers par gros temps       0.0      1896.0   \n",
       "101               Plus fort que le maître       0.0      1896.0   \n",
       "102                       Pompiers à Lyon       0.0      1896.0   \n",
       "103                 Les quais à Marseille       0.0      1896.0   \n",
       "104                Retour au cantonnement       0.0      1896.0   \n",
       "...                                   ...       ...         ...   \n",
       "9711496                     Episode #3.17       0.0      2010.0   \n",
       "9711497                     Episode #3.19       0.0      2010.0   \n",
       "9711498                     Episode #3.20       0.0      2010.0   \n",
       "9711499                          The Wind       0.0      2015.0   \n",
       "9711500         Horrid Henry Knows It All       0.0      2014.0   \n",
       "\n",
       "        runtime_minutes  end_year original_air_date language  ... score  \\\n",
       "100                 0.0       0.0               NaN      NaN  ...   NaN   \n",
       "101                 0.0       0.0               NaN      NaN  ...   NaN   \n",
       "102                 1.0       0.0               NaN      NaN  ...   NaN   \n",
       "103                 0.0       0.0               NaN      NaN  ...   NaN   \n",
       "104                 0.0       0.0               NaN      NaN  ...   NaN   \n",
       "...                 ...       ...               ...      ...  ...   ...   \n",
       "9711496               0       0.0               NaN      NaN  ...   NaN   \n",
       "9711497               0       0.0               NaN      NaN  ...   NaN   \n",
       "9711498               0       0.0               NaN      NaN  ...   NaN   \n",
       "9711499              27       0.0               NaN      NaN  ...   NaN   \n",
       "9711500              10       0.0               NaN      NaN  ...   NaN   \n",
       "\n",
       "         poster plot_outline aspect_ratio production_status  \\\n",
       "100         NaN          NaN          NaN               NaN   \n",
       "101         NaN          NaN          NaN               NaN   \n",
       "102         NaN          NaN          NaN               NaN   \n",
       "103         NaN          NaN          NaN               NaN   \n",
       "104         NaN          NaN          NaN               NaN   \n",
       "...         ...          ...          ...               ...   \n",
       "9711496     NaN          NaN          NaN               NaN   \n",
       "9711497     NaN          NaN          NaN               NaN   \n",
       "9711498     NaN          NaN          NaN               NaN   \n",
       "9711499     NaN          NaN          NaN               NaN   \n",
       "9711500     NaN          NaN          NaN               NaN   \n",
       "\n",
       "        production_status_updated bottom_100_rank  top_250_rank  \\\n",
       "100                           NaN             0.0           0.0   \n",
       "101                           NaN             0.0           0.0   \n",
       "102                           NaN             0.0           0.0   \n",
       "103                           NaN             0.0           0.0   \n",
       "104                           NaN             0.0           0.0   \n",
       "...                           ...             ...           ...   \n",
       "9711496                       NaN             0.0           0.0   \n",
       "9711497                       NaN             0.0           0.0   \n",
       "9711498                       NaN             0.0           0.0   \n",
       "9711499                       NaN             0.0           0.0   \n",
       "9711500                       NaN             0.0           0.0   \n",
       "\n",
       "         box_office_budget box_office_cumulative_worldwide_gross  \n",
       "100                    NaN                                   NaN  \n",
       "101                    NaN                                   NaN  \n",
       "102                    NaN                                   NaN  \n",
       "103                    NaN                                   NaN  \n",
       "104                    NaN                                   NaN  \n",
       "...                    ...                                   ...  \n",
       "9711496                NaN                                   NaN  \n",
       "9711497                NaN                                   NaN  \n",
       "9711498                NaN                                   NaN  \n",
       "9711499                NaN                                   NaN  \n",
       "9711500                NaN                                   NaN  \n",
       "\n",
       "[9711401 rows x 21 columns]"
      ]
     },
     "execution_count": 36,
     "metadata": {},
     "output_type": "execute_result"
    }
   ],
   "source": [
    "movie_title_sample"
   ]
  },
  {
   "cell_type": "code",
   "execution_count": null,
   "id": "cfe49641",
   "metadata": {},
   "outputs": [],
   "source": [
    "dict(movie_objects[1])"
   ]
  },
  {
   "cell_type": "code",
   "execution_count": 22,
   "id": "0ad9cb44",
   "metadata": {},
   "outputs": [],
   "source": [
    "language_mapping = Language.objects.distinct('name').in_bulk(field_name='name')"
   ]
  },
  {
   "cell_type": "code",
   "execution_count": 51,
   "id": "4d0d9fd5",
   "metadata": {},
   "outputs": [
    {
     "ename": "OperationalError",
     "evalue": "server closed the connection unexpectedly\n\tThis probably means the server terminated abnormally\n\tbefore or while processing the request.\n",
     "output_type": "error",
     "traceback": [
      "\u001B[0;31m---------------------------------------------------------------------------\u001B[0m",
      "\u001B[0;31mOperationalError\u001B[0m                          Traceback (most recent call last)",
      "File \u001B[0;32m~/miniforge3/lib/python3.9/site-packages/django/db/backends/utils.py:89\u001B[0m, in \u001B[0;36mCursorWrapper._execute\u001B[0;34m(self, sql, params, *ignored_wrapper_args)\u001B[0m\n\u001B[1;32m     88\u001B[0m \u001B[38;5;28;01melse\u001B[39;00m:\n\u001B[0;32m---> 89\u001B[0m     \u001B[38;5;28;01mreturn\u001B[39;00m \u001B[38;5;28;43mself\u001B[39;49m\u001B[38;5;241;43m.\u001B[39;49m\u001B[43mcursor\u001B[49m\u001B[38;5;241;43m.\u001B[39;49m\u001B[43mexecute\u001B[49m\u001B[43m(\u001B[49m\u001B[43msql\u001B[49m\u001B[43m,\u001B[49m\u001B[43m \u001B[49m\u001B[43mparams\u001B[49m\u001B[43m)\u001B[49m\n",
      "\u001B[0;31mOperationalError\u001B[0m: server closed the connection unexpectedly\n\tThis probably means the server terminated abnormally\n\tbefore or while processing the request.\n",
      "\nThe above exception was the direct cause of the following exception:\n",
      "\u001B[0;31mOperationalError\u001B[0m                          Traceback (most recent call last)",
      "Input \u001B[0;32mIn [51]\u001B[0m, in \u001B[0;36m<module>\u001B[0;34m\u001B[0m\n\u001B[0;32m----> 1\u001B[0m \u001B[43mMovie\u001B[49m\u001B[38;5;241;43m.\u001B[39;49m\u001B[43mobjects\u001B[49m\u001B[38;5;241;43m.\u001B[39;49m\u001B[43mbulk_create\u001B[49m\u001B[43m(\u001B[49m\u001B[43mmovie_objects\u001B[49m\u001B[43m)\u001B[49m\n",
      "File \u001B[0;32m~/miniforge3/lib/python3.9/site-packages/django/db/models/manager.py:85\u001B[0m, in \u001B[0;36mBaseManager._get_queryset_methods.<locals>.create_method.<locals>.manager_method\u001B[0;34m(self, *args, **kwargs)\u001B[0m\n\u001B[1;32m     84\u001B[0m \u001B[38;5;28;01mdef\u001B[39;00m \u001B[38;5;21mmanager_method\u001B[39m(\u001B[38;5;28mself\u001B[39m, \u001B[38;5;241m*\u001B[39margs, \u001B[38;5;241m*\u001B[39m\u001B[38;5;241m*\u001B[39mkwargs):\n\u001B[0;32m---> 85\u001B[0m     \u001B[38;5;28;01mreturn\u001B[39;00m \u001B[38;5;28;43mgetattr\u001B[39;49m\u001B[43m(\u001B[49m\u001B[38;5;28;43mself\u001B[39;49m\u001B[38;5;241;43m.\u001B[39;49m\u001B[43mget_queryset\u001B[49m\u001B[43m(\u001B[49m\u001B[43m)\u001B[49m\u001B[43m,\u001B[49m\u001B[43m \u001B[49m\u001B[43mname\u001B[49m\u001B[43m)\u001B[49m\u001B[43m(\u001B[49m\u001B[38;5;241;43m*\u001B[39;49m\u001B[43margs\u001B[49m\u001B[43m,\u001B[49m\u001B[43m \u001B[49m\u001B[38;5;241;43m*\u001B[39;49m\u001B[38;5;241;43m*\u001B[39;49m\u001B[43mkwargs\u001B[49m\u001B[43m)\u001B[49m\n",
      "File \u001B[0;32m~/miniforge3/lib/python3.9/site-packages/django/db/models/query.py:816\u001B[0m, in \u001B[0;36mQuerySet.bulk_create\u001B[0;34m(self, objs, batch_size, ignore_conflicts, update_conflicts, update_fields, unique_fields)\u001B[0m\n\u001B[1;32m    814\u001B[0m \u001B[38;5;28;01mif\u001B[39;00m objs_without_pk:\n\u001B[1;32m    815\u001B[0m     fields \u001B[38;5;241m=\u001B[39m [f \u001B[38;5;28;01mfor\u001B[39;00m f \u001B[38;5;129;01min\u001B[39;00m fields \u001B[38;5;28;01mif\u001B[39;00m \u001B[38;5;129;01mnot\u001B[39;00m \u001B[38;5;28misinstance\u001B[39m(f, AutoField)]\n\u001B[0;32m--> 816\u001B[0m     returned_columns \u001B[38;5;241m=\u001B[39m \u001B[38;5;28;43mself\u001B[39;49m\u001B[38;5;241;43m.\u001B[39;49m\u001B[43m_batched_insert\u001B[49m\u001B[43m(\u001B[49m\n\u001B[1;32m    817\u001B[0m \u001B[43m        \u001B[49m\u001B[43mobjs_without_pk\u001B[49m\u001B[43m,\u001B[49m\n\u001B[1;32m    818\u001B[0m \u001B[43m        \u001B[49m\u001B[43mfields\u001B[49m\u001B[43m,\u001B[49m\n\u001B[1;32m    819\u001B[0m \u001B[43m        \u001B[49m\u001B[43mbatch_size\u001B[49m\u001B[43m,\u001B[49m\n\u001B[1;32m    820\u001B[0m \u001B[43m        \u001B[49m\u001B[43mon_conflict\u001B[49m\u001B[38;5;241;43m=\u001B[39;49m\u001B[43mon_conflict\u001B[49m\u001B[43m,\u001B[49m\n\u001B[1;32m    821\u001B[0m \u001B[43m        \u001B[49m\u001B[43mupdate_fields\u001B[49m\u001B[38;5;241;43m=\u001B[39;49m\u001B[43mupdate_fields\u001B[49m\u001B[43m,\u001B[49m\n\u001B[1;32m    822\u001B[0m \u001B[43m        \u001B[49m\u001B[43munique_fields\u001B[49m\u001B[38;5;241;43m=\u001B[39;49m\u001B[43munique_fields\u001B[49m\u001B[43m,\u001B[49m\n\u001B[1;32m    823\u001B[0m \u001B[43m    \u001B[49m\u001B[43m)\u001B[49m\n\u001B[1;32m    824\u001B[0m     connection \u001B[38;5;241m=\u001B[39m connections[\u001B[38;5;28mself\u001B[39m\u001B[38;5;241m.\u001B[39mdb]\n\u001B[1;32m    825\u001B[0m     \u001B[38;5;28;01mif\u001B[39;00m (\n\u001B[1;32m    826\u001B[0m         connection\u001B[38;5;241m.\u001B[39mfeatures\u001B[38;5;241m.\u001B[39mcan_return_rows_from_bulk_insert\n\u001B[1;32m    827\u001B[0m         \u001B[38;5;129;01mand\u001B[39;00m on_conflict \u001B[38;5;129;01mis\u001B[39;00m \u001B[38;5;28;01mNone\u001B[39;00m\n\u001B[1;32m    828\u001B[0m     ):\n",
      "File \u001B[0;32m~/miniforge3/lib/python3.9/site-packages/django/db/models/query.py:1817\u001B[0m, in \u001B[0;36mQuerySet._batched_insert\u001B[0;34m(self, objs, fields, batch_size, on_conflict, update_fields, unique_fields)\u001B[0m\n\u001B[1;32m   1814\u001B[0m \u001B[38;5;28;01mfor\u001B[39;00m item \u001B[38;5;129;01min\u001B[39;00m [objs[i : i \u001B[38;5;241m+\u001B[39m batch_size] \u001B[38;5;28;01mfor\u001B[39;00m i \u001B[38;5;129;01min\u001B[39;00m \u001B[38;5;28mrange\u001B[39m(\u001B[38;5;241m0\u001B[39m, \u001B[38;5;28mlen\u001B[39m(objs), batch_size)]:\n\u001B[1;32m   1815\u001B[0m     \u001B[38;5;28;01mif\u001B[39;00m bulk_return \u001B[38;5;129;01mand\u001B[39;00m on_conflict \u001B[38;5;129;01mis\u001B[39;00m \u001B[38;5;28;01mNone\u001B[39;00m:\n\u001B[1;32m   1816\u001B[0m         inserted_rows\u001B[38;5;241m.\u001B[39mextend(\n\u001B[0;32m-> 1817\u001B[0m             \u001B[38;5;28;43mself\u001B[39;49m\u001B[38;5;241;43m.\u001B[39;49m\u001B[43m_insert\u001B[49m\u001B[43m(\u001B[49m\n\u001B[1;32m   1818\u001B[0m \u001B[43m                \u001B[49m\u001B[43mitem\u001B[49m\u001B[43m,\u001B[49m\n\u001B[1;32m   1819\u001B[0m \u001B[43m                \u001B[49m\u001B[43mfields\u001B[49m\u001B[38;5;241;43m=\u001B[39;49m\u001B[43mfields\u001B[49m\u001B[43m,\u001B[49m\n\u001B[1;32m   1820\u001B[0m \u001B[43m                \u001B[49m\u001B[43musing\u001B[49m\u001B[38;5;241;43m=\u001B[39;49m\u001B[38;5;28;43mself\u001B[39;49m\u001B[38;5;241;43m.\u001B[39;49m\u001B[43mdb\u001B[49m\u001B[43m,\u001B[49m\n\u001B[1;32m   1821\u001B[0m \u001B[43m                \u001B[49m\u001B[43mreturning_fields\u001B[49m\u001B[38;5;241;43m=\u001B[39;49m\u001B[38;5;28;43mself\u001B[39;49m\u001B[38;5;241;43m.\u001B[39;49m\u001B[43mmodel\u001B[49m\u001B[38;5;241;43m.\u001B[39;49m\u001B[43m_meta\u001B[49m\u001B[38;5;241;43m.\u001B[39;49m\u001B[43mdb_returning_fields\u001B[49m\u001B[43m,\u001B[49m\n\u001B[1;32m   1822\u001B[0m \u001B[43m            \u001B[49m\u001B[43m)\u001B[49m\n\u001B[1;32m   1823\u001B[0m         )\n\u001B[1;32m   1824\u001B[0m     \u001B[38;5;28;01melse\u001B[39;00m:\n\u001B[1;32m   1825\u001B[0m         \u001B[38;5;28mself\u001B[39m\u001B[38;5;241m.\u001B[39m_insert(\n\u001B[1;32m   1826\u001B[0m             item,\n\u001B[1;32m   1827\u001B[0m             fields\u001B[38;5;241m=\u001B[39mfields,\n\u001B[0;32m   (...)\u001B[0m\n\u001B[1;32m   1831\u001B[0m             unique_fields\u001B[38;5;241m=\u001B[39munique_fields,\n\u001B[1;32m   1832\u001B[0m         )\n",
      "File \u001B[0;32m~/miniforge3/lib/python3.9/site-packages/django/db/models/query.py:1791\u001B[0m, in \u001B[0;36mQuerySet._insert\u001B[0;34m(self, objs, fields, returning_fields, raw, using, on_conflict, update_fields, unique_fields)\u001B[0m\n\u001B[1;32m   1784\u001B[0m query \u001B[38;5;241m=\u001B[39m sql\u001B[38;5;241m.\u001B[39mInsertQuery(\n\u001B[1;32m   1785\u001B[0m     \u001B[38;5;28mself\u001B[39m\u001B[38;5;241m.\u001B[39mmodel,\n\u001B[1;32m   1786\u001B[0m     on_conflict\u001B[38;5;241m=\u001B[39mon_conflict,\n\u001B[1;32m   1787\u001B[0m     update_fields\u001B[38;5;241m=\u001B[39mupdate_fields,\n\u001B[1;32m   1788\u001B[0m     unique_fields\u001B[38;5;241m=\u001B[39munique_fields,\n\u001B[1;32m   1789\u001B[0m )\n\u001B[1;32m   1790\u001B[0m query\u001B[38;5;241m.\u001B[39minsert_values(fields, objs, raw\u001B[38;5;241m=\u001B[39mraw)\n\u001B[0;32m-> 1791\u001B[0m \u001B[38;5;28;01mreturn\u001B[39;00m \u001B[43mquery\u001B[49m\u001B[38;5;241;43m.\u001B[39;49m\u001B[43mget_compiler\u001B[49m\u001B[43m(\u001B[49m\u001B[43musing\u001B[49m\u001B[38;5;241;43m=\u001B[39;49m\u001B[43musing\u001B[49m\u001B[43m)\u001B[49m\u001B[38;5;241;43m.\u001B[39;49m\u001B[43mexecute_sql\u001B[49m\u001B[43m(\u001B[49m\u001B[43mreturning_fields\u001B[49m\u001B[43m)\u001B[49m\n",
      "File \u001B[0;32m~/miniforge3/lib/python3.9/site-packages/django/db/models/sql/compiler.py:1660\u001B[0m, in \u001B[0;36mSQLInsertCompiler.execute_sql\u001B[0;34m(self, returning_fields)\u001B[0m\n\u001B[1;32m   1658\u001B[0m \u001B[38;5;28;01mwith\u001B[39;00m \u001B[38;5;28mself\u001B[39m\u001B[38;5;241m.\u001B[39mconnection\u001B[38;5;241m.\u001B[39mcursor() \u001B[38;5;28;01mas\u001B[39;00m cursor:\n\u001B[1;32m   1659\u001B[0m     \u001B[38;5;28;01mfor\u001B[39;00m sql, params \u001B[38;5;129;01min\u001B[39;00m \u001B[38;5;28mself\u001B[39m\u001B[38;5;241m.\u001B[39mas_sql():\n\u001B[0;32m-> 1660\u001B[0m         \u001B[43mcursor\u001B[49m\u001B[38;5;241;43m.\u001B[39;49m\u001B[43mexecute\u001B[49m\u001B[43m(\u001B[49m\u001B[43msql\u001B[49m\u001B[43m,\u001B[49m\u001B[43m \u001B[49m\u001B[43mparams\u001B[49m\u001B[43m)\u001B[49m\n\u001B[1;32m   1661\u001B[0m     \u001B[38;5;28;01mif\u001B[39;00m \u001B[38;5;129;01mnot\u001B[39;00m \u001B[38;5;28mself\u001B[39m\u001B[38;5;241m.\u001B[39mreturning_fields:\n\u001B[1;32m   1662\u001B[0m         \u001B[38;5;28;01mreturn\u001B[39;00m []\n",
      "File \u001B[0;32m~/miniforge3/lib/python3.9/site-packages/django/db/backends/utils.py:102\u001B[0m, in \u001B[0;36mCursorDebugWrapper.execute\u001B[0;34m(self, sql, params)\u001B[0m\n\u001B[1;32m    100\u001B[0m \u001B[38;5;28;01mdef\u001B[39;00m \u001B[38;5;21mexecute\u001B[39m(\u001B[38;5;28mself\u001B[39m, sql, params\u001B[38;5;241m=\u001B[39m\u001B[38;5;28;01mNone\u001B[39;00m):\n\u001B[1;32m    101\u001B[0m     \u001B[38;5;28;01mwith\u001B[39;00m \u001B[38;5;28mself\u001B[39m\u001B[38;5;241m.\u001B[39mdebug_sql(sql, params, use_last_executed_query\u001B[38;5;241m=\u001B[39m\u001B[38;5;28;01mTrue\u001B[39;00m):\n\u001B[0;32m--> 102\u001B[0m         \u001B[38;5;28;01mreturn\u001B[39;00m \u001B[38;5;28;43msuper\u001B[39;49m\u001B[43m(\u001B[49m\u001B[43m)\u001B[49m\u001B[38;5;241;43m.\u001B[39;49m\u001B[43mexecute\u001B[49m\u001B[43m(\u001B[49m\u001B[43msql\u001B[49m\u001B[43m,\u001B[49m\u001B[43m \u001B[49m\u001B[43mparams\u001B[49m\u001B[43m)\u001B[49m\n",
      "File \u001B[0;32m~/miniforge3/lib/python3.9/site-packages/django/db/backends/utils.py:67\u001B[0m, in \u001B[0;36mCursorWrapper.execute\u001B[0;34m(self, sql, params)\u001B[0m\n\u001B[1;32m     66\u001B[0m \u001B[38;5;28;01mdef\u001B[39;00m \u001B[38;5;21mexecute\u001B[39m(\u001B[38;5;28mself\u001B[39m, sql, params\u001B[38;5;241m=\u001B[39m\u001B[38;5;28;01mNone\u001B[39;00m):\n\u001B[0;32m---> 67\u001B[0m     \u001B[38;5;28;01mreturn\u001B[39;00m \u001B[38;5;28;43mself\u001B[39;49m\u001B[38;5;241;43m.\u001B[39;49m\u001B[43m_execute_with_wrappers\u001B[49m\u001B[43m(\u001B[49m\n\u001B[1;32m     68\u001B[0m \u001B[43m        \u001B[49m\u001B[43msql\u001B[49m\u001B[43m,\u001B[49m\u001B[43m \u001B[49m\u001B[43mparams\u001B[49m\u001B[43m,\u001B[49m\u001B[43m \u001B[49m\u001B[43mmany\u001B[49m\u001B[38;5;241;43m=\u001B[39;49m\u001B[38;5;28;43;01mFalse\u001B[39;49;00m\u001B[43m,\u001B[49m\u001B[43m \u001B[49m\u001B[43mexecutor\u001B[49m\u001B[38;5;241;43m=\u001B[39;49m\u001B[38;5;28;43mself\u001B[39;49m\u001B[38;5;241;43m.\u001B[39;49m\u001B[43m_execute\u001B[49m\n\u001B[1;32m     69\u001B[0m \u001B[43m    \u001B[49m\u001B[43m)\u001B[49m\n",
      "File \u001B[0;32m~/miniforge3/lib/python3.9/site-packages/django/db/backends/utils.py:80\u001B[0m, in \u001B[0;36mCursorWrapper._execute_with_wrappers\u001B[0;34m(self, sql, params, many, executor)\u001B[0m\n\u001B[1;32m     78\u001B[0m \u001B[38;5;28;01mfor\u001B[39;00m wrapper \u001B[38;5;129;01min\u001B[39;00m \u001B[38;5;28mreversed\u001B[39m(\u001B[38;5;28mself\u001B[39m\u001B[38;5;241m.\u001B[39mdb\u001B[38;5;241m.\u001B[39mexecute_wrappers):\n\u001B[1;32m     79\u001B[0m     executor \u001B[38;5;241m=\u001B[39m functools\u001B[38;5;241m.\u001B[39mpartial(wrapper, executor)\n\u001B[0;32m---> 80\u001B[0m \u001B[38;5;28;01mreturn\u001B[39;00m \u001B[43mexecutor\u001B[49m\u001B[43m(\u001B[49m\u001B[43msql\u001B[49m\u001B[43m,\u001B[49m\u001B[43m \u001B[49m\u001B[43mparams\u001B[49m\u001B[43m,\u001B[49m\u001B[43m \u001B[49m\u001B[43mmany\u001B[49m\u001B[43m,\u001B[49m\u001B[43m \u001B[49m\u001B[43mcontext\u001B[49m\u001B[43m)\u001B[49m\n",
      "File \u001B[0;32m~/miniforge3/lib/python3.9/site-packages/django/db/backends/utils.py:89\u001B[0m, in \u001B[0;36mCursorWrapper._execute\u001B[0;34m(self, sql, params, *ignored_wrapper_args)\u001B[0m\n\u001B[1;32m     87\u001B[0m     \u001B[38;5;28;01mreturn\u001B[39;00m \u001B[38;5;28mself\u001B[39m\u001B[38;5;241m.\u001B[39mcursor\u001B[38;5;241m.\u001B[39mexecute(sql)\n\u001B[1;32m     88\u001B[0m \u001B[38;5;28;01melse\u001B[39;00m:\n\u001B[0;32m---> 89\u001B[0m     \u001B[38;5;28;01mreturn\u001B[39;00m \u001B[38;5;28mself\u001B[39m\u001B[38;5;241m.\u001B[39mcursor\u001B[38;5;241m.\u001B[39mexecute(sql, params)\n",
      "File \u001B[0;32m~/miniforge3/lib/python3.9/site-packages/django/db/utils.py:91\u001B[0m, in \u001B[0;36mDatabaseErrorWrapper.__exit__\u001B[0;34m(self, exc_type, exc_value, traceback)\u001B[0m\n\u001B[1;32m     89\u001B[0m \u001B[38;5;28;01mif\u001B[39;00m dj_exc_type \u001B[38;5;129;01mnot\u001B[39;00m \u001B[38;5;129;01min\u001B[39;00m (DataError, IntegrityError):\n\u001B[1;32m     90\u001B[0m     \u001B[38;5;28mself\u001B[39m\u001B[38;5;241m.\u001B[39mwrapper\u001B[38;5;241m.\u001B[39merrors_occurred \u001B[38;5;241m=\u001B[39m \u001B[38;5;28;01mTrue\u001B[39;00m\n\u001B[0;32m---> 91\u001B[0m \u001B[38;5;28;01mraise\u001B[39;00m dj_exc_value\u001B[38;5;241m.\u001B[39mwith_traceback(traceback) \u001B[38;5;28;01mfrom\u001B[39;00m \u001B[38;5;21;01mexc_value\u001B[39;00m\n",
      "File \u001B[0;32m~/miniforge3/lib/python3.9/site-packages/django/db/backends/utils.py:89\u001B[0m, in \u001B[0;36mCursorWrapper._execute\u001B[0;34m(self, sql, params, *ignored_wrapper_args)\u001B[0m\n\u001B[1;32m     87\u001B[0m     \u001B[38;5;28;01mreturn\u001B[39;00m \u001B[38;5;28mself\u001B[39m\u001B[38;5;241m.\u001B[39mcursor\u001B[38;5;241m.\u001B[39mexecute(sql)\n\u001B[1;32m     88\u001B[0m \u001B[38;5;28;01melse\u001B[39;00m:\n\u001B[0;32m---> 89\u001B[0m     \u001B[38;5;28;01mreturn\u001B[39;00m \u001B[38;5;28;43mself\u001B[39;49m\u001B[38;5;241;43m.\u001B[39;49m\u001B[43mcursor\u001B[49m\u001B[38;5;241;43m.\u001B[39;49m\u001B[43mexecute\u001B[49m\u001B[43m(\u001B[49m\u001B[43msql\u001B[49m\u001B[43m,\u001B[49m\u001B[43m \u001B[49m\u001B[43mparams\u001B[49m\u001B[43m)\u001B[49m\n",
      "\u001B[0;31mOperationalError\u001B[0m: server closed the connection unexpectedly\n\tThis probably means the server terminated abnormally\n\tbefore or while processing the request.\n"
     ]
    }
   ],
   "source": [
    "Movie.objects.bulk_create(movie_objects)"
   ]
  },
  {
   "cell_type": "code",
   "execution_count": null,
   "id": "476bd40e",
   "metadata": {},
   "outputs": [],
   "source": [
    "all_dicts = [dict(movie) for _, movie in movie_title_sample.iterrows()]"
   ]
  },
  {
   "cell_type": "code",
   "execution_count": null,
   "id": "4b7d2448",
   "metadata": {},
   "outputs": [],
   "source": [
    "compact_dict = {key: value for key, value in all_dicts[0].items() if not pd.isnull(value)}"
   ]
  },
  {
   "cell_type": "code",
   "execution_count": null,
   "id": "67791d9e",
   "metadata": {},
   "outputs": [],
   "source": [
    "compact_dict"
   ]
  },
  {
   "cell_type": "code",
   "execution_count": null,
   "id": "eb039046",
   "metadata": {},
   "outputs": [],
   "source": [
    "compact_dict = [key for key in all_dicts[0].keys() if not pd.isnull(all_dicts[0][key])]"
   ]
  },
  {
   "cell_type": "code",
   "execution_count": null,
   "id": "63fdab99",
   "metadata": {},
   "outputs": [],
   "source": [
    "compact_dict"
   ]
  },
  {
   "cell_type": "code",
   "execution_count": null,
   "id": "cb3edb07",
   "metadata": {},
   "outputs": [],
   "source": [
    "sample_dict = dict(movie_title_sample.loc[50])"
   ]
  },
  {
   "cell_type": "code",
   "execution_count": null,
   "id": "263f2fb8",
   "metadata": {},
   "outputs": [],
   "source": [
    "new_dict = dict()\n",
    "for key in sample_dict.keys(): \n",
    "    if not pd.isnull(sample_dict[key]):\n",
    "        new_dict[key] = sample_dict[key]"
   ]
  },
  {
   "cell_type": "code",
   "execution_count": null,
   "id": "be7269d6",
   "metadata": {},
   "outputs": [],
   "source": [
    "Movie._meta.get_fields()"
   ]
  },
  {
   "cell_type": "code",
   "execution_count": 16,
   "id": "a9a8bd78",
   "metadata": {},
   "outputs": [],
   "source": [
    "tconsts = Movie.objects.only('tconst')"
   ]
  },
  {
   "cell_type": "code",
   "execution_count": 17,
   "id": "bd883ed5",
   "metadata": {},
   "outputs": [],
   "source": [
    "tconsts = [tconst.tconst for tconst in list(tconsts)]"
   ]
  },
  {
   "cell_type": "code",
   "execution_count": null,
   "id": "f8cde9bb",
   "metadata": {},
   "outputs": [],
   "source": [
    "tconsts"
   ]
  },
  {
   "cell_type": "code",
   "execution_count": null,
   "id": "80b46c7e",
   "metadata": {},
   "outputs": [],
   "source": [
    "from movies.models import Movie"
   ]
  },
  {
   "cell_type": "code",
   "execution_count": null,
   "id": "933429de",
   "metadata": {},
   "outputs": [],
   "source": [
    "Movie.objects.bulk_create(**dict(new_dict))"
   ]
  },
  {
   "cell_type": "code",
   "execution_count": null,
   "id": "96822b97",
   "metadata": {},
   "outputs": [],
   "source": [
    "for key in enumerate(Language.objects.distinct('name').in_bulk(field_name='name')):\n",
    "    print(key)\n",
    "    "
   ]
  },
  {
   "cell_type": "code",
   "execution_count": null,
   "id": "0078b718",
   "metadata": {},
   "outputs": [],
   "source": [
    "Movie.objects.create(**dict(test_file.loc[0]))"
   ]
  },
  {
   "cell_type": "code",
   "execution_count": null,
   "id": "dc0aa167",
   "metadata": {},
   "outputs": [],
   "source": [
    "import_object.import_data()"
   ]
  },
  {
   "cell_type": "code",
   "execution_count": null,
   "id": "23532af2",
   "metadata": {},
   "outputs": [],
   "source": [
    "from common_methods import *"
   ]
  },
  {
   "cell_type": "code",
   "execution_count": null,
   "id": "e5b6b740",
   "metadata": {},
   "outputs": [],
   "source": [
    "aka_sample = pd.read_csv('/Users/timdunn/Desktop/converted_movie_project_data/aka.csv', nrows=100)"
   ]
  },
  {
   "cell_type": "code",
   "execution_count": null,
   "id": "e00dc50f",
   "metadata": {},
   "outputs": [],
   "source": [
    "aka_sample.loc[0:10]"
   ]
  },
  {
   "cell_type": "code",
   "execution_count": null,
   "id": "b56e439d",
   "metadata": {},
   "outputs": [],
   "source": [
    "import_object.import_data()"
   ]
  },
  {
   "cell_type": "code",
   "execution_count": null,
   "id": "5d7f9e42",
   "metadata": {},
   "outputs": [],
   "source": [
    "from movies.models import Movie"
   ]
  },
  {
   "cell_type": "code",
   "execution_count": null,
   "id": "88272c23",
   "metadata": {},
   "outputs": [],
   "source": [
    "Movie.objects.last()"
   ]
  },
  {
   "cell_type": "code",
   "execution_count": null,
   "id": "5bde905f",
   "metadata": {},
   "outputs": [],
   "source": [
    "from scripts.convert_import_data import ConvertImportData"
   ]
  },
  {
   "cell_type": "code",
   "execution_count": null,
   "id": "b3e967b5",
   "metadata": {},
   "outputs": [],
   "source": [
    "convert_import_object = ConvertImportData(\n",
    "    configuration_file='/Users/timdunn/movie_project/all_processes/movie_configuration.yaml')"
   ]
  },
  {
   "cell_type": "code",
   "execution_count": null,
   "id": "8ee6c0fb",
   "metadata": {},
   "outputs": [],
   "source": [
    "convert_import_object.import_data()"
   ]
  },
  {
   "cell_type": "code",
   "execution_count": null,
   "id": "bc365f77",
   "metadata": {},
   "outputs": [],
   "source": [
    "class A:\n",
    "    \n",
    "    def __init__(self, class_object):\n",
    "        self.awesome = 'yes'\n",
    "        self.class_name = class_object.__name__"
   ]
  },
  {
   "cell_type": "code",
   "execution_count": null,
   "id": "9492b2dc",
   "metadata": {},
   "outputs": [],
   "source": [
    "class C:\n",
    "    \n",
    "    def __init__(self, class_object):\n",
    "        self.awesome = 'no'\n",
    "        self.class_name = class_object.__name__"
   ]
  },
  {
   "cell_type": "code",
   "execution_count": null,
   "id": "01fbfd8a",
   "metadata": {},
   "outputs": [],
   "source": [
    "class B(A):\n",
    "    \n",
    "    def __init__(self, model, something='ok'):\n",
    "        self.awesome = something\n",
    "        super().__init__(model)"
   ]
  },
  {
   "cell_type": "code",
   "execution_count": null,
   "id": "8429dc9c",
   "metadata": {},
   "outputs": [],
   "source": [
    "B(A)"
   ]
  },
  {
   "cell_type": "code",
   "execution_count": null,
   "id": "bcf6c7f0",
   "metadata": {},
   "outputs": [],
   "source": [
    "from scripts.add_movie_data import *"
   ]
  },
  {
   "cell_type": "code",
   "execution_count": null,
   "id": "a5cc4722",
   "metadata": {},
   "outputs": [],
   "source": [
    "from all_processes.load_yaml_vars import LoadYamlVars"
   ]
  },
  {
   "cell_type": "code",
   "execution_count": null,
   "id": "e1ee1419",
   "metadata": {},
   "outputs": [],
   "source": [
    "from scripts.data_to_db import DataToDb"
   ]
  },
  {
   "cell_type": "code",
   "execution_count": null,
   "id": "6508b76a",
   "metadata": {},
   "outputs": [],
   "source": [
    "from movies.models import Movie"
   ]
  },
  {
   "cell_type": "code",
   "execution_count": null,
   "id": "b454b895",
   "metadata": {},
   "outputs": [],
   "source": [
    "data_object = DataToDb(Movie, load_vars.merged_movie_title_path, [{\"language\": \"name\"}])"
   ]
  },
  {
   "cell_type": "code",
   "execution_count": null,
   "id": "177d4b9b",
   "metadata": {},
   "outputs": [],
   "source": [
    "load_vars = LoadYamlVars(yaml_file_path='/Users/timdunn/movie_project/all_processes/movie_configuration.yaml')"
   ]
  },
  {
   "cell_type": "code",
   "execution_count": null,
   "id": "1dba2253",
   "metadata": {},
   "outputs": [],
   "source": [
    "add_title_object = AddMovieTitle(import_file_path=load_vars.merged_movie_title_path)"
   ]
  },
  {
   "cell_type": "code",
   "execution_count": null,
   "id": "fdbedc74",
   "metadata": {},
   "outputs": [],
   "source": [
    "from import_all_data import ImportAllData"
   ]
  },
  {
   "cell_type": "code",
   "execution_count": null,
   "id": "0a2006db",
   "metadata": {},
   "outputs": [],
   "source": [
    "from add_movie_data import AddMovieTitle"
   ]
  },
  {
   "cell_type": "code",
   "execution_count": null,
   "id": "0dc91721",
   "metadata": {},
   "outputs": [],
   "source": [
    "movie_title_object = AddMovieTitle(import_object.merged_movie_title_path)"
   ]
  },
  {
   "cell_type": "code",
   "execution_count": null,
   "id": "a031dbea",
   "metadata": {},
   "outputs": [],
   "source": [
    "reflections = movie_title_object.movie_options().get('reflections')"
   ]
  },
  {
   "cell_type": "code",
   "execution_count": null,
   "id": "55a0ca38",
   "metadata": {},
   "outputs": [],
   "source": [
    "movie_title_object.movie_options().keys()"
   ]
  },
  {
   "cell_type": "code",
   "execution_count": null,
   "id": "7094cb42",
   "metadata": {},
   "outputs": [],
   "source": [
    "movie_title_object.foreign_model_reflections()"
   ]
  },
  {
   "cell_type": "code",
   "execution_count": null,
   "id": "39607169",
   "metadata": {},
   "outputs": [],
   "source": [
    "reflections"
   ]
  },
  {
   "cell_type": "code",
   "execution_count": null,
   "id": "4136e04a",
   "metadata": {},
   "outputs": [],
   "source": [
    "import_object.merged_movie_title_path"
   ]
  },
  {
   "cell_type": "code",
   "execution_count": null,
   "id": "00626e41",
   "metadata": {},
   "outputs": [],
   "source": [
    "AddMovieTitle"
   ]
  },
  {
   "cell_type": "code",
   "execution_count": null,
   "id": "5be87de4",
   "metadata": {},
   "outputs": [],
   "source": [
    "import_object = ImportAllData(configuration_file='/Users/timdunn/movie_project/all_processes/movie_configuration.yaml')"
   ]
  },
  {
   "cell_type": "code",
   "execution_count": null,
   "id": "0e27bd59",
   "metadata": {},
   "outputs": [],
   "source": [
    "add_movie_title_object = AddMovieTitle(import_file_path=import_object.import_class_dict().get(AddMovieTitle))"
   ]
  },
  {
   "cell_type": "code",
   "execution_count": null,
   "id": "ac75583c",
   "metadata": {},
   "outputs": [],
   "source": [
    "ImportAllData"
   ]
  },
  {
   "cell_type": "code",
   "execution_count": null,
   "id": "dbf58b50",
   "metadata": {},
   "outputs": [],
   "source": [
    "convert_import_object.convert_and_import()"
   ]
  }
 ],
 "metadata": {
  "kernelspec": {
   "display_name": "Python 3 (ipykernel)",
   "language": "python",
   "name": "python3"
  },
  "language_info": {
   "codemirror_mode": {
    "name": "ipython",
    "version": 3
   },
   "file_extension": ".py",
   "mimetype": "text/x-python",
   "name": "python",
   "nbconvert_exporter": "python",
   "pygments_lexer": "ipython3",
   "version": "3.9.7"
  }
 },
 "nbformat": 4,
 "nbformat_minor": 5
}
