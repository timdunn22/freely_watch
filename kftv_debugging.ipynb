{
 "cells": [
  {
   "cell_type": "code",
   "execution_count": null,
   "id": "dad12ab6",
   "metadata": {},
   "outputs": [],
   "source": [
    "from movie_project.marketing.kftv_scraper import *"
   ]
  },
  {
   "cell_type": "code",
   "execution_count": null,
   "id": "2911dc60",
   "metadata": {},
   "outputs": [],
   "source": [
    "main()"
   ]
  },
  {
   "cell_type": "code",
   "execution_count": null,
   "id": "b25c0a08",
   "metadata": {},
   "outputs": [],
   "source": [
    "from movie_project.common_methods import *"
   ]
  },
  {
   "cell_type": "code",
   "execution_count": null,
   "id": "b01a5578",
   "metadata": {},
   "outputs": [],
   "source": []
  },
  {
   "cell_type": "code",
   "execution_count": null,
   "id": "383805bc",
   "metadata": {},
   "outputs": [],
   "source": [
    "url = 'https://www.kftv.com/country/greece/profile/av-moviesworld'"
   ]
  },
  {
   "cell_type": "code",
   "execution_count": null,
   "id": "7b607cde",
   "metadata": {},
   "outputs": [],
   "source": []
  },
  {
   "cell_type": "code",
   "execution_count": null,
   "id": "f2fdafa1",
   "metadata": {},
   "outputs": [],
   "source": [
    "from movie_project.common_methods import *"
   ]
  },
  {
   "cell_type": "code",
   "execution_count": null,
   "id": "5ee3285a",
   "metadata": {},
   "outputs": [],
   "source": [
    "proxy_info = FreeProxy().get()"
   ]
  },
  {
   "cell_type": "code",
   "execution_count": null,
   "id": "de31a69c",
   "metadata": {},
   "outputs": [],
   "source": [
    "proxy_info"
   ]
  },
  {
   "cell_type": "code",
   "execution_count": null,
   "id": "df245782",
   "metadata": {},
   "outputs": [],
   "source": [
    "options = uc.ChromeOptions()"
   ]
  },
  {
   "cell_type": "code",
   "execution_count": null,
   "id": "ed1c3849",
   "metadata": {},
   "outputs": [],
   "source": [
    "options.add_argument(f'--proxy-server={proxy_info}')"
   ]
  },
  {
   "cell_type": "code",
   "execution_count": null,
   "id": "282fc301",
   "metadata": {},
   "outputs": [],
   "source": [
    "driver = uc.Chrome(use_subprocess=True, headless=True, options=options)"
   ]
  },
  {
   "cell_type": "code",
   "execution_count": null,
   "id": "808275f2",
   "metadata": {},
   "outputs": [],
   "source": [
    "driver.get('https://www.imdb.com')"
   ]
  },
  {
   "cell_type": "code",
   "execution_count": null,
   "id": "b4451ffb",
   "metadata": {},
   "outputs": [],
   "source": [
    "from movie_project.marketing.kftv_scraper import *"
   ]
  },
  {
   "cell_type": "code",
   "execution_count": null,
   "id": "b28aafc1",
   "metadata": {},
   "outputs": [],
   "source": [
    "dicts = [{'a': 1}, {'b': 2}, None]"
   ]
  },
  {
   "cell_type": "code",
   "execution_count": null,
   "id": "443dce57",
   "metadata": {},
   "outputs": [],
   "source": [
    "dicts = [item for item in dicts if type(item) == dict]\n",
    "final_dict = {k:v for d in dicts for k, v in d.items()}"
   ]
  },
  {
   "cell_type": "code",
   "execution_count": null,
   "id": "ac14470a",
   "metadata": {},
   "outputs": [],
   "source": [
    "final_dict"
   ]
  },
  {
   "cell_type": "code",
   "execution_count": null,
   "id": "877a26c4",
   "metadata": {},
   "outputs": [],
   "source": [
    "main(exception_tolerance=1)"
   ]
  },
  {
   "cell_type": "code",
   "execution_count": null,
   "id": "e7c58667",
   "metadata": {},
   "outputs": [],
   "source": [
    "url = 'https://www.imdb.com/whats-on-tv/july-picks/ls520251784/mediaviewer/rm279060737/?ref_=hm_edcft_ft_lst_july23pks_1_i'"
   ]
  },
  {
   "cell_type": "code",
   "execution_count": null,
   "id": "dc5c8f65",
   "metadata": {},
   "outputs": [],
   "source": [
    "proxy_info = FreeProxy().get()"
   ]
  },
  {
   "cell_type": "code",
   "execution_count": null,
   "id": "c98a7d4e",
   "metadata": {},
   "outputs": [],
   "source": [
    "port = proxy_info.split('://')[-1].split(':')[-1]\n",
    "host = \":\".join(proxy_info.split(':')[:-1])"
   ]
  },
  {
   "cell_type": "code",
   "execution_count": null,
   "id": "5acd331b",
   "metadata": {},
   "outputs": [],
   "source": [
    "driver = get_undetected_chromedriver(host, port, True)"
   ]
  },
  {
   "cell_type": "code",
   "execution_count": null,
   "id": "45ff766b",
   "metadata": {},
   "outputs": [],
   "source": [
    "driver.get(url)"
   ]
  },
  {
   "cell_type": "code",
   "execution_count": null,
   "id": "ce6978a8",
   "metadata": {},
   "outputs": [],
   "source": [
    "driver.find_element(By.XPATH, \"//button[@data-dismiss='modal']\").click()"
   ]
  },
  {
   "cell_type": "code",
   "execution_count": null,
   "id": "55837402",
   "metadata": {},
   "outputs": [],
   "source": [
    "soup = get_selenium_soup(driver)"
   ]
  },
  {
   "cell_type": "code",
   "execution_count": null,
   "id": "05c15484",
   "metadata": {},
   "outputs": [],
   "source": [
    "def get_stripped_text(self, *args, **kwargs):\n",
    "    return get_stripped_text_value(soup, args, kwargs)"
   ]
  },
  {
   "cell_type": "code",
   "execution_count": null,
   "id": "7e646793",
   "metadata": {},
   "outputs": [],
   "source": [
    "def get_stripped_text_value(soup, *args):\n",
    "#     try:\n",
    "        return soup.find(args).text.strip()\n",
    "#     except:\n",
    "#         return None"
   ]
  },
  {
   "cell_type": "code",
   "execution_count": null,
   "id": "a80aa87c",
   "metadata": {},
   "outputs": [],
   "source": [
    "get_stripped_text_value(soup, 'h1', {'class': \"HeadingSection\"})"
   ]
  },
  {
   "cell_type": "code",
   "execution_count": null,
   "id": "3fcde461",
   "metadata": {},
   "outputs": [],
   "source": [
    "driver.save_screenshot('/Users/timdunn/Downloads/ss_82.jpg')"
   ]
  },
  {
   "cell_type": "code",
   "execution_count": null,
   "id": "47bb2acc",
   "metadata": {},
   "outputs": [],
   "source": [
    "for _ in range(5):\n",
    "    try:\n",
    "        driver.get('https://www.imdb.com')\n",
    "        driver.save_screenshot('/Users/timdunn/Downloads/ss_82.jpg')\n",
    "        break\n",
    "    except:\n",
    "        pass"
   ]
  },
  {
   "cell_type": "code",
   "execution_count": null,
   "id": "54dfdc69",
   "metadata": {},
   "outputs": [],
   "source": [
    "driver.save_screenshot('/Users/timdunn/Downloads/ss_82.jpg')"
   ]
  }
 ],
 "metadata": {
  "kernelspec": {
   "display_name": "Python 3 (ipykernel)",
   "language": "python",
   "name": "python3"
  },
  "language_info": {
   "codemirror_mode": {
    "name": "ipython",
    "version": 3
   },
   "file_extension": ".py",
   "mimetype": "text/x-python",
   "name": "python",
   "nbconvert_exporter": "python",
   "pygments_lexer": "ipython3",
   "version": "3.9.7"
  }
 },
 "nbformat": 4,
 "nbformat_minor": 5
}
