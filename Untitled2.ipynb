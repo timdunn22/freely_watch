{
 "cells": [
  {
   "cell_type": "code",
   "execution_count": 1,
   "id": "e66c9ca6",
   "metadata": {},
   "outputs": [],
   "source": [
    "from movie_project.marketing.kftv_scraper import (CombineProgressData, ItemManagement, \n",
    "MultiThreadedSeleniumScraper, ThreadManagement)"
   ]
  },
  {
   "cell_type": "code",
   "execution_count": 2,
   "id": "d18d083d",
   "metadata": {},
   "outputs": [],
   "source": [
    "from movie_project.marketing.y_combinator_scraping import YCombinatorScraper"
   ]
  },
  {
   "cell_type": "code",
   "execution_count": 3,
   "id": "e708ad4b",
   "metadata": {},
   "outputs": [],
   "source": [
    "from movie_project.all_processes.load_yaml_vars import LoadYamlVars"
   ]
  },
  {
   "cell_type": "code",
   "execution_count": 4,
   "id": "a3ce693c",
   "metadata": {},
   "outputs": [],
   "source": [
    "import os"
   ]
  },
  {
   "cell_type": "code",
   "execution_count": null,
   "id": "2a89e112",
   "metadata": {},
   "outputs": [],
   "source": [
    "combine_object = CombineProgressData(progress_directory='/Users/timdunn/Desktop/ycomb_progress/', \n",
    "                                     output_file='/Users/timdunn/Desktop/ycomb_profiles.csv', \n",
    "                                     extraction_column='Company Name')"
   ]
  },
  {
   "cell_type": "code",
   "execution_count": null,
   "id": "61d4abf8",
   "metadata": {},
   "outputs": [],
   "source": [
    "item_object = ItemManagement(item_file='/Users/timdunn/Desktop/y_comb_links.csv',\n",
    "                             instances=5, unique_identifier='YCombinator URL',\n",
    "                            item_file_col='url', output_file='/Users/timdunn/Desktop/ycomb_profiles.csv',\n",
    "                            progress_directory='/Users/timdunn/Desktop/ycomb_progress/')"
   ]
  },
  {
   "cell_type": "code",
   "execution_count": 13,
   "id": "c199468f",
   "metadata": {},
   "outputs": [],
   "source": [
    "vars = LoadYamlVars(os.environ.get('YAML_FILE', \n",
    "                                       './movie_project/all_processes/movie_configuration.yaml'))\n",
    "progress_directory = vars.marketing.get('YComb Progress Directory')\n",
    "multi_object = MultiThreadedSeleniumScraper(instances=5, \n",
    "                             progress_directory=progress_directory, \n",
    "                             item_file=vars.marketing.get('YComb Links'), \n",
    "                             scraper_class=YCombinatorScraper, \n",
    "                             proxy_file=vars.proxies_path, \n",
    "                             thread_class=ThreadManagement,\n",
    "                             output_file=vars.marketing.get('YComb Profiles')\n",
    "                             )"
   ]
  },
  {
   "cell_type": "code",
   "execution_count": null,
   "id": "76c3f39d",
   "metadata": {},
   "outputs": [],
   "source": [
    "import pandas as pd"
   ]
  },
  {
   "cell_type": "code",
   "execution_count": null,
   "id": "70194f11",
   "metadata": {},
   "outputs": [],
   "source": [
    "main_hrefs = pd.read_csv('/Users/timdunn/Desktop/ycombinator_hrefs.csv')"
   ]
  },
  {
   "cell_type": "code",
   "execution_count": null,
   "id": "0d14d3cd",
   "metadata": {},
   "outputs": [],
   "source": [
    "main_hrefs['href'] = main_hrefs['url']\n",
    "main_hrefs.drop(columns=['url'], inplace=True)"
   ]
  },
  {
   "cell_type": "code",
   "execution_count": null,
   "id": "fa20390d",
   "metadata": {},
   "outputs": [],
   "source": [
    "all_hrefs = pd.concat([main_hrefs, pd.read_csv('/Users/timdunn/Desktop/y_comb_links.csv')])"
   ]
  },
  {
   "cell_type": "code",
   "execution_count": null,
   "id": "01c71e00",
   "metadata": {},
   "outputs": [],
   "source": [
    "all_hrefs.drop_duplicates('/Users/timdunn/Desktop/y_comb_links.csv', inplace=True)"
   ]
  },
  {
   "cell_type": "code",
   "execution_count": null,
   "id": "82f4b393",
   "metadata": {},
   "outputs": [],
   "source": [
    "all_hrefs.to_csv('/Users/timdunn/Desktop/y_comb_links.csv', index=False)"
   ]
  },
  {
   "cell_type": "code",
   "execution_count": 14,
   "id": "b6140b3b",
   "metadata": {},
   "outputs": [
    {
     "data": {
      "text/plain": [
       "1931"
      ]
     },
     "execution_count": 14,
     "metadata": {},
     "output_type": "execute_result"
    }
   ],
   "source": [
    "len(multi_object.items_object.items)"
   ]
  },
  {
   "cell_type": "code",
   "execution_count": 8,
   "id": "cfa90a65",
   "metadata": {},
   "outputs": [
    {
     "data": {
      "text/plain": [
       "'Company Name'"
      ]
     },
     "execution_count": 8,
     "metadata": {},
     "output_type": "execute_result"
    }
   ],
   "source": [
    "multi_object.extraction_column"
   ]
  },
  {
   "cell_type": "code",
   "execution_count": null,
   "id": "80202721",
   "metadata": {},
   "outputs": [],
   "source": [
    "progress_list = multi_object.items_object.get_progress_items()"
   ]
  },
  {
   "cell_type": "code",
   "execution_count": null,
   "id": "84d991d7",
   "metadata": {},
   "outputs": [],
   "source": [
    "progress_list"
   ]
  },
  {
   "cell_type": "code",
   "execution_count": null,
   "id": "09b1f439",
   "metadata": {},
   "outputs": [],
   "source": [
    "outfile_items = multi_object.items_object.get_output_items()"
   ]
  },
  {
   "cell_type": "code",
   "execution_count": null,
   "id": "176fa6a7",
   "metadata": {},
   "outputs": [],
   "source": [
    "outfile_items"
   ]
  },
  {
   "cell_type": "code",
   "execution_count": null,
   "id": "e59e1f1d",
   "metadata": {},
   "outputs": [],
   "source": [
    "scraped = multi_object.items_object.get_already_scraped()"
   ]
  },
  {
   "cell_type": "code",
   "execution_count": null,
   "id": "b75c9a11",
   "metadata": {},
   "outputs": [],
   "source": []
  },
  {
   "cell_type": "code",
   "execution_count": null,
   "id": "0b55cfa3",
   "metadata": {},
   "outputs": [],
   "source": [
    "scraped"
   ]
  },
  {
   "cell_type": "code",
   "execution_count": null,
   "id": "97522542",
   "metadata": {},
   "outputs": [],
   "source": [
    "len(multi_object.items_object.items)"
   ]
  },
  {
   "cell_type": "code",
   "execution_count": null,
   "id": "377ad5bf",
   "metadata": {},
   "outputs": [],
   "source": [
    "already_scraped = multi_object.items_object.get_already_scraped()"
   ]
  },
  {
   "cell_type": "code",
   "execution_count": null,
   "id": "cb56afc7",
   "metadata": {},
   "outputs": [],
   "source": [
    "already_scraped"
   ]
  },
  {
   "cell_type": "code",
   "execution_count": null,
   "id": "54e98141",
   "metadata": {},
   "outputs": [],
   "source": [
    "df = combine_object.get_data()"
   ]
  },
  {
   "cell_type": "code",
   "execution_count": null,
   "id": "edca6c6e",
   "metadata": {},
   "outputs": [],
   "source": [
    "df"
   ]
  },
  {
   "cell_type": "code",
   "execution_count": null,
   "id": "515c91ed",
   "metadata": {},
   "outputs": [],
   "source": [
    "combine_object.extraction_column"
   ]
  },
  {
   "cell_type": "code",
   "execution_count": null,
   "id": "84541e43",
   "metadata": {},
   "outputs": [],
   "source": [
    "np.unique()"
   ]
  },
  {
   "cell_type": "code",
   "execution_count": null,
   "id": "e432e418",
   "metadata": {},
   "outputs": [],
   "source": [
    "df.columns"
   ]
  },
  {
   "cell_type": "code",
   "execution_count": null,
   "id": "3ebad08a",
   "metadata": {},
   "outputs": [],
   "source": [
    "from movie_project.common_methods import flatten"
   ]
  },
  {
   "cell_type": "code",
   "execution_count": null,
   "id": "aaa58184",
   "metadata": {},
   "outputs": [],
   "source": [
    "dfs"
   ]
  },
  {
   "cell_type": "code",
   "execution_count": null,
   "id": "4784501b",
   "metadata": {},
   "outputs": [],
   "source": [
    "dfs = combine_object.get_output_data()"
   ]
  },
  {
   "cell_type": "code",
   "execution_count": null,
   "id": "a2ae236f",
   "metadata": {},
   "outputs": [],
   "source": [
    "dfs = combine_object.get_output_data()\n",
    "dfs.append(list(combine_object.get_progress_data()))\n",
    "dfs = flatten(dfs)"
   ]
  },
  {
   "cell_type": "code",
   "execution_count": null,
   "id": "4c391623",
   "metadata": {},
   "outputs": [],
   "source": []
  },
  {
   "cell_type": "code",
   "execution_count": null,
   "id": "4510c565",
   "metadata": {},
   "outputs": [],
   "source": [
    "dfs = combine_object.get_output_data()\n",
    "dfs.append(list(combine_object.get_progress_data()))\n",
    "dfs = flatten(dfs)\n",
    "combine_object.data = pd.concat(dfs)\n",
    "combine_object.drop_index_columns()\n",
    "combine_object.data.drop_duplicates(subset=[combine_object.extraction_column])\n",
    "df = combine_object.data"
   ]
  },
  {
   "cell_type": "code",
   "execution_count": null,
   "id": "ab7e38d2",
   "metadata": {},
   "outputs": [],
   "source": [
    "output_data = combine_object.get_output_data()"
   ]
  },
  {
   "cell_type": "code",
   "execution_count": null,
   "id": "3775aebe",
   "metadata": {},
   "outputs": [],
   "source": [
    "combine_object.get_progress_data()"
   ]
  },
  {
   "cell_type": "code",
   "execution_count": null,
   "id": "eb24fc9a",
   "metadata": {},
   "outputs": [],
   "source": [
    "progress_data = combine_object.get_progress_data()"
   ]
  },
  {
   "cell_type": "code",
   "execution_count": null,
   "id": "8185d9e5",
   "metadata": {},
   "outputs": [],
   "source": [
    "progress_data"
   ]
  },
  {
   "cell_type": "code",
   "execution_count": null,
   "id": "25f30347",
   "metadata": {},
   "outputs": [],
   "source": [
    "progress_data"
   ]
  },
  {
   "cell_type": "code",
   "execution_count": null,
   "id": "778a2cdb",
   "metadata": {},
   "outputs": [],
   "source": [
    "progress_dfs = combine_object.get_progress_dfs()"
   ]
  },
  {
   "cell_type": "code",
   "execution_count": null,
   "id": "42bf754f",
   "metadata": {},
   "outputs": [],
   "source": [
    "import pandas as pd"
   ]
  },
  {
   "cell_type": "code",
   "execution_count": null,
   "id": "dead701e",
   "metadata": {},
   "outputs": [],
   "source": [
    "dfs_concated = pd.concat(progress_dfs)"
   ]
  },
  {
   "cell_type": "code",
   "execution_count": null,
   "id": "c92a1197",
   "metadata": {},
   "outputs": [],
   "source": [
    "dfs_concated.drop_duplicates(subset=['YCombinator URL', 'Company Name'])"
   ]
  },
  {
   "cell_type": "code",
   "execution_count": null,
   "id": "b8420438",
   "metadata": {},
   "outputs": [],
   "source": []
  }
 ],
 "metadata": {
  "kernelspec": {
   "display_name": "Python 3 (ipykernel)",
   "language": "python",
   "name": "python3"
  },
  "language_info": {
   "codemirror_mode": {
    "name": "ipython",
    "version": 3
   },
   "file_extension": ".py",
   "mimetype": "text/x-python",
   "name": "python",
   "nbconvert_exporter": "python",
   "pygments_lexer": "ipython3",
   "version": "3.9.7"
  }
 },
 "nbformat": 4,
 "nbformat_minor": 5
}
