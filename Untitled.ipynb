{
 "cells": [
  {
   "cell_type": "code",
   "execution_count": 1,
   "id": "14cc5ad7",
   "metadata": {},
   "outputs": [],
   "source": [
    "import pandas as pd"
   ]
  },
  {
   "cell_type": "code",
   "execution_count": 12,
   "id": "9ed0e3b0",
   "metadata": {},
   "outputs": [],
   "source": [
    "extra_imdb = pd.read_csv('/Users/timdunn/Desktop/extra_data_imdb.csv', usecols=['tconst'])"
   ]
  },
  {
   "cell_type": "code",
   "execution_count": 4,
   "id": "6e55b392",
   "metadata": {},
   "outputs": [],
   "source": [
    "import numpy as np"
   ]
  },
  {
   "cell_type": "code",
   "execution_count": 13,
   "id": "0475e937",
   "metadata": {},
   "outputs": [
    {
     "data": {
      "text/plain": [
       "578043"
      ]
     },
     "execution_count": 13,
     "metadata": {},
     "output_type": "execute_result"
    }
   ],
   "source": [
    "np.unique(extra_imdb['tconst']).size"
   ]
  },
  {
   "cell_type": "code",
   "execution_count": 5,
   "id": "45c3455e",
   "metadata": {},
   "outputs": [
    {
     "data": {
      "text/plain": [
       "512596"
      ]
     },
     "execution_count": 5,
     "metadata": {},
     "output_type": "execute_result"
    }
   ],
   "source": [
    "np.unique(extra_imdb['tconst']).size"
   ]
  },
  {
   "cell_type": "code",
   "execution_count": 6,
   "id": "d8e8747c",
   "metadata": {},
   "outputs": [],
   "source": [
    "from common_methods import *"
   ]
  },
  {
   "cell_type": "code",
   "execution_count": 7,
   "id": "cd83ed33",
   "metadata": {},
   "outputs": [],
   "source": [
    "tconst_dfs = [pd.read_csv(file, usecols=['tconst']) for file in listdir_nohidden('/Users/timdunn/Desktop/imdb_info/')]"
   ]
  },
  {
   "cell_type": "code",
   "execution_count": 8,
   "id": "54bf20b6",
   "metadata": {},
   "outputs": [],
   "source": [
    "tconsts = pd.concat(tconst_dfs)"
   ]
  },
  {
   "cell_type": "code",
   "execution_count": 9,
   "id": "0aaa1b7d",
   "metadata": {},
   "outputs": [
    {
     "data": {
      "text/plain": [
       "414"
      ]
     },
     "execution_count": 9,
     "metadata": {},
     "output_type": "execute_result"
    }
   ],
   "source": [
    "np.unique(tconsts['tconst']).size"
   ]
  },
  {
   "cell_type": "code",
   "execution_count": 11,
   "id": "055bb60d",
   "metadata": {},
   "outputs": [
    {
     "data": {
      "text/plain": [
       "414"
      ]
     },
     "execution_count": 11,
     "metadata": {},
     "output_type": "execute_result"
    }
   ],
   "source": [
    "np.unique(pd.concat([tconsts, extra_imdb])['tconst']).size - np.unique(extra_imdb['tconst']).size"
   ]
  },
  {
   "cell_type": "code",
   "execution_count": null,
   "id": "0bde89ae",
   "metadata": {},
   "outputs": [],
   "source": [
    "from scripts.convert_import_data import ConvertImportData"
   ]
  },
  {
   "cell_type": "code",
   "execution_count": null,
   "id": "e0af87db",
   "metadata": {},
   "outputs": [],
   "source": [
    "convert_import_object = ConvertImportData(\n",
    "    configuration_file='/Users/timdunn/movie_project/all_processes/movie_configuration.yaml', force_update=True)"
   ]
  },
  {
   "cell_type": "code",
   "execution_count": null,
   "id": "ae12a60b",
   "metadata": {},
   "outputs": [],
   "source": [
    "convert_import_object.convert_and_import()"
   ]
  },
  {
   "cell_type": "code",
   "execution_count": 1,
   "id": "dd181090",
   "metadata": {},
   "outputs": [],
   "source": [
    "from scripts.import_all_data import ImportAllData"
   ]
  },
  {
   "cell_type": "code",
   "execution_count": 2,
   "id": "c47ac362",
   "metadata": {},
   "outputs": [],
   "source": [
    "from movies.models import *"
   ]
  },
  {
   "cell_type": "code",
   "execution_count": 22,
   "id": "620c270c",
   "metadata": {},
   "outputs": [],
   "source": [
    "genres = Genre.objects.values('name')"
   ]
  },
  {
   "cell_type": "code",
   "execution_count": 27,
   "id": "c542c07b",
   "metadata": {},
   "outputs": [],
   "source": [
    "genres = [genre.get('name') for genre in genres]"
   ]
  },
  {
   "cell_type": "code",
   "execution_count": 52,
   "id": "f0b09790",
   "metadata": {},
   "outputs": [],
   "source": [
    "from django.db.models.functions import Lower"
   ]
  },
  {
   "cell_type": "code",
   "execution_count": 48,
   "id": "0824b5bf",
   "metadata": {},
   "outputs": [],
   "source": [
    "from django.db.models import F"
   ]
  },
  {
   "cell_type": "code",
   "execution_count": 59,
   "id": "28cfc629",
   "metadata": {},
   "outputs": [],
   "source": [
    "languages = Language.objects.annotate(name_lower=Lower('name')).exclude(name_lower=F('name')).exclude(name='None').values('name')"
   ]
  },
  {
   "cell_type": "code",
   "execution_count": 60,
   "id": "8e1e82d7",
   "metadata": {},
   "outputs": [],
   "source": [
    "languages = [language.get('name') for language in languages]"
   ]
  },
  {
   "cell_type": "code",
   "execution_count": 63,
   "id": "2fc46667",
   "metadata": {},
   "outputs": [],
   "source": [
    "movie_fields = [field.attname for field in Movie._meta.fields]"
   ]
  },
  {
   "cell_type": "code",
   "execution_count": 100,
   "id": "1e9cae24",
   "metadata": {},
   "outputs": [],
   "source": [
    "from django_elasticsearch_dsl import (Document, fields, Index)"
   ]
  },
  {
   "cell_type": "code",
   "execution_count": 106,
   "id": "63363b74",
   "metadata": {},
   "outputs": [],
   "source": [
    "from movies.documents import MovieDocument"
   ]
  },
  {
   "cell_type": "code",
   "execution_count": 107,
   "id": "e4389410",
   "metadata": {},
   "outputs": [],
   "source": [
    "movies = MovieDocument.search().query('match', primary_title='matrix')"
   ]
  },
  {
   "cell_type": "code",
   "execution_count": 109,
   "id": "2e7f2754",
   "metadata": {},
   "outputs": [
    {
     "ename": "ConnectionError",
     "evalue": "ConnectionError(<urllib3.connection.HTTPConnection object at 0x2d4de1130>: Failed to establish a new connection: [Errno 8] nodename nor servname provided, or not known) caused by: NewConnectionError(<urllib3.connection.HTTPConnection object at 0x2d4de1130>: Failed to establish a new connection: [Errno 8] nodename nor servname provided, or not known)",
     "output_type": "error",
     "traceback": [
      "\u001b[0;31m---------------------------------------------------------------------------\u001b[0m",
      "\u001b[0;31mgaierror\u001b[0m                                  Traceback (most recent call last)",
      "File \u001b[0;32m~/miniforge3/lib/python3.9/site-packages/urllib3/connection.py:174\u001b[0m, in \u001b[0;36mHTTPConnection._new_conn\u001b[0;34m(self)\u001b[0m\n\u001b[1;32m    173\u001b[0m \u001b[38;5;28;01mtry\u001b[39;00m:\n\u001b[0;32m--> 174\u001b[0m     conn \u001b[38;5;241m=\u001b[39m \u001b[43mconnection\u001b[49m\u001b[38;5;241;43m.\u001b[39;49m\u001b[43mcreate_connection\u001b[49m\u001b[43m(\u001b[49m\n\u001b[1;32m    175\u001b[0m \u001b[43m        \u001b[49m\u001b[43m(\u001b[49m\u001b[38;5;28;43mself\u001b[39;49m\u001b[38;5;241;43m.\u001b[39;49m\u001b[43m_dns_host\u001b[49m\u001b[43m,\u001b[49m\u001b[43m \u001b[49m\u001b[38;5;28;43mself\u001b[39;49m\u001b[38;5;241;43m.\u001b[39;49m\u001b[43mport\u001b[49m\u001b[43m)\u001b[49m\u001b[43m,\u001b[49m\u001b[43m \u001b[49m\u001b[38;5;28;43mself\u001b[39;49m\u001b[38;5;241;43m.\u001b[39;49m\u001b[43mtimeout\u001b[49m\u001b[43m,\u001b[49m\u001b[43m \u001b[49m\u001b[38;5;241;43m*\u001b[39;49m\u001b[38;5;241;43m*\u001b[39;49m\u001b[43mextra_kw\u001b[49m\n\u001b[1;32m    176\u001b[0m \u001b[43m    \u001b[49m\u001b[43m)\u001b[49m\n\u001b[1;32m    178\u001b[0m \u001b[38;5;28;01mexcept\u001b[39;00m SocketTimeout:\n",
      "File \u001b[0;32m~/miniforge3/lib/python3.9/site-packages/urllib3/util/connection.py:73\u001b[0m, in \u001b[0;36mcreate_connection\u001b[0;34m(address, timeout, source_address, socket_options)\u001b[0m\n\u001b[1;32m     69\u001b[0m     \u001b[38;5;28;01mreturn\u001b[39;00m six\u001b[38;5;241m.\u001b[39mraise_from(\n\u001b[1;32m     70\u001b[0m         LocationParseError(\u001b[38;5;124mu\u001b[39m\u001b[38;5;124m\"\u001b[39m\u001b[38;5;124m'\u001b[39m\u001b[38;5;132;01m%s\u001b[39;00m\u001b[38;5;124m'\u001b[39m\u001b[38;5;124m, label empty or too long\u001b[39m\u001b[38;5;124m\"\u001b[39m \u001b[38;5;241m%\u001b[39m host), \u001b[38;5;28;01mNone\u001b[39;00m\n\u001b[1;32m     71\u001b[0m     )\n\u001b[0;32m---> 73\u001b[0m \u001b[38;5;28;01mfor\u001b[39;00m res \u001b[38;5;129;01min\u001b[39;00m \u001b[43msocket\u001b[49m\u001b[38;5;241;43m.\u001b[39;49m\u001b[43mgetaddrinfo\u001b[49m\u001b[43m(\u001b[49m\u001b[43mhost\u001b[49m\u001b[43m,\u001b[49m\u001b[43m \u001b[49m\u001b[43mport\u001b[49m\u001b[43m,\u001b[49m\u001b[43m \u001b[49m\u001b[43mfamily\u001b[49m\u001b[43m,\u001b[49m\u001b[43m \u001b[49m\u001b[43msocket\u001b[49m\u001b[38;5;241;43m.\u001b[39;49m\u001b[43mSOCK_STREAM\u001b[49m\u001b[43m)\u001b[49m:\n\u001b[1;32m     74\u001b[0m     af, socktype, proto, canonname, sa \u001b[38;5;241m=\u001b[39m res\n",
      "File \u001b[0;32m~/miniforge3/lib/python3.9/socket.py:954\u001b[0m, in \u001b[0;36mgetaddrinfo\u001b[0;34m(host, port, family, type, proto, flags)\u001b[0m\n\u001b[1;32m    953\u001b[0m addrlist \u001b[38;5;241m=\u001b[39m []\n\u001b[0;32m--> 954\u001b[0m \u001b[38;5;28;01mfor\u001b[39;00m res \u001b[38;5;129;01min\u001b[39;00m \u001b[43m_socket\u001b[49m\u001b[38;5;241;43m.\u001b[39;49m\u001b[43mgetaddrinfo\u001b[49m\u001b[43m(\u001b[49m\u001b[43mhost\u001b[49m\u001b[43m,\u001b[49m\u001b[43m \u001b[49m\u001b[43mport\u001b[49m\u001b[43m,\u001b[49m\u001b[43m \u001b[49m\u001b[43mfamily\u001b[49m\u001b[43m,\u001b[49m\u001b[43m \u001b[49m\u001b[38;5;28;43mtype\u001b[39;49m\u001b[43m,\u001b[49m\u001b[43m \u001b[49m\u001b[43mproto\u001b[49m\u001b[43m,\u001b[49m\u001b[43m \u001b[49m\u001b[43mflags\u001b[49m\u001b[43m)\u001b[49m:\n\u001b[1;32m    955\u001b[0m     af, socktype, proto, canonname, sa \u001b[38;5;241m=\u001b[39m res\n",
      "\u001b[0;31mgaierror\u001b[0m: [Errno 8] nodename nor servname provided, or not known",
      "\nDuring handling of the above exception, another exception occurred:\n",
      "\u001b[0;31mNewConnectionError\u001b[0m                        Traceback (most recent call last)",
      "File \u001b[0;32m~/miniforge3/lib/python3.9/site-packages/elasticsearch/connection/http_urllib3.py:255\u001b[0m, in \u001b[0;36mUrllib3HttpConnection.perform_request\u001b[0;34m(self, method, url, params, body, timeout, ignore, headers)\u001b[0m\n\u001b[1;32m    253\u001b[0m     request_headers[\u001b[38;5;124m\"\u001b[39m\u001b[38;5;124mcontent-encoding\u001b[39m\u001b[38;5;124m\"\u001b[39m] \u001b[38;5;241m=\u001b[39m \u001b[38;5;124m\"\u001b[39m\u001b[38;5;124mgzip\u001b[39m\u001b[38;5;124m\"\u001b[39m\n\u001b[0;32m--> 255\u001b[0m response \u001b[38;5;241m=\u001b[39m \u001b[38;5;28;43mself\u001b[39;49m\u001b[38;5;241;43m.\u001b[39;49m\u001b[43mpool\u001b[49m\u001b[38;5;241;43m.\u001b[39;49m\u001b[43murlopen\u001b[49m\u001b[43m(\u001b[49m\n\u001b[1;32m    256\u001b[0m \u001b[43m    \u001b[49m\u001b[43mmethod\u001b[49m\u001b[43m,\u001b[49m\u001b[43m \u001b[49m\u001b[43murl\u001b[49m\u001b[43m,\u001b[49m\u001b[43m \u001b[49m\u001b[43mbody\u001b[49m\u001b[43m,\u001b[49m\u001b[43m \u001b[49m\u001b[43mretries\u001b[49m\u001b[38;5;241;43m=\u001b[39;49m\u001b[43mRetry\u001b[49m\u001b[43m(\u001b[49m\u001b[38;5;28;43;01mFalse\u001b[39;49;00m\u001b[43m)\u001b[49m\u001b[43m,\u001b[49m\u001b[43m \u001b[49m\u001b[43mheaders\u001b[49m\u001b[38;5;241;43m=\u001b[39;49m\u001b[43mrequest_headers\u001b[49m\u001b[43m,\u001b[49m\u001b[43m \u001b[49m\u001b[38;5;241;43m*\u001b[39;49m\u001b[38;5;241;43m*\u001b[39;49m\u001b[43mkw\u001b[49m\n\u001b[1;32m    257\u001b[0m \u001b[43m\u001b[49m\u001b[43m)\u001b[49m\n\u001b[1;32m    258\u001b[0m response_headers \u001b[38;5;241m=\u001b[39m {\n\u001b[1;32m    259\u001b[0m     header\u001b[38;5;241m.\u001b[39mlower(): value \u001b[38;5;28;01mfor\u001b[39;00m header, value \u001b[38;5;129;01min\u001b[39;00m response\u001b[38;5;241m.\u001b[39mheaders\u001b[38;5;241m.\u001b[39mitems()\n\u001b[1;32m    260\u001b[0m }\n",
      "File \u001b[0;32m~/miniforge3/lib/python3.9/site-packages/urllib3/connectionpool.py:755\u001b[0m, in \u001b[0;36mHTTPConnectionPool.urlopen\u001b[0;34m(self, method, url, body, headers, retries, redirect, assert_same_host, timeout, pool_timeout, release_conn, chunked, body_pos, **response_kw)\u001b[0m\n\u001b[1;32m    753\u001b[0m     e \u001b[38;5;241m=\u001b[39m ProtocolError(\u001b[38;5;124m\"\u001b[39m\u001b[38;5;124mConnection aborted.\u001b[39m\u001b[38;5;124m\"\u001b[39m, e)\n\u001b[0;32m--> 755\u001b[0m retries \u001b[38;5;241m=\u001b[39m \u001b[43mretries\u001b[49m\u001b[38;5;241;43m.\u001b[39;49m\u001b[43mincrement\u001b[49m\u001b[43m(\u001b[49m\n\u001b[1;32m    756\u001b[0m \u001b[43m    \u001b[49m\u001b[43mmethod\u001b[49m\u001b[43m,\u001b[49m\u001b[43m \u001b[49m\u001b[43murl\u001b[49m\u001b[43m,\u001b[49m\u001b[43m \u001b[49m\u001b[43merror\u001b[49m\u001b[38;5;241;43m=\u001b[39;49m\u001b[43me\u001b[49m\u001b[43m,\u001b[49m\u001b[43m \u001b[49m\u001b[43m_pool\u001b[49m\u001b[38;5;241;43m=\u001b[39;49m\u001b[38;5;28;43mself\u001b[39;49m\u001b[43m,\u001b[49m\u001b[43m \u001b[49m\u001b[43m_stacktrace\u001b[49m\u001b[38;5;241;43m=\u001b[39;49m\u001b[43msys\u001b[49m\u001b[38;5;241;43m.\u001b[39;49m\u001b[43mexc_info\u001b[49m\u001b[43m(\u001b[49m\u001b[43m)\u001b[49m\u001b[43m[\u001b[49m\u001b[38;5;241;43m2\u001b[39;49m\u001b[43m]\u001b[49m\n\u001b[1;32m    757\u001b[0m \u001b[43m\u001b[49m\u001b[43m)\u001b[49m\n\u001b[1;32m    758\u001b[0m retries\u001b[38;5;241m.\u001b[39msleep()\n",
      "File \u001b[0;32m~/miniforge3/lib/python3.9/site-packages/urllib3/util/retry.py:507\u001b[0m, in \u001b[0;36mRetry.increment\u001b[0;34m(self, method, url, response, error, _pool, _stacktrace)\u001b[0m\n\u001b[1;32m    505\u001b[0m \u001b[38;5;28;01mif\u001b[39;00m \u001b[38;5;28mself\u001b[39m\u001b[38;5;241m.\u001b[39mtotal \u001b[38;5;129;01mis\u001b[39;00m \u001b[38;5;28;01mFalse\u001b[39;00m \u001b[38;5;129;01mand\u001b[39;00m error:\n\u001b[1;32m    506\u001b[0m     \u001b[38;5;66;03m# Disabled, indicate to re-raise the error.\u001b[39;00m\n\u001b[0;32m--> 507\u001b[0m     \u001b[38;5;28;01mraise\u001b[39;00m \u001b[43msix\u001b[49m\u001b[38;5;241;43m.\u001b[39;49m\u001b[43mreraise\u001b[49m\u001b[43m(\u001b[49m\u001b[38;5;28;43mtype\u001b[39;49m\u001b[43m(\u001b[49m\u001b[43merror\u001b[49m\u001b[43m)\u001b[49m\u001b[43m,\u001b[49m\u001b[43m \u001b[49m\u001b[43merror\u001b[49m\u001b[43m,\u001b[49m\u001b[43m \u001b[49m\u001b[43m_stacktrace\u001b[49m\u001b[43m)\u001b[49m\n\u001b[1;32m    509\u001b[0m total \u001b[38;5;241m=\u001b[39m \u001b[38;5;28mself\u001b[39m\u001b[38;5;241m.\u001b[39mtotal\n",
      "File \u001b[0;32m~/miniforge3/lib/python3.9/site-packages/urllib3/packages/six.py:770\u001b[0m, in \u001b[0;36mreraise\u001b[0;34m(tp, value, tb)\u001b[0m\n\u001b[1;32m    769\u001b[0m         \u001b[38;5;28;01mraise\u001b[39;00m value\u001b[38;5;241m.\u001b[39mwith_traceback(tb)\n\u001b[0;32m--> 770\u001b[0m     \u001b[38;5;28;01mraise\u001b[39;00m value\n\u001b[1;32m    771\u001b[0m \u001b[38;5;28;01mfinally\u001b[39;00m:\n",
      "File \u001b[0;32m~/miniforge3/lib/python3.9/site-packages/urllib3/connectionpool.py:699\u001b[0m, in \u001b[0;36mHTTPConnectionPool.urlopen\u001b[0;34m(self, method, url, body, headers, retries, redirect, assert_same_host, timeout, pool_timeout, release_conn, chunked, body_pos, **response_kw)\u001b[0m\n\u001b[1;32m    698\u001b[0m \u001b[38;5;66;03m# Make the request on the httplib connection object.\u001b[39;00m\n\u001b[0;32m--> 699\u001b[0m httplib_response \u001b[38;5;241m=\u001b[39m \u001b[38;5;28;43mself\u001b[39;49m\u001b[38;5;241;43m.\u001b[39;49m\u001b[43m_make_request\u001b[49m\u001b[43m(\u001b[49m\n\u001b[1;32m    700\u001b[0m \u001b[43m    \u001b[49m\u001b[43mconn\u001b[49m\u001b[43m,\u001b[49m\n\u001b[1;32m    701\u001b[0m \u001b[43m    \u001b[49m\u001b[43mmethod\u001b[49m\u001b[43m,\u001b[49m\n\u001b[1;32m    702\u001b[0m \u001b[43m    \u001b[49m\u001b[43murl\u001b[49m\u001b[43m,\u001b[49m\n\u001b[1;32m    703\u001b[0m \u001b[43m    \u001b[49m\u001b[43mtimeout\u001b[49m\u001b[38;5;241;43m=\u001b[39;49m\u001b[43mtimeout_obj\u001b[49m\u001b[43m,\u001b[49m\n\u001b[1;32m    704\u001b[0m \u001b[43m    \u001b[49m\u001b[43mbody\u001b[49m\u001b[38;5;241;43m=\u001b[39;49m\u001b[43mbody\u001b[49m\u001b[43m,\u001b[49m\n\u001b[1;32m    705\u001b[0m \u001b[43m    \u001b[49m\u001b[43mheaders\u001b[49m\u001b[38;5;241;43m=\u001b[39;49m\u001b[43mheaders\u001b[49m\u001b[43m,\u001b[49m\n\u001b[1;32m    706\u001b[0m \u001b[43m    \u001b[49m\u001b[43mchunked\u001b[49m\u001b[38;5;241;43m=\u001b[39;49m\u001b[43mchunked\u001b[49m\u001b[43m,\u001b[49m\n\u001b[1;32m    707\u001b[0m \u001b[43m\u001b[49m\u001b[43m)\u001b[49m\n\u001b[1;32m    709\u001b[0m \u001b[38;5;66;03m# If we're going to release the connection in ``finally:``, then\u001b[39;00m\n\u001b[1;32m    710\u001b[0m \u001b[38;5;66;03m# the response doesn't need to know about the connection. Otherwise\u001b[39;00m\n\u001b[1;32m    711\u001b[0m \u001b[38;5;66;03m# it will also try to release it and we'll have a double-release\u001b[39;00m\n\u001b[1;32m    712\u001b[0m \u001b[38;5;66;03m# mess.\u001b[39;00m\n",
      "File \u001b[0;32m~/miniforge3/lib/python3.9/site-packages/urllib3/connectionpool.py:394\u001b[0m, in \u001b[0;36mHTTPConnectionPool._make_request\u001b[0;34m(self, conn, method, url, timeout, chunked, **httplib_request_kw)\u001b[0m\n\u001b[1;32m    393\u001b[0m     \u001b[38;5;28;01melse\u001b[39;00m:\n\u001b[0;32m--> 394\u001b[0m         \u001b[43mconn\u001b[49m\u001b[38;5;241;43m.\u001b[39;49m\u001b[43mrequest\u001b[49m\u001b[43m(\u001b[49m\u001b[43mmethod\u001b[49m\u001b[43m,\u001b[49m\u001b[43m \u001b[49m\u001b[43murl\u001b[49m\u001b[43m,\u001b[49m\u001b[43m \u001b[49m\u001b[38;5;241;43m*\u001b[39;49m\u001b[38;5;241;43m*\u001b[39;49m\u001b[43mhttplib_request_kw\u001b[49m\u001b[43m)\u001b[49m\n\u001b[1;32m    396\u001b[0m \u001b[38;5;66;03m# We are swallowing BrokenPipeError (errno.EPIPE) since the server is\u001b[39;00m\n\u001b[1;32m    397\u001b[0m \u001b[38;5;66;03m# legitimately able to close the connection after sending a valid response.\u001b[39;00m\n\u001b[1;32m    398\u001b[0m \u001b[38;5;66;03m# With this behaviour, the received response is still readable.\u001b[39;00m\n",
      "File \u001b[0;32m~/miniforge3/lib/python3.9/site-packages/urllib3/connection.py:239\u001b[0m, in \u001b[0;36mHTTPConnection.request\u001b[0;34m(self, method, url, body, headers)\u001b[0m\n\u001b[1;32m    238\u001b[0m     headers[\u001b[38;5;124m\"\u001b[39m\u001b[38;5;124mUser-Agent\u001b[39m\u001b[38;5;124m\"\u001b[39m] \u001b[38;5;241m=\u001b[39m _get_default_user_agent()\n\u001b[0;32m--> 239\u001b[0m \u001b[38;5;28;43msuper\u001b[39;49m\u001b[43m(\u001b[49m\u001b[43mHTTPConnection\u001b[49m\u001b[43m,\u001b[49m\u001b[43m \u001b[49m\u001b[38;5;28;43mself\u001b[39;49m\u001b[43m)\u001b[49m\u001b[38;5;241;43m.\u001b[39;49m\u001b[43mrequest\u001b[49m\u001b[43m(\u001b[49m\u001b[43mmethod\u001b[49m\u001b[43m,\u001b[49m\u001b[43m \u001b[49m\u001b[43murl\u001b[49m\u001b[43m,\u001b[49m\u001b[43m \u001b[49m\u001b[43mbody\u001b[49m\u001b[38;5;241;43m=\u001b[39;49m\u001b[43mbody\u001b[49m\u001b[43m,\u001b[49m\u001b[43m \u001b[49m\u001b[43mheaders\u001b[49m\u001b[38;5;241;43m=\u001b[39;49m\u001b[43mheaders\u001b[49m\u001b[43m)\u001b[49m\n",
      "File \u001b[0;32m~/miniforge3/lib/python3.9/http/client.py:1279\u001b[0m, in \u001b[0;36mHTTPConnection.request\u001b[0;34m(self, method, url, body, headers, encode_chunked)\u001b[0m\n\u001b[1;32m   1278\u001b[0m \u001b[38;5;124;03m\"\"\"Send a complete request to the server.\"\"\"\u001b[39;00m\n\u001b[0;32m-> 1279\u001b[0m \u001b[38;5;28;43mself\u001b[39;49m\u001b[38;5;241;43m.\u001b[39;49m\u001b[43m_send_request\u001b[49m\u001b[43m(\u001b[49m\u001b[43mmethod\u001b[49m\u001b[43m,\u001b[49m\u001b[43m \u001b[49m\u001b[43murl\u001b[49m\u001b[43m,\u001b[49m\u001b[43m \u001b[49m\u001b[43mbody\u001b[49m\u001b[43m,\u001b[49m\u001b[43m \u001b[49m\u001b[43mheaders\u001b[49m\u001b[43m,\u001b[49m\u001b[43m \u001b[49m\u001b[43mencode_chunked\u001b[49m\u001b[43m)\u001b[49m\n",
      "File \u001b[0;32m~/miniforge3/lib/python3.9/http/client.py:1325\u001b[0m, in \u001b[0;36mHTTPConnection._send_request\u001b[0;34m(self, method, url, body, headers, encode_chunked)\u001b[0m\n\u001b[1;32m   1324\u001b[0m     body \u001b[38;5;241m=\u001b[39m _encode(body, \u001b[38;5;124m'\u001b[39m\u001b[38;5;124mbody\u001b[39m\u001b[38;5;124m'\u001b[39m)\n\u001b[0;32m-> 1325\u001b[0m \u001b[38;5;28;43mself\u001b[39;49m\u001b[38;5;241;43m.\u001b[39;49m\u001b[43mendheaders\u001b[49m\u001b[43m(\u001b[49m\u001b[43mbody\u001b[49m\u001b[43m,\u001b[49m\u001b[43m \u001b[49m\u001b[43mencode_chunked\u001b[49m\u001b[38;5;241;43m=\u001b[39;49m\u001b[43mencode_chunked\u001b[49m\u001b[43m)\u001b[49m\n",
      "File \u001b[0;32m~/miniforge3/lib/python3.9/http/client.py:1274\u001b[0m, in \u001b[0;36mHTTPConnection.endheaders\u001b[0;34m(self, message_body, encode_chunked)\u001b[0m\n\u001b[1;32m   1273\u001b[0m     \u001b[38;5;28;01mraise\u001b[39;00m CannotSendHeader()\n\u001b[0;32m-> 1274\u001b[0m \u001b[38;5;28;43mself\u001b[39;49m\u001b[38;5;241;43m.\u001b[39;49m\u001b[43m_send_output\u001b[49m\u001b[43m(\u001b[49m\u001b[43mmessage_body\u001b[49m\u001b[43m,\u001b[49m\u001b[43m \u001b[49m\u001b[43mencode_chunked\u001b[49m\u001b[38;5;241;43m=\u001b[39;49m\u001b[43mencode_chunked\u001b[49m\u001b[43m)\u001b[49m\n",
      "File \u001b[0;32m~/miniforge3/lib/python3.9/http/client.py:1034\u001b[0m, in \u001b[0;36mHTTPConnection._send_output\u001b[0;34m(self, message_body, encode_chunked)\u001b[0m\n\u001b[1;32m   1033\u001b[0m \u001b[38;5;28;01mdel\u001b[39;00m \u001b[38;5;28mself\u001b[39m\u001b[38;5;241m.\u001b[39m_buffer[:]\n\u001b[0;32m-> 1034\u001b[0m \u001b[38;5;28;43mself\u001b[39;49m\u001b[38;5;241;43m.\u001b[39;49m\u001b[43msend\u001b[49m\u001b[43m(\u001b[49m\u001b[43mmsg\u001b[49m\u001b[43m)\u001b[49m\n\u001b[1;32m   1036\u001b[0m \u001b[38;5;28;01mif\u001b[39;00m message_body \u001b[38;5;129;01mis\u001b[39;00m \u001b[38;5;129;01mnot\u001b[39;00m \u001b[38;5;28;01mNone\u001b[39;00m:\n\u001b[1;32m   1037\u001b[0m \n\u001b[1;32m   1038\u001b[0m     \u001b[38;5;66;03m# create a consistent interface to message_body\u001b[39;00m\n",
      "File \u001b[0;32m~/miniforge3/lib/python3.9/http/client.py:974\u001b[0m, in \u001b[0;36mHTTPConnection.send\u001b[0;34m(self, data)\u001b[0m\n\u001b[1;32m    973\u001b[0m \u001b[38;5;28;01mif\u001b[39;00m \u001b[38;5;28mself\u001b[39m\u001b[38;5;241m.\u001b[39mauto_open:\n\u001b[0;32m--> 974\u001b[0m     \u001b[38;5;28;43mself\u001b[39;49m\u001b[38;5;241;43m.\u001b[39;49m\u001b[43mconnect\u001b[49m\u001b[43m(\u001b[49m\u001b[43m)\u001b[49m\n\u001b[1;32m    975\u001b[0m \u001b[38;5;28;01melse\u001b[39;00m:\n",
      "File \u001b[0;32m~/miniforge3/lib/python3.9/site-packages/urllib3/connection.py:205\u001b[0m, in \u001b[0;36mHTTPConnection.connect\u001b[0;34m(self)\u001b[0m\n\u001b[1;32m    204\u001b[0m \u001b[38;5;28;01mdef\u001b[39;00m \u001b[38;5;21mconnect\u001b[39m(\u001b[38;5;28mself\u001b[39m):\n\u001b[0;32m--> 205\u001b[0m     conn \u001b[38;5;241m=\u001b[39m \u001b[38;5;28;43mself\u001b[39;49m\u001b[38;5;241;43m.\u001b[39;49m\u001b[43m_new_conn\u001b[49m\u001b[43m(\u001b[49m\u001b[43m)\u001b[49m\n\u001b[1;32m    206\u001b[0m     \u001b[38;5;28mself\u001b[39m\u001b[38;5;241m.\u001b[39m_prepare_conn(conn)\n",
      "File \u001b[0;32m~/miniforge3/lib/python3.9/site-packages/urllib3/connection.py:186\u001b[0m, in \u001b[0;36mHTTPConnection._new_conn\u001b[0;34m(self)\u001b[0m\n\u001b[1;32m    185\u001b[0m \u001b[38;5;28;01mexcept\u001b[39;00m SocketError \u001b[38;5;28;01mas\u001b[39;00m e:\n\u001b[0;32m--> 186\u001b[0m     \u001b[38;5;28;01mraise\u001b[39;00m NewConnectionError(\n\u001b[1;32m    187\u001b[0m         \u001b[38;5;28mself\u001b[39m, \u001b[38;5;124m\"\u001b[39m\u001b[38;5;124mFailed to establish a new connection: \u001b[39m\u001b[38;5;132;01m%s\u001b[39;00m\u001b[38;5;124m\"\u001b[39m \u001b[38;5;241m%\u001b[39m e\n\u001b[1;32m    188\u001b[0m     )\n\u001b[1;32m    190\u001b[0m \u001b[38;5;28;01mreturn\u001b[39;00m conn\n",
      "\u001b[0;31mNewConnectionError\u001b[0m: <urllib3.connection.HTTPConnection object at 0x2d4de1130>: Failed to establish a new connection: [Errno 8] nodename nor servname provided, or not known",
      "\nDuring handling of the above exception, another exception occurred:\n",
      "\u001b[0;31mConnectionError\u001b[0m                           Traceback (most recent call last)",
      "Input \u001b[0;32mIn [109]\u001b[0m, in \u001b[0;36m<module>\u001b[0;34m\u001b[0m\n\u001b[0;32m----> 1\u001b[0m \u001b[38;5;28;01mfor\u001b[39;00m movie \u001b[38;5;129;01min\u001b[39;00m movies:\n\u001b[1;32m      2\u001b[0m     \u001b[38;5;28mprint\u001b[39m(movie\u001b[38;5;241m.\u001b[39mprimary_title)\n",
      "File \u001b[0;32m~/miniforge3/lib/python3.9/site-packages/elasticsearch_dsl/search.py:346\u001b[0m, in \u001b[0;36mSearch.__iter__\u001b[0;34m(self)\u001b[0m\n\u001b[1;32m    342\u001b[0m \u001b[38;5;28;01mdef\u001b[39;00m \u001b[38;5;21m__iter__\u001b[39m(\u001b[38;5;28mself\u001b[39m):\n\u001b[1;32m    343\u001b[0m     \u001b[38;5;124;03m\"\"\"\u001b[39;00m\n\u001b[1;32m    344\u001b[0m \u001b[38;5;124;03m    Iterate over the hits.\u001b[39;00m\n\u001b[1;32m    345\u001b[0m \u001b[38;5;124;03m    \"\"\"\u001b[39;00m\n\u001b[0;32m--> 346\u001b[0m     \u001b[38;5;28;01mreturn\u001b[39;00m \u001b[38;5;28miter\u001b[39m(\u001b[38;5;28;43mself\u001b[39;49m\u001b[38;5;241;43m.\u001b[39;49m\u001b[43mexecute\u001b[49m\u001b[43m(\u001b[49m\u001b[43m)\u001b[49m)\n",
      "File \u001b[0;32m~/miniforge3/lib/python3.9/site-packages/elasticsearch_dsl/search.py:723\u001b[0m, in \u001b[0;36mSearch.execute\u001b[0;34m(self, ignore_cache)\u001b[0m\n\u001b[1;32m    719\u001b[0m         params \u001b[38;5;241m=\u001b[39m {\u001b[38;5;124m\"\u001b[39m\u001b[38;5;124mbody\u001b[39m\u001b[38;5;124m\"\u001b[39m: \u001b[38;5;28mself\u001b[39m\u001b[38;5;241m.\u001b[39mto_dict()}\n\u001b[1;32m    720\u001b[0m     params\u001b[38;5;241m.\u001b[39mupdate(\u001b[38;5;28mself\u001b[39m\u001b[38;5;241m.\u001b[39m_params)\n\u001b[1;32m    722\u001b[0m     \u001b[38;5;28mself\u001b[39m\u001b[38;5;241m.\u001b[39m_response \u001b[38;5;241m=\u001b[39m \u001b[38;5;28mself\u001b[39m\u001b[38;5;241m.\u001b[39m_response_class(\n\u001b[0;32m--> 723\u001b[0m         \u001b[38;5;28mself\u001b[39m, \u001b[43mes\u001b[49m\u001b[38;5;241;43m.\u001b[39;49m\u001b[43msearch\u001b[49m\u001b[43m(\u001b[49m\u001b[43mindex\u001b[49m\u001b[38;5;241;43m=\u001b[39;49m\u001b[38;5;28;43mself\u001b[39;49m\u001b[38;5;241;43m.\u001b[39;49m\u001b[43m_index\u001b[49m\u001b[43m,\u001b[49m\u001b[43m \u001b[49m\u001b[38;5;241;43m*\u001b[39;49m\u001b[38;5;241;43m*\u001b[39;49m\u001b[43mparams\u001b[49m\u001b[43m)\u001b[49m\n\u001b[1;32m    724\u001b[0m     )\n\u001b[1;32m    725\u001b[0m \u001b[38;5;28;01mreturn\u001b[39;00m \u001b[38;5;28mself\u001b[39m\u001b[38;5;241m.\u001b[39m_response\n",
      "File \u001b[0;32m~/miniforge3/lib/python3.9/site-packages/elasticsearch/client/utils.py:347\u001b[0m, in \u001b[0;36mquery_params.<locals>._wrapper.<locals>._wrapped\u001b[0;34m(*args, **kwargs)\u001b[0m\n\u001b[1;32m    345\u001b[0m     \u001b[38;5;28;01mif\u001b[39;00m p \u001b[38;5;129;01min\u001b[39;00m kwargs:\n\u001b[1;32m    346\u001b[0m         params[p] \u001b[38;5;241m=\u001b[39m kwargs\u001b[38;5;241m.\u001b[39mpop(p)\n\u001b[0;32m--> 347\u001b[0m \u001b[38;5;28;01mreturn\u001b[39;00m \u001b[43mfunc\u001b[49m\u001b[43m(\u001b[49m\u001b[38;5;241;43m*\u001b[39;49m\u001b[43margs\u001b[49m\u001b[43m,\u001b[49m\u001b[43m \u001b[49m\u001b[43mparams\u001b[49m\u001b[38;5;241;43m=\u001b[39;49m\u001b[43mparams\u001b[49m\u001b[43m,\u001b[49m\u001b[43m \u001b[49m\u001b[43mheaders\u001b[49m\u001b[38;5;241;43m=\u001b[39;49m\u001b[43mheaders\u001b[49m\u001b[43m,\u001b[49m\u001b[43m \u001b[49m\u001b[38;5;241;43m*\u001b[39;49m\u001b[38;5;241;43m*\u001b[39;49m\u001b[43mkwargs\u001b[49m\u001b[43m)\u001b[49m\n",
      "File \u001b[0;32m~/miniforge3/lib/python3.9/site-packages/elasticsearch/client/__init__.py:1821\u001b[0m, in \u001b[0;36mElasticsearch.search\u001b[0;34m(self, body, index, doc_type, params, headers)\u001b[0m\n\u001b[1;32m   1818\u001b[0m \u001b[38;5;28;01mif\u001b[39;00m \u001b[38;5;124m\"\u001b[39m\u001b[38;5;124mfrom_\u001b[39m\u001b[38;5;124m\"\u001b[39m \u001b[38;5;129;01min\u001b[39;00m params:\n\u001b[1;32m   1819\u001b[0m     params[\u001b[38;5;124m\"\u001b[39m\u001b[38;5;124mfrom\u001b[39m\u001b[38;5;124m\"\u001b[39m] \u001b[38;5;241m=\u001b[39m params\u001b[38;5;241m.\u001b[39mpop(\u001b[38;5;124m\"\u001b[39m\u001b[38;5;124mfrom_\u001b[39m\u001b[38;5;124m\"\u001b[39m)\n\u001b[0;32m-> 1821\u001b[0m \u001b[38;5;28;01mreturn\u001b[39;00m \u001b[38;5;28;43mself\u001b[39;49m\u001b[38;5;241;43m.\u001b[39;49m\u001b[43mtransport\u001b[49m\u001b[38;5;241;43m.\u001b[39;49m\u001b[43mperform_request\u001b[49m\u001b[43m(\u001b[49m\n\u001b[1;32m   1822\u001b[0m \u001b[43m    \u001b[49m\u001b[38;5;124;43m\"\u001b[39;49m\u001b[38;5;124;43mPOST\u001b[39;49m\u001b[38;5;124;43m\"\u001b[39;49m\u001b[43m,\u001b[49m\n\u001b[1;32m   1823\u001b[0m \u001b[43m    \u001b[49m\u001b[43m_make_path\u001b[49m\u001b[43m(\u001b[49m\u001b[43mindex\u001b[49m\u001b[43m,\u001b[49m\u001b[43m \u001b[49m\u001b[43mdoc_type\u001b[49m\u001b[43m,\u001b[49m\u001b[43m \u001b[49m\u001b[38;5;124;43m\"\u001b[39;49m\u001b[38;5;124;43m_search\u001b[39;49m\u001b[38;5;124;43m\"\u001b[39;49m\u001b[43m)\u001b[49m\u001b[43m,\u001b[49m\n\u001b[1;32m   1824\u001b[0m \u001b[43m    \u001b[49m\u001b[43mparams\u001b[49m\u001b[38;5;241;43m=\u001b[39;49m\u001b[43mparams\u001b[49m\u001b[43m,\u001b[49m\n\u001b[1;32m   1825\u001b[0m \u001b[43m    \u001b[49m\u001b[43mheaders\u001b[49m\u001b[38;5;241;43m=\u001b[39;49m\u001b[43mheaders\u001b[49m\u001b[43m,\u001b[49m\n\u001b[1;32m   1826\u001b[0m \u001b[43m    \u001b[49m\u001b[43mbody\u001b[49m\u001b[38;5;241;43m=\u001b[39;49m\u001b[43mbody\u001b[49m\u001b[43m,\u001b[49m\n\u001b[1;32m   1827\u001b[0m \u001b[43m\u001b[49m\u001b[43m)\u001b[49m\n",
      "File \u001b[0;32m~/miniforge3/lib/python3.9/site-packages/elasticsearch/transport.py:417\u001b[0m, in \u001b[0;36mTransport.perform_request\u001b[0;34m(self, method, url, headers, params, body)\u001b[0m\n\u001b[1;32m    415\u001b[0m \u001b[38;5;66;03m# Before we make the actual API call we verify the Elasticsearch instance.\u001b[39;00m\n\u001b[1;32m    416\u001b[0m \u001b[38;5;28;01mif\u001b[39;00m \u001b[38;5;28mself\u001b[39m\u001b[38;5;241m.\u001b[39m_verified_elasticsearch \u001b[38;5;129;01mis\u001b[39;00m \u001b[38;5;28;01mNone\u001b[39;00m:\n\u001b[0;32m--> 417\u001b[0m     \u001b[38;5;28;43mself\u001b[39;49m\u001b[38;5;241;43m.\u001b[39;49m\u001b[43m_do_verify_elasticsearch\u001b[49m\u001b[43m(\u001b[49m\u001b[43mheaders\u001b[49m\u001b[38;5;241;43m=\u001b[39;49m\u001b[43mheaders\u001b[49m\u001b[43m,\u001b[49m\u001b[43m \u001b[49m\u001b[43mtimeout\u001b[49m\u001b[38;5;241;43m=\u001b[39;49m\u001b[43mtimeout\u001b[49m\u001b[43m)\u001b[49m\n\u001b[1;32m    419\u001b[0m \u001b[38;5;66;03m# If '_verified_elasticsearch' isn't 'True' then we raise an error.\u001b[39;00m\n\u001b[1;32m    420\u001b[0m \u001b[38;5;28;01mif\u001b[39;00m \u001b[38;5;28mself\u001b[39m\u001b[38;5;241m.\u001b[39m_verified_elasticsearch \u001b[38;5;129;01mis\u001b[39;00m \u001b[38;5;129;01mnot\u001b[39;00m \u001b[38;5;28;01mTrue\u001b[39;00m:\n",
      "File \u001b[0;32m~/miniforge3/lib/python3.9/site-packages/elasticsearch/transport.py:606\u001b[0m, in \u001b[0;36mTransport._do_verify_elasticsearch\u001b[0;34m(self, headers, timeout)\u001b[0m\n\u001b[1;32m    603\u001b[0m \u001b[38;5;66;03m# If we received a connection error and weren't successful\u001b[39;00m\n\u001b[1;32m    604\u001b[0m \u001b[38;5;66;03m# anywhere then we re-raise the more appropriate error.\u001b[39;00m\n\u001b[1;32m    605\u001b[0m \u001b[38;5;28;01mif\u001b[39;00m error \u001b[38;5;129;01mand\u001b[39;00m \u001b[38;5;129;01mnot\u001b[39;00m info_response:\n\u001b[0;32m--> 606\u001b[0m     \u001b[38;5;28;01mraise\u001b[39;00m error\n\u001b[1;32m    608\u001b[0m \u001b[38;5;66;03m# Check the information we got back from the index request.\u001b[39;00m\n\u001b[1;32m    609\u001b[0m \u001b[38;5;28mself\u001b[39m\u001b[38;5;241m.\u001b[39m_verified_elasticsearch \u001b[38;5;241m=\u001b[39m _ProductChecker\u001b[38;5;241m.\u001b[39mcheck_product(\n\u001b[1;32m    610\u001b[0m     info_headers, info_response\n\u001b[1;32m    611\u001b[0m )\n",
      "File \u001b[0;32m~/miniforge3/lib/python3.9/site-packages/elasticsearch/transport.py:569\u001b[0m, in \u001b[0;36mTransport._do_verify_elasticsearch\u001b[0;34m(self, headers, timeout)\u001b[0m\n\u001b[1;32m    566\u001b[0m attempted_conns\u001b[38;5;241m.\u001b[39mappend(conn)\n\u001b[1;32m    568\u001b[0m \u001b[38;5;28;01mtry\u001b[39;00m:\n\u001b[0;32m--> 569\u001b[0m     _, info_headers, info_response \u001b[38;5;241m=\u001b[39m \u001b[43mconn\u001b[49m\u001b[38;5;241;43m.\u001b[39;49m\u001b[43mperform_request\u001b[49m\u001b[43m(\u001b[49m\n\u001b[1;32m    570\u001b[0m \u001b[43m        \u001b[49m\u001b[38;5;124;43m\"\u001b[39;49m\u001b[38;5;124;43mGET\u001b[39;49m\u001b[38;5;124;43m\"\u001b[39;49m\u001b[43m,\u001b[49m\u001b[43m \u001b[49m\u001b[38;5;124;43m\"\u001b[39;49m\u001b[38;5;124;43m/\u001b[39;49m\u001b[38;5;124;43m\"\u001b[39;49m\u001b[43m,\u001b[49m\u001b[43m \u001b[49m\u001b[43mheaders\u001b[49m\u001b[38;5;241;43m=\u001b[39;49m\u001b[43mheaders\u001b[49m\u001b[43m,\u001b[49m\u001b[43m \u001b[49m\u001b[43mtimeout\u001b[49m\u001b[38;5;241;43m=\u001b[39;49m\u001b[43mtimeout\u001b[49m\n\u001b[1;32m    571\u001b[0m \u001b[43m    \u001b[49m\u001b[43m)\u001b[49m\n\u001b[1;32m    573\u001b[0m     \u001b[38;5;66;03m# Lowercase all the header names for consistency in accessing them.\u001b[39;00m\n\u001b[1;32m    574\u001b[0m     info_headers \u001b[38;5;241m=\u001b[39m {\n\u001b[1;32m    575\u001b[0m         header\u001b[38;5;241m.\u001b[39mlower(): value \u001b[38;5;28;01mfor\u001b[39;00m header, value \u001b[38;5;129;01min\u001b[39;00m info_headers\u001b[38;5;241m.\u001b[39mitems()\n\u001b[1;32m    576\u001b[0m     }\n",
      "File \u001b[0;32m~/miniforge3/lib/python3.9/site-packages/elasticsearch/connection/http_urllib3.py:280\u001b[0m, in \u001b[0;36mUrllib3HttpConnection.perform_request\u001b[0;34m(self, method, url, params, body, timeout, ignore, headers)\u001b[0m\n\u001b[1;32m    278\u001b[0m     \u001b[38;5;28;01mif\u001b[39;00m \u001b[38;5;28misinstance\u001b[39m(e, ReadTimeoutError):\n\u001b[1;32m    279\u001b[0m         \u001b[38;5;28;01mraise\u001b[39;00m ConnectionTimeout(\u001b[38;5;124m\"\u001b[39m\u001b[38;5;124mTIMEOUT\u001b[39m\u001b[38;5;124m\"\u001b[39m, \u001b[38;5;28mstr\u001b[39m(e), e)\n\u001b[0;32m--> 280\u001b[0m     \u001b[38;5;28;01mraise\u001b[39;00m \u001b[38;5;167;01mConnectionError\u001b[39;00m(\u001b[38;5;124m\"\u001b[39m\u001b[38;5;124mN/A\u001b[39m\u001b[38;5;124m\"\u001b[39m, \u001b[38;5;28mstr\u001b[39m(e), e)\n\u001b[1;32m    282\u001b[0m \u001b[38;5;66;03m# raise warnings if any from the 'Warnings' header.\u001b[39;00m\n\u001b[1;32m    283\u001b[0m warning_headers \u001b[38;5;241m=\u001b[39m response\u001b[38;5;241m.\u001b[39mheaders\u001b[38;5;241m.\u001b[39mget_all(\u001b[38;5;124m\"\u001b[39m\u001b[38;5;124mwarning\u001b[39m\u001b[38;5;124m\"\u001b[39m, ())\n",
      "\u001b[0;31mConnectionError\u001b[0m: ConnectionError(<urllib3.connection.HTTPConnection object at 0x2d4de1130>: Failed to establish a new connection: [Errno 8] nodename nor servname provided, or not known) caused by: NewConnectionError(<urllib3.connection.HTTPConnection object at 0x2d4de1130>: Failed to establish a new connection: [Errno 8] nodename nor servname provided, or not known)"
     ]
    }
   ],
   "source": [
    "for movie in movies:\n",
    "    print(movie.primary_title)"
   ]
  },
  {
   "cell_type": "code",
   "execution_count": 103,
   "id": "479a6e63",
   "metadata": {},
   "outputs": [],
   "source": [
    "genres = [movie_genre.genre.name for movie_genre in movie.moviegenre_set.distinct('genre_id')]"
   ]
  },
  {
   "cell_type": "code",
   "execution_count": 104,
   "id": "162c645a",
   "metadata": {},
   "outputs": [
    {
     "data": {
      "text/plain": [
       "['Drama', 'Biography', 'History']"
      ]
     },
     "execution_count": 104,
     "metadata": {},
     "output_type": "execute_result"
    }
   ],
   "source": [
    "genres"
   ]
  },
  {
   "cell_type": "code",
   "execution_count": null,
   "id": "33125b7c",
   "metadata": {},
   "outputs": [],
   "source": [
    "fields.ListField()"
   ]
  },
  {
   "cell_type": "code",
   "execution_count": 61,
   "id": "3d5fe06a",
   "metadata": {},
   "outputs": [
    {
     "data": {
      "text/plain": [
       "['Danish',\n",
       " 'Italian',\n",
       " 'German',\n",
       " 'Hungarian',\n",
       " 'English',\n",
       " 'Swedish',\n",
       " 'Spanish',\n",
       " 'French',\n",
       " 'Dutch',\n",
       " 'Sign Languages',\n",
       " 'Portuguese',\n",
       " 'Japanese',\n",
       " 'Russian',\n",
       " 'Georgian',\n",
       " 'Latin',\n",
       " 'Chinese',\n",
       " 'Norwegian',\n",
       " 'Polish',\n",
       " 'Vietnamese',\n",
       " 'Czech',\n",
       " 'Hindi',\n",
       " 'American Sign Language',\n",
       " 'Finnish',\n",
       " 'Estonian',\n",
       " 'Yiddish',\n",
       " 'Bangla',\n",
       " 'Ukrainian',\n",
       " 'Serbo-Croatian',\n",
       " 'Romanian',\n",
       " 'Catalan',\n",
       " 'Malay',\n",
       " 'Marathi',\n",
       " 'Burmese',\n",
       " 'Hebrew',\n",
       " 'Turkish',\n",
       " 'Swiss German',\n",
       " 'Urdu',\n",
       " 'Armenian',\n",
       " 'Scottish Gaelic',\n",
       " 'Cantonese',\n",
       " 'Mandarin',\n",
       " 'Arabic',\n",
       " 'Tagalog',\n",
       " 'Telugu',\n",
       " 'Tamil',\n",
       " 'Serbian',\n",
       " 'Croatian',\n",
       " 'Scanian',\n",
       " 'Occitan',\n",
       " 'Maori',\n",
       " 'Slovak',\n",
       " 'Slovenian',\n",
       " 'Sicilian',\n",
       " 'Greek',\n",
       " 'Indonesian',\n",
       " 'Guarani',\n",
       " 'Algonquin',\n",
       " 'Bulgarian',\n",
       " 'Korean',\n",
       " 'Azerbaijani',\n",
       " 'Icelandic',\n",
       " 'Filipino',\n",
       " 'Thai',\n",
       " 'Punjabi',\n",
       " 'Kannada',\n",
       " 'Odia',\n",
       " 'Malayalam',\n",
       " 'Afrikaans',\n",
       " 'Sinhala',\n",
       " 'Esperanto',\n",
       " 'Kyrgyz',\n",
       " 'Persian',\n",
       " 'Albanian',\n",
       " 'Maithili',\n",
       " 'Aymara',\n",
       " 'Wolof',\n",
       " 'Somali',\n",
       " 'Aboriginal',\n",
       " 'Tupi',\n",
       " 'Djerma',\n",
       " 'Scots',\n",
       " 'Lingala',\n",
       " 'Khmer',\n",
       " 'Assamese',\n",
       " 'More',\n",
       " 'Amharic',\n",
       " 'Brazilian Sign Language',\n",
       " 'Pashto',\n",
       " 'Kudmali',\n",
       " 'Malagasy',\n",
       " 'Ibo',\n",
       " 'Serer',\n",
       " 'Bambara',\n",
       " 'Yoruba',\n",
       " 'Teochew',\n",
       " 'Fon',\n",
       " 'Hausa',\n",
       " 'Dyula',\n",
       " 'Macedonian',\n",
       " 'Australian Sign Language',\n",
       " 'Kurdish',\n",
       " 'Soninke',\n",
       " 'Irish',\n",
       " 'Peul',\n",
       " 'Gujarati',\n",
       " 'Basque',\n",
       " 'Malinka',\n",
       " 'Nyaneka',\n",
       " 'Sanskrit',\n",
       " 'Welsh',\n",
       " 'Hakka',\n",
       " 'Min Nan',\n",
       " 'Western Frisian',\n",
       " 'Kinyarwanda',\n",
       " 'Swahili',\n",
       " 'Kriolu',\n",
       " 'Flemish',\n",
       " 'Ojibwa',\n",
       " 'Saami',\n",
       " 'Korean Sign Language',\n",
       " 'Lao',\n",
       " 'Zulu',\n",
       " 'Hopi',\n",
       " 'Faroese',\n",
       " 'Romany',\n",
       " 'Bosnian',\n",
       " 'Shanghainese',\n",
       " 'Galician',\n",
       " 'Romansh',\n",
       " 'Greek, Ancient (to 1453)',\n",
       " 'Mizo',\n",
       " 'Lithuanian',\n",
       " 'Nahuatl',\n",
       " 'Luxembourgish',\n",
       " 'Mongolian',\n",
       " 'Latvian',\n",
       " 'Kirundi',\n",
       " 'Tajik',\n",
       " 'Kazakh',\n",
       " 'Neapolitan',\n",
       " 'Akan',\n",
       " 'Nenets',\n",
       " 'Malecite-Passamaquoddy',\n",
       " 'Turkmen',\n",
       " 'Hokkien',\n",
       " 'Fulah',\n",
       " 'Songhay',\n",
       " 'Kaado',\n",
       " 'Samoan',\n",
       " 'Haitian Creole',\n",
       " 'Ryukyuan',\n",
       " 'Sindhi',\n",
       " 'Quechua',\n",
       " 'Dari',\n",
       " 'Khasi',\n",
       " 'Manipuri',\n",
       " 'Belarusian',\n",
       " 'Berber languages',\n",
       " 'Tibetan',\n",
       " 'Inuktitut',\n",
       " 'Uzbek',\n",
       " 'Chaozhou',\n",
       " 'Eastern Frisian',\n",
       " 'Baka',\n",
       " 'Bhojpuri',\n",
       " 'Chechen',\n",
       " 'Kabyle',\n",
       " 'Visayan',\n",
       " 'Cree',\n",
       " 'Magahi',\n",
       " 'Tzotzil',\n",
       " 'Rajasthani',\n",
       " 'Nepali',\n",
       " 'Hawaiian',\n",
       " 'Iban',\n",
       " 'Maya',\n",
       " 'Chhattisgarhi',\n",
       " 'Tarahumara',\n",
       " 'Tlingit',\n",
       " 'Sousson',\n",
       " 'Maltese',\n",
       " 'Kabuverdianu',\n",
       " 'Xhosa',\n",
       " 'Haryanvi',\n",
       " 'Dogri',\n",
       " 'Kalaallisut',\n",
       " 'Konkani',\n",
       " 'Aramaic',\n",
       " 'Dzongkha',\n",
       " 'Tok Pisin',\n",
       " 'Cornish',\n",
       " 'Corsican',\n",
       " 'Tswa',\n",
       " 'Spanish Sign Language',\n",
       " 'Sardinian',\n",
       " 'Breton',\n",
       " 'Low German',\n",
       " 'Rotuman',\n",
       " 'Nagpuri',\n",
       " 'Karbi',\n",
       " 'Morisyen',\n",
       " 'Tigrigna',\n",
       " 'Crow',\n",
       " 'Shuar',\n",
       " 'Tswana',\n",
       " 'Purepecha',\n",
       " 'Acholi',\n",
       " 'Faliasch',\n",
       " 'Grebo',\n",
       " 'Syriac',\n",
       " 'Bable',\n",
       " 'Klingon',\n",
       " 'Rawan',\n",
       " 'Tulu',\n",
       " 'Parsee',\n",
       " 'Karen',\n",
       " 'Bassari',\n",
       " 'Bicolano',\n",
       " 'Kuna',\n",
       " 'Masalit',\n",
       " 'British Sign Language',\n",
       " 'Uyghur',\n",
       " 'Fur',\n",
       " 'Southern Sotho',\n",
       " 'Divehi',\n",
       " 'Mixtec',\n",
       " 'Kikuyu',\n",
       " 'Sranan',\n",
       " 'Yakut',\n",
       " 'Bodo',\n",
       " 'Himachali',\n",
       " 'Kru',\n",
       " 'Navajo',\n",
       " 'Indian Sign Language',\n",
       " 'Shona',\n",
       " 'Hmong',\n",
       " 'Egyptian (Ancient)',\n",
       " 'Shanxi',\n",
       " 'Assyrian Neo-Aramaic',\n",
       " 'Arapaho',\n",
       " 'German Sign Language',\n",
       " 'Japanese Sign Language',\n",
       " 'Bemba',\n",
       " 'Kashmiri',\n",
       " 'Icelandic Sign Language',\n",
       " 'Masai',\n",
       " 'North American Indian',\n",
       " 'Montagnais',\n",
       " 'Ga',\n",
       " 'Mandingo',\n",
       " 'Ladino',\n",
       " 'Tamashek',\n",
       " 'East-Greenlandic',\n",
       " 'Hassanya',\n",
       " 'Pular',\n",
       " 'Marshallese',\n",
       " 'Aidoukrou',\n",
       " 'Papiamento',\n",
       " 'Abkhazian',\n",
       " 'Crimean Tatar',\n",
       " 'Creek',\n",
       " 'Cherokee',\n",
       " 'Santali',\n",
       " 'Russian Sign Language',\n",
       " 'Ladakhi',\n",
       " 'Balinese',\n",
       " 'Ibibio',\n",
       " 'Nyanja',\n",
       " 'Ewe',\n",
       " 'Mirandese',\n",
       " 'Pawnee',\n",
       " 'North Ndebele',\n",
       " 'Aché',\n",
       " 'Old English',\n",
       " 'Niuean',\n",
       " 'Mohawk',\n",
       " 'Tatar',\n",
       " 'Ojihimba',\n",
       " 'Irula',\n",
       " 'Wayuu',\n",
       " 'Mari',\n",
       " 'French Sign Language',\n",
       " 'Awadhi',\n",
       " 'Kodava',\n",
       " 'Central American Indian languages',\n",
       " 'Nushi',\n",
       " 'Aromanian',\n",
       " \"Ju'hoan\",\n",
       " 'Sioux',\n",
       " 'Tsonga',\n",
       " 'Middle English',\n",
       " 'Afar',\n",
       " 'Rhaetian',\n",
       " 'Norse, Old',\n",
       " 'Nama',\n",
       " 'Minangkabau',\n",
       " 'Inupiaq',\n",
       " 'Haida',\n",
       " 'Bislama']"
      ]
     },
     "execution_count": 61,
     "metadata": {},
     "output_type": "execute_result"
    }
   ],
   "source": [
    "languages"
   ]
  },
  {
   "cell_type": "code",
   "execution_count": 62,
   "id": "f566ae7f",
   "metadata": {},
   "outputs": [],
   "source": [
    "with open('/Users/timdunn/MovieSearch-app/src/languages.json', 'w') as file:\n",
    "    json.dump(languages, file)"
   ]
  },
  {
   "cell_type": "code",
   "execution_count": 25,
   "id": "d4d399dc",
   "metadata": {},
   "outputs": [],
   "source": [
    "import json"
   ]
  },
  {
   "cell_type": "code",
   "execution_count": 92,
   "id": "1e9db1e1",
   "metadata": {},
   "outputs": [],
   "source": [
    "doc_horro = Movie.objects.filter(title_type='movie', moviegenre__genre__name='Documentary').filter(moviegenre__genre__name='Horror').filter(movierating__average_rating__gte=6)"
   ]
  },
  {
   "cell_type": "code",
   "execution_count": 95,
   "id": "bda6d350",
   "metadata": {},
   "outputs": [],
   "source": [
    "doc_horro = doc_horro.filter(link__link_url__isnull=False)"
   ]
  },
  {
   "cell_type": "code",
   "execution_count": 98,
   "id": "d2955b83",
   "metadata": {},
   "outputs": [],
   "source": [
    "links = [link.link_url for link in doc_horro[0].link_set.only('link_url')]"
   ]
  },
  {
   "cell_type": "code",
   "execution_count": 99,
   "id": "c2fce815",
   "metadata": {},
   "outputs": [
    {
     "data": {
      "text/plain": [
       "['https://primewire.mx/movie/watch-the-walkers-among-us-online-55889',\n",
       " 'https://sflix.to/movie/free-the-walkers-among-us-hd-55889',\n",
       " 'https://vexmovies.pw/movie/the-walkers-among-us-55889',\n",
       " 'https://tinyzonetv.to/movie/watch-the-walkers-among-us-2015-free-55889',\n",
       " 'https://losmovies.pics/free-movie-online/tt92872/watch-online-the-walkers-among-us']"
      ]
     },
     "execution_count": 99,
     "metadata": {},
     "output_type": "execute_result"
    }
   ],
   "source": [
    "links"
   ]
  },
  {
   "cell_type": "code",
   "execution_count": 96,
   "id": "7635e02f",
   "metadata": {},
   "outputs": [
    {
     "data": {
      "text/plain": [
       "179"
      ]
     },
     "execution_count": 96,
     "metadata": {},
     "output_type": "execute_result"
    }
   ],
   "source": [
    "doc_horro.count()"
   ]
  },
  {
   "cell_type": "code",
   "execution_count": 80,
   "id": "b891830b",
   "metadata": {},
   "outputs": [],
   "source": [
    "movie = [movie for movie in Movie.objects.filter(tconst='tt0108052')][0]"
   ]
  },
  {
   "cell_type": "code",
   "execution_count": 85,
   "id": "2336d169",
   "metadata": {},
   "outputs": [],
   "source": [
    "akas = [aka.title for aka in movie.movieaka_set.distinct('title')]"
   ]
  },
  {
   "cell_type": "code",
   "execution_count": 87,
   "id": "2b69ed71",
   "metadata": {},
   "outputs": [],
   "source": [
    "links = [link.link_url for link in movie.link_set.all()]"
   ]
  },
  {
   "cell_type": "code",
   "execution_count": 88,
   "id": "0363ff0d",
   "metadata": {},
   "outputs": [
    {
     "data": {
      "text/plain": [
       "['http://www.streamlord.com/watch-movie-schindlers-list-450.html',\n",
       " 'https://lookmovie2.to/movies/view/0108052-schindlers-list-1993',\n",
       " 'https://primewire.mx/movie/watch-schindlers-list-online-19786',\n",
       " 'https://ok.ru/video/2792588184152',\n",
       " 'https://ok.ru/video/3862479374936',\n",
       " 'https://ok.ru/video/1370414189309',\n",
       " 'https://ok.ru/video/4500801850092',\n",
       " 'https://ok.ru/video/1432475798268',\n",
       " 'https://ok.ru/video/2625419610681',\n",
       " 'https://ok.ru/video/2055430212276',\n",
       " 'https://ok.ru/video/2023445433011',\n",
       " 'https://ok.ru/video/2641004595801',\n",
       " 'https://ok.ru/video/1631357504253',\n",
       " 'https://ok.ru/video/2119059835510',\n",
       " 'https://ok.ru/video/3273193622177',\n",
       " 'https://ok.ru/video/1484027136541',\n",
       " 'https://ok.ru/video/3519158749802',\n",
       " 'https://ok.ru/video/3527305071210',\n",
       " 'https://ok.ru/video/3495986858602',\n",
       " 'https://ok.ru/video/3500131617386',\n",
       " 'https://ok.ru/video/2062142868221',\n",
       " 'https://ok.ru/video/2332736817917',\n",
       " 'https://ok.ru/video/3381715339969',\n",
       " 'https://ok.ru/video/3516872133226',\n",
       " 'https://ok.ru/video/2407130401327',\n",
       " 'https://ok.ru/video/1230249658908',\n",
       " 'https://ok.ru/video/2237141158490',\n",
       " 'https://ok.ru/video/9119271604',\n",
       " 'https://ok.ru/video/2051218409988',\n",
       " 'https://ok.ru/video/3541623835342',\n",
       " 'https://ok.ru/video/4401809590891',\n",
       " 'https://ok.ru/video/1695775394419',\n",
       " 'https://ok.ru/video/3447262218913',\n",
       " 'https://ok.ru/video/2433654458917',\n",
       " 'https://ok.ru/video/964426926776',\n",
       " 'https://ok.ru/video/2720832883311',\n",
       " 'https://ok.ru/video/2624054692559',\n",
       " 'https://ok.ru/video/1562205686497',\n",
       " 'https://ok.ru/video/2764576852489',\n",
       " 'https://ok.ru/video/3912359152334',\n",
       " 'https://ok.ru/video/2350684637894',\n",
       " 'https://ok.ru/video/865673349832',\n",
       " 'https://ok.ru/video/658032101929',\n",
       " 'https://ok.ru/video/2729307998835',\n",
       " 'https://ok.ru/video/2539682990703',\n",
       " 'https://ok.ru/video/421483121248',\n",
       " 'https://ok.ru/video/657406102121',\n",
       " 'https://ok.ru/video/1067251665498',\n",
       " 'https://ok.ru/video/3410925193932',\n",
       " 'https://ok.ru/video/1772033411764',\n",
       " 'https://ok.ru/video/1119994776253',\n",
       " 'https://ok.ru/video/3340068063877',\n",
       " 'https://ok.ru/video/3878694881956',\n",
       " 'https://ok.ru/video/1379645458946',\n",
       " 'https://ok.ru/video/2083700607739',\n",
       " 'https://ok.ru/video/4065053772296',\n",
       " 'https://ok.ru/video/3711124572864',\n",
       " 'https://ok.ru/video/3519158291050',\n",
       " 'https://sflix.to/movie/free-schindlers-list-hd-19786',\n",
       " 'https://vexmovies.pw/movie/schindlers-list-19786',\n",
       " 'https://tinyzonetv.to/movie/watch-schindlers-list-1993-free-19786',\n",
       " 'https://losmovies.pics/free-movie-online/tt20461/watch-online-schindlers-list']"
      ]
     },
     "execution_count": 88,
     "metadata": {},
     "output_type": "execute_result"
    }
   ],
   "source": [
    "links"
   ]
  },
  {
   "cell_type": "code",
   "execution_count": 86,
   "id": "ab2ce0f9",
   "metadata": {},
   "outputs": [
    {
     "data": {
      "text/plain": [
       "['A Lista de Schindler',\n",
       " 'Bản Danh Sách Của Schindler',\n",
       " 'Chatakam Thi Lok Mai Luem',\n",
       " 'Fehrest-e Schindler',\n",
       " 'I lista tou Schindler',\n",
       " 'La lista de Schindler',\n",
       " 'La liste de Schindler',\n",
       " 'La llista de Schindler',\n",
       " 'Lista Schindlera',\n",
       " 'Lista lui Schindler',\n",
       " 'Reshimut Schindler',\n",
       " 'Schindler Kee Soochee',\n",
       " 'Schindler listája',\n",
       " \"Schindler'in Listesi\",\n",
       " \"Schindler's List\",\n",
       " \"Schindler's List - La lista di Schindler\",\n",
       " 'Schindleri nimekiri',\n",
       " 'Schindlerin Lista',\n",
       " 'Schindlerin lista',\n",
       " 'Schindlerjev seznam',\n",
       " 'Schindlerov zoznam',\n",
       " 'Schindlerova lista',\n",
       " 'Schindlers Liste',\n",
       " 'Schindlers lista',\n",
       " 'Schindlers liste',\n",
       " 'Schindlerův seznam',\n",
       " \"Shindler ro'yxati\",\n",
       " 'Shindlerin Siyahisi',\n",
       " 'Shindleris sia',\n",
       " 'Shindorâ no risuto',\n",
       " \"Steven Spielberg's Schindler's List\",\n",
       " 'Šindlerio sąrašas',\n",
       " 'Η λίστα του Σίντλερ',\n",
       " 'Список Шиндлера',\n",
       " 'Списъкът на Шиндлер',\n",
       " 'Спіс Шындлера',\n",
       " 'Шиндлерова листа',\n",
       " 'Шиндлеровата Листа',\n",
       " 'शिंडलर्स लिस्ट',\n",
       " 'シンドラーのリスト',\n",
       " '舒特拉的名單',\n",
       " '辛德勒的名单',\n",
       " '辛德勒的名單',\n",
       " '쉰들러 리스트']"
      ]
     },
     "execution_count": 86,
     "metadata": {},
     "output_type": "execute_result"
    }
   ],
   "source": [
    "akas"
   ]
  },
  {
   "cell_type": "code",
   "execution_count": 71,
   "id": "734d8ec7",
   "metadata": {},
   "outputs": [
    {
     "ename": "TypeError",
     "evalue": "'RelatedManager' object is not iterable",
     "output_type": "error",
     "traceback": [
      "\u001b[0;31m---------------------------------------------------------------------------\u001b[0m",
      "\u001b[0;31mTypeError\u001b[0m                                 Traceback (most recent call last)",
      "Input \u001b[0;32mIn [71]\u001b[0m, in \u001b[0;36m<module>\u001b[0;34m\u001b[0m\n\u001b[0;32m----> 1\u001b[0m [aka \u001b[38;5;28;01mfor\u001b[39;00m aka \u001b[38;5;129;01min\u001b[39;00m movie\u001b[38;5;241m.\u001b[39mmovieaka_set]\n",
      "\u001b[0;31mTypeError\u001b[0m: 'RelatedManager' object is not iterable"
     ]
    }
   ],
   "source": [
    "[aka for aka in movie.movieaka_set]"
   ]
  },
  {
   "cell_type": "code",
   "execution_count": 26,
   "id": "bc6c482b",
   "metadata": {},
   "outputs": [
    {
     "data": {
      "text/plain": [
       "[{'name': 'Documentary'},\n",
       " {'name': 'Short'},\n",
       " {'name': 'Animation'},\n",
       " {'name': 'Comedy'},\n",
       " {'name': 'Romance'},\n",
       " {'name': 'Sport'},\n",
       " {'name': 'News'},\n",
       " {'name': 'Drama'},\n",
       " {'name': 'Fantasy'},\n",
       " {'name': 'Horror'},\n",
       " {'name': 'Biography'},\n",
       " {'name': 'Music'},\n",
       " {'name': 'War'},\n",
       " {'name': 'Crime'},\n",
       " {'name': 'Western'},\n",
       " {'name': 'Family'},\n",
       " {'name': 'Adventure'},\n",
       " {'name': 'Action'},\n",
       " {'name': 'History'},\n",
       " {'name': 'Mystery'},\n",
       " {'name': 'Sci-Fi'},\n",
       " {'name': 'Musical'},\n",
       " {'name': 'Thriller'},\n",
       " {'name': 'Film-Noir'},\n",
       " {'name': 'Talk-Show'},\n",
       " {'name': 'Game-Show'},\n",
       " {'name': 'Reality-TV'},\n",
       " {'name': 'Adult'}]"
      ]
     },
     "execution_count": 26,
     "metadata": {},
     "output_type": "execute_result"
    }
   ],
   "source": [
    "list(genres)"
   ]
  },
  {
   "cell_type": "code",
   "execution_count": 4,
   "id": "c5478d7b",
   "metadata": {},
   "outputs": [],
   "source": [
    "movies_w_posters = Movie.objects.exclude(poster=None)"
   ]
  },
  {
   "cell_type": "code",
   "execution_count": 8,
   "id": "f09f515d",
   "metadata": {},
   "outputs": [
    {
     "data": {
      "text/plain": [
       "<bound method QuerySet.count of <QuerySet [<Movie: The Far Left Is Tearing Buzzfeed Apart, Staffer Leaks Audio of CEO>, <Movie: Bôseizoku osou>, <Movie: Blackpowder>, <Movie: Flying Cars>, <Movie: Lebanese Beauty Queens>, <Movie: Sajna - A Poignant Story of Ardour>, <Movie: Tim Spriggs - The Acoustic Sessions>, <Movie: Bay Lawz: Stick to the Code>, <Movie: Thanapathilage Gedara>, <Movie: Ruth>, <Movie: Ice Cream>, <Movie: Woman's Womb>, <Movie: The Caring City>, <Movie: Dragonheart Vengeance>, <Movie: Be My Baby>, <Movie: Blood Money Inc.>, <Movie: The Taste of Prey>, <Movie: The Newspaper>, <Movie: Paths to Freedom>, <Movie: Kathuru Mithuru>, '...(remaining elements truncated)...']>>"
      ]
     },
     "execution_count": 8,
     "metadata": {},
     "output_type": "execute_result"
    }
   ],
   "source": [
    "movies_w_posters.count"
   ]
  },
  {
   "cell_type": "code",
   "execution_count": 9,
   "id": "2304e3c9",
   "metadata": {},
   "outputs": [],
   "source": [
    "from imdb import Cinemagoer"
   ]
  },
  {
   "cell_type": "code",
   "execution_count": 10,
   "id": "d8abc2ff",
   "metadata": {},
   "outputs": [],
   "source": [
    "ia = Cinemagoer()"
   ]
  },
  {
   "cell_type": "code",
   "execution_count": 12,
   "id": "d30d2f9c",
   "metadata": {},
   "outputs": [],
   "source": [
    "movie = ia.get_movie('0133093')"
   ]
  },
  {
   "cell_type": "code",
   "execution_count": 21,
   "id": "ba69b4fd",
   "metadata": {},
   "outputs": [],
   "source": [
    "main_keys = list(movie.data.keys())"
   ]
  },
  {
   "cell_type": "code",
   "execution_count": 20,
   "id": "0637ba6e",
   "metadata": {},
   "outputs": [],
   "source": [
    "main_keys"
   ]
  },
  {
   "cell_type": "code",
   "execution_count": null,
   "id": "597e84cc",
   "metadata": {},
   "outputs": [],
   "source": [
    "from scripts.data_to_db import *"
   ]
  },
  {
   "cell_type": "code",
   "execution_count": null,
   "id": "0b84d337",
   "metadata": {},
   "outputs": [],
   "source": [
    "from add_movie_data import *"
   ]
  },
  {
   "cell_type": "code",
   "execution_count": null,
   "id": "82e32850",
   "metadata": {},
   "outputs": [],
   "source": [
    "from movies.models import *"
   ]
  },
  {
   "cell_type": "code",
   "execution_count": null,
   "id": "cca78f8f",
   "metadata": {},
   "outputs": [],
   "source": [
    "all_import_object = ImportAllData(configuration_file='/Users/timdunn/movie_project/all_processes/movie_configuration.yaml')"
   ]
  },
  {
   "cell_type": "code",
   "execution_count": null,
   "id": "5d81f8ab",
   "metadata": {},
   "outputs": [],
   "source": [
    "all_import_object.import_data()"
   ]
  },
  {
   "cell_type": "code",
   "execution_count": null,
   "id": "d11ed5cd",
   "metadata": {},
   "outputs": [],
   "source": [
    "from all_processes.update_movie_file import *"
   ]
  },
  {
   "cell_type": "code",
   "execution_count": null,
   "id": "0fb8dc8a",
   "metadata": {},
   "outputs": [],
   "source": [
    "from all_processes.load_yaml_vars import LoadYamlVars"
   ]
  },
  {
   "cell_type": "code",
   "execution_count": null,
   "id": "886e0d51",
   "metadata": {},
   "outputs": [],
   "source": [
    "load_vars = LoadYamlVars('/Users/timdunn/movie_project/all_processes/movie_configuration.yaml')"
   ]
  },
  {
   "cell_type": "code",
   "execution_count": null,
   "id": "882c424c",
   "metadata": {},
   "outputs": [],
   "source": [
    "videos_object = UpdateVideosFile(load_vars.extra_data_path, '/Users/timdunn/Desktop/converted_movie_project_data/videos.csv')"
   ]
  },
  {
   "cell_type": "code",
   "execution_count": null,
   "id": "f93162d9",
   "metadata": {},
   "outputs": [],
   "source": [
    "file_updated_time(videos_object.movie_import_path)"
   ]
  },
  {
   "cell_type": "code",
   "execution_count": null,
   "id": "3ece6160",
   "metadata": {},
   "outputs": [],
   "source": [
    "file_updated_time(videos_object.movie_import_path) > file_updated_time(videos_object.extra_movie_path)"
   ]
  },
  {
   "cell_type": "code",
   "execution_count": null,
   "id": "35e6cbd3",
   "metadata": {},
   "outputs": [],
   "source": [
    "videos_object."
   ]
  },
  {
   "cell_type": "code",
   "execution_count": null,
   "id": "c79b6c23",
   "metadata": {},
   "outputs": [],
   "source": [
    "all_import_object.current_import_object.current_import_object.df"
   ]
  },
  {
   "cell_type": "code",
   "execution_count": null,
   "id": "a6bcab20",
   "metadata": {},
   "outputs": [],
   "source": []
  },
  {
   "cell_type": "code",
   "execution_count": null,
   "id": "4ea86bcd",
   "metadata": {},
   "outputs": [],
   "source": [
    "all_import_object.import_data()"
   ]
  },
  {
   "cell_type": "code",
   "execution_count": null,
   "id": "eda445f3",
   "metadata": {},
   "outputs": [],
   "source": [
    "current_import = all_import_object.current_import_object.current_import_object"
   ]
  },
  {
   "cell_type": "code",
   "execution_count": null,
   "id": "5e9a0ce5",
   "metadata": {},
   "outputs": [],
   "source": [
    "current_import.db_df"
   ]
  },
  {
   "cell_type": "code",
   "execution_count": null,
   "id": "521c5ecb",
   "metadata": {},
   "outputs": [],
   "source": []
  },
  {
   "cell_type": "code",
   "execution_count": null,
   "id": "cae17de3",
   "metadata": {},
   "outputs": [],
   "source": [
    "filter_args = all_import_object.current_import_object.current_import_object.get_filter_args()"
   ]
  },
  {
   "cell_type": "code",
   "execution_count": null,
   "id": "506dad34",
   "metadata": {},
   "outputs": [],
   "source": [
    "curreint_import = all_import_object.current_import_object.current_import_object"
   ]
  },
  {
   "cell_type": "code",
   "execution_count": null,
   "id": "7cb33b85",
   "metadata": {},
   "outputs": [],
   "source": [
    "try:\n",
    "    if curreint_import.updated_df.empty:\n",
    "        print(';hey')\n",
    "except:\n",
    "    print('no')"
   ]
  },
  {
   "cell_type": "code",
   "execution_count": null,
   "id": "9f565c07",
   "metadata": {},
   "outputs": [],
   "source": []
  },
  {
   "cell_type": "code",
   "execution_count": null,
   "id": "b6bebba4",
   "metadata": {},
   "outputs": [],
   "source": [
    "try:\n",
    "    curreint_import.update_records()\n",
    "except:\n",
    "    pass"
   ]
  },
  {
   "cell_type": "code",
   "execution_count": null,
   "id": "51890b5c",
   "metadata": {},
   "outputs": [],
   "source": [
    "all_import_object.import_data()"
   ]
  },
  {
   "cell_type": "code",
   "execution_count": null,
   "id": "f8a14274",
   "metadata": {},
   "outputs": [],
   "source": [
    "current_import_object = all_import_object.current_import_object.current_import_object"
   ]
  },
  {
   "cell_type": "code",
   "execution_count": null,
   "id": "956e056c",
   "metadata": {},
   "outputs": [],
   "source": [
    "current_import_object.db_df"
   ]
  },
  {
   "cell_type": "code",
   "execution_count": null,
   "id": "e82ff042",
   "metadata": {},
   "outputs": [],
   "source": [
    "foreign_key_object = ForeignModelDfFromKey(current_import_object.df, MovieAka, 'movie', \n",
    "                                           current_import_object.foreign_models_dict)"
   ]
  },
  {
   "cell_type": "code",
   "execution_count": null,
   "id": "3f5639aa",
   "metadata": {},
   "outputs": [],
   "source": [
    "foreign_key_object.foreign_df"
   ]
  },
  {
   "cell_type": "code",
   "execution_count": null,
   "id": "f3a9bad0",
   "metadata": {},
   "outputs": [],
   "source": [
    "missing_cols = [column for column in foreign_key_object.foreign_df.columns if column not in foreign_key_object.df.columns]"
   ]
  },
  {
   "cell_type": "code",
   "execution_count": null,
   "id": "91af22db",
   "metadata": {},
   "outputs": [],
   "source": [
    "missing_cols"
   ]
  },
  {
   "cell_type": "code",
   "execution_count": null,
   "id": "93ea943f",
   "metadata": {},
   "outputs": [],
   "source": [
    "foreign_key_object.df"
   ]
  },
  {
   "cell_type": "code",
   "execution_count": null,
   "id": "17b1fa0c",
   "metadata": {},
   "outputs": [],
   "source": [
    "foreign_key_object.process_and_merge()"
   ]
  },
  {
   "cell_type": "code",
   "execution_count": null,
   "id": "776c6815",
   "metadata": {},
   "outputs": [],
   "source": [
    "current_import_object.foreign_models_dict"
   ]
  },
  {
   "cell_type": "code",
   "execution_count": null,
   "id": "72984b28",
   "metadata": {},
   "outputs": [],
   "source": [
    "current_import_object.process_and_merge_key('movie')"
   ]
  },
  {
   "cell_type": "code",
   "execution_count": null,
   "id": "e14474e4",
   "metadata": {},
   "outputs": [],
   "source": [
    "all_import_object.import_data()"
   ]
  },
  {
   "cell_type": "code",
   "execution_count": null,
   "id": "5cef4c19",
   "metadata": {},
   "outputs": [],
   "source": [
    "movie_genre_path = all_import_object.import_class_dict().get(AddMovieGenre)"
   ]
  },
  {
   "cell_type": "code",
   "execution_count": null,
   "id": "dd9334d2",
   "metadata": {},
   "outputs": [],
   "source": [
    "movie_genre_df = pd.read_csv(movie_genre_path, nrows=100000)"
   ]
  },
  {
   "cell_type": "code",
   "execution_count": null,
   "id": "d6430201",
   "metadata": {},
   "outputs": [],
   "source": [
    "movie_genre_df"
   ]
  },
  {
   "cell_type": "code",
   "execution_count": null,
   "id": "19add7b3",
   "metadata": {},
   "outputs": [],
   "source": [
    "import_object = ImportData(movie_genre_df, MovieGenre, identity=[\"movie\", \"genre\"], \n",
    "           foreign_models=[{\"movie\": \"tconst\"}, {\"genre\": \"name\"}])"
   ]
  },
  {
   "cell_type": "code",
   "execution_count": null,
   "id": "64b40bb0",
   "metadata": {},
   "outputs": [],
   "source": [
    "import_object.df"
   ]
  },
  {
   "cell_type": "code",
   "execution_count": null,
   "id": "cce90e9c",
   "metadata": {},
   "outputs": [],
   "source": [
    "import_object.process_and_merge_key('genre')"
   ]
  },
  {
   "cell_type": "code",
   "execution_count": null,
   "id": "56568b60",
   "metadata": {},
   "outputs": [],
   "source": [
    "import_object.assign_foreign_models()"
   ]
  },
  {
   "cell_type": "code",
   "execution_count": null,
   "id": "b75292e2",
   "metadata": {},
   "outputs": [],
   "source": [
    "import_object = all_import_object.current_import_object.current_import_object"
   ]
  },
  {
   "cell_type": "code",
   "execution_count": null,
   "id": "e64df3fe",
   "metadata": {},
   "outputs": [],
   "source": [
    "import_object.foreign_models_dict.keys()"
   ]
  },
  {
   "cell_type": "code",
   "execution_count": null,
   "id": "44f890c6",
   "metadata": {},
   "outputs": [],
   "source": [
    "foreign_key_object = ForeignModelDfFromKey(movie_genre_df, model_class=MovieGenre, key='genre', \n",
    "                                           foreign_models_dict=import_object.foreign_models_dict)"
   ]
  },
  {
   "cell_type": "code",
   "execution_count": null,
   "id": "028f9254",
   "metadata": {},
   "outputs": [],
   "source": [
    "foreign_key_object.df"
   ]
  },
  {
   "cell_type": "code",
   "execution_count": null,
   "id": "560b855f",
   "metadata": {},
   "outputs": [],
   "source": [
    "foreign_key_object.create_foreign_df()\n",
    "if not foreign_key_object.foreign_df.empty:\n",
    "    print('went inside if')\n",
    "    foreign_key_object.add_foreign_columns_to_df()"
   ]
  },
  {
   "cell_type": "code",
   "execution_count": null,
   "id": "c9e5bdc2",
   "metadata": {},
   "outputs": [],
   "source": [
    "foreign_key_object.df"
   ]
  },
  {
   "cell_type": "code",
   "execution_count": null,
   "id": "a043bb0b",
   "metadata": {},
   "outputs": [],
   "source": [
    "foreign_key_object.add_foreign_columns_to_df()"
   ]
  },
  {
   "cell_type": "code",
   "execution_count": null,
   "id": "4d6a697b",
   "metadata": {},
   "outputs": [],
   "source": [
    "foreign_key_object.df"
   ]
  },
  {
   "cell_type": "code",
   "execution_count": null,
   "id": "a6a493fd",
   "metadata": {},
   "outputs": [],
   "source": [
    "foreign_key_object.process_and_merge()"
   ]
  },
  {
   "cell_type": "code",
   "execution_count": null,
   "id": "159488c1",
   "metadata": {},
   "outputs": [],
   "source": [
    "not foreign_key_object.foreign_df.empty"
   ]
  },
  {
   "cell_type": "code",
   "execution_count": null,
   "id": "aee4f42d",
   "metadata": {},
   "outputs": [],
   "source": [
    "foreign_key_object.df[]"
   ]
  },
  {
   "cell_type": "code",
   "execution_count": null,
   "id": "7541d665",
   "metadata": {},
   "outputs": [],
   "source": [
    "foreign_key_object.foreign_df"
   ]
  },
  {
   "cell_type": "code",
   "execution_count": null,
   "id": "44dcdf1a",
   "metadata": {},
   "outputs": [],
   "source": [
    "main_data_object = DataToDb(MovieGenre, movie_genre_path, identity=[\"movie\", \"genre\"], \n",
    "         foreign_models=[{\"movie\": \"tconst\"}, {\"genre\": \"name\"}])"
   ]
  },
  {
   "cell_type": "code",
   "execution_count": null,
   "id": "ce3709ff",
   "metadata": {},
   "outputs": [],
   "source": [
    "main_data_object.current_import_object.merge_fields"
   ]
  },
  {
   "cell_type": "code",
   "execution_count": null,
   "id": "434212fb",
   "metadata": {},
   "outputs": [],
   "source": [
    "main_data_object.current_import_object.foreign_models_dict"
   ]
  },
  {
   "cell_type": "code",
   "execution_count": null,
   "id": "d232c5f3",
   "metadata": {},
   "outputs": [],
   "source": [
    "import_object = ImportData(movie_genre_df, MovieGenre, identity=[\"movie\", \"genre\"], \n",
    "           foreign_models=[{\"movie\": \"tconst\"}, {\"genre\": \"name\"}])"
   ]
  },
  {
   "cell_type": "code",
   "execution_count": null,
   "id": "2f7a9653",
   "metadata": {},
   "outputs": [],
   "source": [
    "import_object.process_and_merge_key('genre')"
   ]
  },
  {
   "cell_type": "code",
   "execution_count": null,
   "id": "1e8d2866",
   "metadata": {},
   "outputs": [],
   "source": [
    "import_object.df"
   ]
  },
  {
   "cell_type": "code",
   "execution_count": null,
   "id": "2fbb5343",
   "metadata": {},
   "outputs": [],
   "source": [
    "main_data_object.import_chunk(movie_genre_df)"
   ]
  },
  {
   "cell_type": "code",
   "execution_count": null,
   "id": "01747933",
   "metadata": {},
   "outputs": [],
   "source": [
    "foreign_key_object.process_and_merge()"
   ]
  },
  {
   "cell_type": "code",
   "execution_count": null,
   "id": "f510a78f",
   "metadata": {},
   "outputs": [],
   "source": [
    "foreign_key_object.df"
   ]
  },
  {
   "cell_type": "code",
   "execution_count": null,
   "id": "3c2b746a",
   "metadata": {},
   "outputs": [],
   "source": []
  },
  {
   "cell_type": "code",
   "execution_count": null,
   "id": "6ae330ce",
   "metadata": {},
   "outputs": [],
   "source": [
    "all_import_object.import_data()"
   ]
  },
  {
   "cell_type": "code",
   "execution_count": null,
   "id": "b017595e",
   "metadata": {},
   "outputs": [],
   "source": [
    "current_import = all_import_object.current_import_object.current_import_object"
   ]
  },
  {
   "cell_type": "code",
   "execution_count": null,
   "id": "b40b0b24",
   "metadata": {},
   "outputs": [],
   "source": [
    "current_import.foreign_models_dict.keys()"
   ]
  },
  {
   "cell_type": "code",
   "execution_count": null,
   "id": "4fff5d7d",
   "metadata": {},
   "outputs": [],
   "source": [
    "current_import.merge_fields"
   ]
  },
  {
   "cell_type": "code",
   "execution_count": null,
   "id": "d7aee4fc",
   "metadata": {},
   "outputs": [],
   "source": [
    "from add_movie_data import *"
   ]
  },
  {
   "cell_type": "code",
   "execution_count": null,
   "id": "edadf851",
   "metadata": {},
   "outputs": [],
   "source": [
    "from scripts.data_to_db import *"
   ]
  },
  {
   "cell_type": "code",
   "execution_count": null,
   "id": "3024bc7f",
   "metadata": {},
   "outputs": [],
   "source": [
    "foreign_key_object = ForeignModelDfFromKey(current_movie_object.df, model_class=current_movie_object.model_class, key='language', \n",
    "                                           foreign_models_dict=current_movie_object.foreign_models_dict)"
   ]
  },
  {
   "cell_type": "code",
   "execution_count": null,
   "id": "fc6653d4",
   "metadata": {},
   "outputs": [],
   "source": [
    "np.unique(foreign_key_object.df['language'])"
   ]
  },
  {
   "cell_type": "code",
   "execution_count": null,
   "id": "27760971",
   "metadata": {},
   "outputs": [],
   "source": [
    "foreign_key_object.foreign_df.empty"
   ]
  },
  {
   "cell_type": "code",
   "execution_count": null,
   "id": "49c0771f",
   "metadata": {},
   "outputs": [],
   "source": [
    "movie_object = AddMovieTitle(all_import_object.import_class_dict().get(AddMovieTitle))"
   ]
  },
  {
   "cell_type": "code",
   "execution_count": null,
   "id": "f822e365",
   "metadata": {},
   "outputs": [],
   "source": [
    "current_movie_object = movie_object.current_import_object"
   ]
  },
  {
   "cell_type": "code",
   "execution_count": null,
   "id": "24213333",
   "metadata": {},
   "outputs": [],
   "source": [
    "movie_object.process_in_chunks()"
   ]
  },
  {
   "cell_type": "code",
   "execution_count": null,
   "id": "b8e9f384",
   "metadata": {},
   "outputs": [],
   "source": [
    "movie_object."
   ]
  },
  {
   "cell_type": "code",
   "execution_count": null,
   "id": "8fc47711",
   "metadata": {},
   "outputs": [],
   "source": [
    "movie_object.import_chunk(pd.read_csv(all_import_object.import_class_dict().get(AddMovieTitle), nrows=100000))"
   ]
  },
  {
   "cell_type": "code",
   "execution_count": null,
   "id": "7bfeb3b2",
   "metadata": {},
   "outputs": [],
   "source": [
    "current_import = movie_object.current_import_object"
   ]
  },
  {
   "cell_type": "code",
   "execution_count": null,
   "id": "c8e94273",
   "metadata": {},
   "outputs": [],
   "source": [
    "movie_title_df = pd.read_csv(all_import_object.import_class_dict().get(AddMovieTitle))"
   ]
  },
  {
   "cell_type": "code",
   "execution_count": null,
   "id": "d2e4ddac",
   "metadata": {},
   "outputs": [],
   "source": [
    "relevant_columns = [column for column in movie_title_df.columns if column in current_import.model_fields]"
   ]
  },
  {
   "cell_type": "code",
   "execution_count": null,
   "id": "179d6548",
   "metadata": {},
   "outputs": [],
   "source": [
    "integer_columns = current_import.integer_fields()"
   ]
  },
  {
   "cell_type": "code",
   "execution_count": null,
   "id": "8169b9f6",
   "metadata": {},
   "outputs": [],
   "source": [
    "integer_columns"
   ]
  },
  {
   "cell_type": "code",
   "execution_count": null,
   "id": "2f5ef49c",
   "metadata": {},
   "outputs": [],
   "source": [
    "import numpy as np"
   ]
  },
  {
   "cell_type": "code",
   "execution_count": null,
   "id": "df6d245c",
   "metadata": {},
   "outputs": [],
   "source": [
    "for value in np.unique(movie_title_df['start_year']):\n",
    "    print(value)"
   ]
  },
  {
   "cell_type": "code",
   "execution_count": null,
   "id": "ac8e1385",
   "metadata": {},
   "outputs": [],
   "source": []
  },
  {
   "cell_type": "code",
   "execution_count": null,
   "id": "f222f091",
   "metadata": {},
   "outputs": [],
   "source": []
  },
  {
   "cell_type": "code",
   "execution_count": null,
   "id": "1e261b46",
   "metadata": {},
   "outputs": [],
   "source": [
    "for column in integer_columns:\n",
    "    try:\n",
    "        print(column)\n",
    "        movie_title_df[column].fillna(0, inplace=True)\n",
    "        movie_title_df[column].astype(int)\n",
    "    except:\n",
    "        print(\"there was a problem with column\", column)"
   ]
  },
  {
   "cell_type": "code",
   "execution_count": null,
   "id": "d14fe0c4",
   "metadata": {},
   "outputs": [],
   "source": [
    "for value in np.unique(movie_title_df['runtime_minutes'].astype(str)):\n",
    "    print(value)"
   ]
  },
  {
   "cell_type": "code",
   "execution_count": null,
   "id": "01ebd4c8",
   "metadata": {},
   "outputs": [],
   "source": [
    "movie_title_df['runtime_minutes'].astype(int)"
   ]
  },
  {
   "cell_type": "code",
   "execution_count": null,
   "id": "ad4f458b",
   "metadata": {},
   "outputs": [],
   "source": [
    "relevant_columns"
   ]
  },
  {
   "cell_type": "code",
   "execution_count": null,
   "id": "aa8c0afa",
   "metadata": {},
   "outputs": [],
   "source": [
    "movie_title_df"
   ]
  },
  {
   "cell_type": "code",
   "execution_count": null,
   "id": "1bc56983",
   "metadata": {},
   "outputs": [],
   "source": [
    "current_import.created_df"
   ]
  },
  {
   "cell_type": "code",
   "execution_count": null,
   "id": "9303dd73",
   "metadata": {},
   "outputs": [],
   "source": [
    "all_import_object.import_data()"
   ]
  },
  {
   "cell_type": "code",
   "execution_count": null,
   "id": "5c7dfb82",
   "metadata": {},
   "outputs": [],
   "source": [
    "from add_movie_data import *"
   ]
  },
  {
   "cell_type": "code",
   "execution_count": null,
   "id": "fb1f1da0",
   "metadata": {},
   "outputs": [],
   "source": [
    "movie_object = AddMovieTitle(all_import_object.import_class_dict().get(AddMovieTitle))"
   ]
  },
  {
   "cell_type": "code",
   "execution_count": null,
   "id": "5a0c6600",
   "metadata": {},
   "outputs": [],
   "source": [
    "movie_object = movie_object.current_import_object"
   ]
  },
  {
   "cell_type": "code",
   "execution_count": null,
   "id": "0156b6a4",
   "metadata": {},
   "outputs": [],
   "source": [
    "import pandas as pd"
   ]
  },
  {
   "cell_type": "code",
   "execution_count": null,
   "id": "eaf25ed4",
   "metadata": {},
   "outputs": [],
   "source": [
    "movie_object.import_chunk(pd.read_csv(all_import_object.import_class_dict().get(AddMovieTitle), nrows=10000))"
   ]
  },
  {
   "cell_type": "code",
   "execution_count": null,
   "id": "2db4c653",
   "metadata": {},
   "outputs": [],
   "source": [
    "current_import = movie_object.current_import_object"
   ]
  },
  {
   "cell_type": "code",
   "execution_count": null,
   "id": "7244754a",
   "metadata": {},
   "outputs": [],
   "source": [
    "concat_sample = pd.concat([current_import.merged_df, current_import.db_df])"
   ]
  },
  {
   "cell_type": "code",
   "execution_count": null,
   "id": "aac000d2",
   "metadata": {},
   "outputs": [],
   "source": [
    "current_import.get_column_type('is_adult', concat_sample)"
   ]
  },
  {
   "cell_type": "code",
   "execution_count": null,
   "id": "02fce6f8",
   "metadata": {},
   "outputs": [],
   "source": [
    "concat_sample['is_adult'] = concat_sample['is_adult'].astype(bool)"
   ]
  },
  {
   "cell_type": "code",
   "execution_count": null,
   "id": "df1f7c51",
   "metadata": {},
   "outputs": [],
   "source": [
    "current_import.updated_df"
   ]
  },
  {
   "cell_type": "code",
   "execution_count": null,
   "id": "136a82f4",
   "metadata": {},
   "outputs": [],
   "source": [
    "current_import.db_df"
   ]
  },
  {
   "cell_type": "code",
   "execution_count": null,
   "id": "33fa0ad3",
   "metadata": {},
   "outputs": [],
   "source": [
    "current_import.updated_df"
   ]
  },
  {
   "cell_type": "code",
   "execution_count": null,
   "id": "acc03437",
   "metadata": {},
   "outputs": [],
   "source": [
    "language_object = AddLanguage(all_import_object.import_class_dict().get(AddLanguage))"
   ]
  },
  {
   "cell_type": "code",
   "execution_count": null,
   "id": "99e73bba",
   "metadata": {},
   "outputs": [],
   "source": [
    "data_object = language_object.current_import_object"
   ]
  },
  {
   "cell_type": "code",
   "execution_count": null,
   "id": "b7143eab",
   "metadata": {},
   "outputs": [],
   "source": [
    "model_object = data_object.model_class"
   ]
  },
  {
   "cell_type": "code",
   "execution_count": null,
   "id": "2522aa8c",
   "metadata": {},
   "outputs": [],
   "source": [
    "model_object._meta.pk"
   ]
  },
  {
   "cell_type": "code",
   "execution_count": null,
   "id": "dea49fe9",
   "metadata": {},
   "outputs": [],
   "source": [
    "data_object.db_df"
   ]
  },
  {
   "cell_type": "code",
   "execution_count": null,
   "id": "c035e9e5",
   "metadata": {},
   "outputs": [],
   "source": [
    "data_object.get_update_fields()"
   ]
  },
  {
   "cell_type": "code",
   "execution_count": null,
   "id": "a402e80d",
   "metadata": {},
   "outputs": [],
   "source": [
    "language_object.process_in_chunks()"
   ]
  },
  {
   "cell_type": "code",
   "execution_count": null,
   "id": "19d479dd",
   "metadata": {},
   "outputs": [],
   "source": [
    "from scripts.data_to_db import DataToDb"
   ]
  },
  {
   "cell_type": "code",
   "execution_count": null,
   "id": "e96fae72",
   "metadata": {},
   "outputs": [],
   "source": [
    "from movies.models import *"
   ]
  },
  {
   "cell_type": "code",
   "execution_count": null,
   "id": "0c1ffc73",
   "metadata": {},
   "outputs": [],
   "source": [
    "data_object = DataToDb(Language, all_import_object.import_class_dict().get(AddLanguage), ['name'])"
   ]
  },
  {
   "cell_type": "code",
   "execution_count": null,
   "id": "c7a82db5",
   "metadata": {},
   "outputs": [],
   "source": [
    "data_object."
   ]
  },
  {
   "cell_type": "code",
   "execution_count": null,
   "id": "b234ba2c",
   "metadata": {},
   "outputs": [],
   "source": [
    "from movies.models import Movie"
   ]
  },
  {
   "cell_type": "code",
   "execution_count": null,
   "id": "ad83d896",
   "metadata": {},
   "outputs": [],
   "source": [
    "Movie.objects.filter(score='unknown').update(score='0')"
   ]
  },
  {
   "cell_type": "code",
   "execution_count": null,
   "id": "67ae708f",
   "metadata": {},
   "outputs": [],
   "source": [
    "all_import_object.import_data()"
   ]
  },
  {
   "cell_type": "code",
   "execution_count": null,
   "id": "242a0e53",
   "metadata": {},
   "outputs": [],
   "source": [
    "import pandas as pd"
   ]
  },
  {
   "cell_type": "code",
   "execution_count": null,
   "id": "e543693d",
   "metadata": {},
   "outputs": [],
   "source": [
    "movie_title_sample = pd.read_csv('/Users/timdunn/Desktop/converted_movie_project_data/merged_imdb.csv', nrows=100000)"
   ]
  },
  {
   "cell_type": "code",
   "execution_count": null,
   "id": "f48b10f4",
   "metadata": {},
   "outputs": [],
   "source": [
    "movie_title_sample['production_status_updated'].fillna('unknown', inplace=True)"
   ]
  },
  {
   "cell_type": "code",
   "execution_count": null,
   "id": "2300813a",
   "metadata": {},
   "outputs": [],
   "source": [
    "movie_title_sample['production_status_updated']"
   ]
  },
  {
   "cell_type": "code",
   "execution_count": null,
   "id": "5609efd0",
   "metadata": {},
   "outputs": [],
   "source": [
    "bool(0)"
   ]
  },
  {
   "cell_type": "code",
   "execution_count": null,
   "id": "ea8b238a",
   "metadata": {},
   "outputs": [],
   "source": [
    "with pd.read_csv(all_import_object.merged_movie_title_path, chunksize=100000) as reader:\n",
    "    for chunk in reader:\n",
    "        print(chunk.size)"
   ]
  },
  {
   "cell_type": "code",
   "execution_count": null,
   "id": "73cd23a4",
   "metadata": {},
   "outputs": [],
   "source": [
    "link_path = all_import_object.import_class_dict().get(AddLink)"
   ]
  },
  {
   "cell_type": "code",
   "execution_count": null,
   "id": "c2334200",
   "metadata": {},
   "outputs": [],
   "source": [
    "link_object = AddLink(link_path)"
   ]
  },
  {
   "cell_type": "code",
   "execution_count": null,
   "id": "0451271f",
   "metadata": {},
   "outputs": [],
   "source": [
    "link_object.fast_import()"
   ]
  },
  {
   "cell_type": "code",
   "execution_count": null,
   "id": "e2c32a4f",
   "metadata": {},
   "outputs": [],
   "source": [
    "movie_crew_path"
   ]
  },
  {
   "cell_type": "code",
   "execution_count": null,
   "id": "0e121792",
   "metadata": {},
   "outputs": [],
   "source": [
    "crew_object = None\n",
    "aka_object = None"
   ]
  },
  {
   "cell_type": "code",
   "execution_count": null,
   "id": "1184c929",
   "metadata": {},
   "outputs": [],
   "source": [
    "link_object = AddLink(link_path)"
   ]
  },
  {
   "cell_type": "code",
   "execution_count": null,
   "id": "4c1206bc",
   "metadata": {},
   "outputs": [],
   "source": [
    "from common_methods import *"
   ]
  },
  {
   "cell_type": "code",
   "execution_count": null,
   "id": "b4fde414",
   "metadata": {},
   "outputs": [],
   "source": [
    "merged_links = pd.read_csv('/Users/timdunn/Desktop/converted_movie_project_data/merged_imdb_links.csv')"
   ]
  },
  {
   "cell_type": "code",
   "execution_count": null,
   "id": "35f88bb9",
   "metadata": {},
   "outputs": [],
   "source": [
    "merged_links.drop([\"probability\"], inplace=True, axis=1)"
   ]
  },
  {
   "cell_type": "code",
   "execution_count": null,
   "id": "8c25c52d",
   "metadata": {},
   "outputs": [],
   "source": [
    "merged_links.to_csv(link_path, index=False)"
   ]
  },
  {
   "cell_type": "code",
   "execution_count": null,
   "id": "27bfa698",
   "metadata": {},
   "outputs": [],
   "source": [
    "link_df = link_object.created_df"
   ]
  },
  {
   "cell_type": "code",
   "execution_count": null,
   "id": "d7dd1fcf",
   "metadata": {},
   "outputs": [],
   "source": [
    "for field in link_df.columns:\n",
    "    print(f'column {field} has a max length of {link_df[field].astype(str).str.len().max()}')"
   ]
  },
  {
   "cell_type": "code",
   "execution_count": null,
   "id": "d9dcc7e5",
   "metadata": {},
   "outputs": [],
   "source": [
    "link_object.created_df"
   ]
  },
  {
   "cell_type": "code",
   "execution_count": null,
   "id": "5ed8f2df",
   "metadata": {},
   "outputs": [],
   "source": [
    "link_object.fast_import()"
   ]
  },
  {
   "cell_type": "code",
   "execution_count": null,
   "id": "717514b7",
   "metadata": {},
   "outputs": [],
   "source": [
    "aka_path = all_import_object.import_class_dict().get(AddMovieAka)"
   ]
  },
  {
   "cell_type": "code",
   "execution_count": null,
   "id": "3cf4627b",
   "metadata": {},
   "outputs": [],
   "source": [
    "all_import_object.import_data()"
   ]
  },
  {
   "cell_type": "code",
   "execution_count": null,
   "id": "9c8af503",
   "metadata": {},
   "outputs": [],
   "source": [
    "from movies.models import *"
   ]
  },
  {
   "cell_type": "code",
   "execution_count": null,
   "id": "03d5de50",
   "metadata": {},
   "outputs": [],
   "source": [
    "from scripts.convert_import_data import ConvertImportData"
   ]
  },
  {
   "cell_type": "code",
   "execution_count": null,
   "id": "74ca6bbb",
   "metadata": {},
   "outputs": [],
   "source": [
    "movie_object = Movie(primary_title=(\"a\" * 400), title_type=\"movie\", original_title=(\"B\" * 400))"
   ]
  },
  {
   "cell_type": "code",
   "execution_count": null,
   "id": "bc21ab9e",
   "metadata": {},
   "outputs": [],
   "source": [
    "Movie.objects.bulk_create([movie_object])"
   ]
  },
  {
   "cell_type": "code",
   "execution_count": null,
   "id": "1481af2f",
   "metadata": {},
   "outputs": [],
   "source": [
    "from add_movie_data import *"
   ]
  },
  {
   "cell_type": "code",
   "execution_count": null,
   "id": "4b3e1033",
   "metadata": {},
   "outputs": [],
   "source": [
    "from common_methods import *"
   ]
  },
  {
   "cell_type": "code",
   "execution_count": null,
   "id": "7da3b707",
   "metadata": {},
   "outputs": [],
   "source": [
    "AddMovieAka(aka_path)"
   ]
  },
  {
   "cell_type": "code",
   "execution_count": null,
   "id": "384ab7b9",
   "metadata": {},
   "outputs": [],
   "source": [
    "aka_object = AddMovieAka(all_import_object.import_class_dict().get(AddMovieAka))"
   ]
  },
  {
   "cell_type": "code",
   "execution_count": null,
   "id": "57f52c9b",
   "metadata": {},
   "outputs": [],
   "source": [
    "aka_object.identity_fields"
   ]
  },
  {
   "cell_type": "code",
   "execution_count": null,
   "id": "c48fb08e",
   "metadata": {},
   "outputs": [],
   "source": [
    "aka_object.fast_import()"
   ]
  },
  {
   "cell_type": "code",
   "execution_count": null,
   "id": "111d4325",
   "metadata": {},
   "outputs": [],
   "source": [
    "df = aka_object.created_df"
   ]
  },
  {
   "cell_type": "code",
   "execution_count": null,
   "id": "0f2fcd9a",
   "metadata": {},
   "outputs": [],
   "source": [
    "df.loc[df['movie_id'].isnull()]"
   ]
  },
  {
   "cell_type": "code",
   "execution_count": null,
   "id": "ed5169ec",
   "metadata": {},
   "outputs": [],
   "source": [
    "df.loc[df]"
   ]
  },
  {
   "cell_type": "code",
   "execution_count": null,
   "id": "13f7bfb7",
   "metadata": {},
   "outputs": [],
   "source": [
    "movie_title_object.fast_import()"
   ]
  },
  {
   "cell_type": "code",
   "execution_count": null,
   "id": "991041dc",
   "metadata": {},
   "outputs": [],
   "source": [
    "movie_df = pd.read_csv(movie_title_object.file_path)"
   ]
  },
  {
   "cell_type": "code",
   "execution_count": null,
   "id": "e7e385e8",
   "metadata": {},
   "outputs": [],
   "source": [
    "movie_df[field].astype(str).str.len().max()"
   ]
  },
  {
   "cell_type": "code",
   "execution_count": null,
   "id": "d468af2e",
   "metadata": {},
   "outputs": [],
   "source": [
    "fields = [column.attname for column in Movie._meta.local_fields \n",
    "          if 'CharField' in str(column.__class__) or 'TextField' \n",
    "          in str(column.__class__) or 'URLField' in str(column.__class__)]"
   ]
  },
  {
   "cell_type": "code",
   "execution_count": null,
   "id": "65e30180",
   "metadata": {},
   "outputs": [],
   "source": [
    "char_fields = movie_title_object.field_type('CharField')"
   ]
  },
  {
   "cell_type": "code",
   "execution_count": null,
   "id": "c9fde7ae",
   "metadata": {},
   "outputs": [],
   "source": [
    "df = movie_title_object.created_df"
   ]
  },
  {
   "cell_type": "code",
   "execution_count": null,
   "id": "e7c8710d",
   "metadata": {},
   "outputs": [],
   "source": [
    "for field in fields:\n",
    "    print(f'The field {field} has a max length of {movie_df[field].astype(str).str.len().max()}')"
   ]
  },
  {
   "cell_type": "code",
   "execution_count": null,
   "id": "f62ddc22",
   "metadata": {},
   "outputs": [],
   "source": [
    "char_fields"
   ]
  },
  {
   "cell_type": "code",
   "execution_count": null,
   "id": "0db1eaad",
   "metadata": {},
   "outputs": [],
   "source": [
    "movie_title_object.fast_import()"
   ]
  },
  {
   "cell_type": "code",
   "execution_count": null,
   "id": "9b5a4d12",
   "metadata": {},
   "outputs": [],
   "source": []
  },
  {
   "cell_type": "code",
   "execution_count": null,
   "id": "f93be747",
   "metadata": {},
   "outputs": [],
   "source": [
    "all_import_object.import_data()"
   ]
  },
  {
   "cell_type": "code",
   "execution_count": null,
   "id": "6ba0c9d7",
   "metadata": {},
   "outputs": [],
   "source": [
    "all_import_object.convert_and_import()"
   ]
  },
  {
   "cell_type": "code",
   "execution_count": null,
   "id": "925e8710",
   "metadata": {},
   "outputs": [],
   "source": [
    "movie_genre_object = AddMovieGenre('/Users/timdunn/Desktop/converted_movie_project_data/genres.csv')"
   ]
  },
  {
   "cell_type": "code",
   "execution_count": null,
   "id": "1c4dd98f",
   "metadata": {},
   "outputs": [],
   "source": [
    "movie_genre_object.fast_import()"
   ]
  },
  {
   "cell_type": "code",
   "execution_count": null,
   "id": "10590d7d",
   "metadata": {},
   "outputs": [],
   "source": [
    "movie_genre_object.foreign_models_dict"
   ]
  },
  {
   "cell_type": "code",
   "execution_count": null,
   "id": "a8a1648e",
   "metadata": {},
   "outputs": [],
   "source": [
    "movie_genre_object.identity_fields"
   ]
  },
  {
   "cell_type": "code",
   "execution_count": null,
   "id": "7e0a6679",
   "metadata": {},
   "outputs": [],
   "source": [
    "import pandas as pd"
   ]
  },
  {
   "cell_type": "code",
   "execution_count": null,
   "id": "41c86c3f",
   "metadata": {},
   "outputs": [],
   "source": []
  },
  {
   "cell_type": "code",
   "execution_count": null,
   "id": "6a127173",
   "metadata": {},
   "outputs": [],
   "source": [
    "pd.DataFrame(data=movie_genre_object.identity_objects).size"
   ]
  },
  {
   "cell_type": "code",
   "execution_count": null,
   "id": "8f7cedef",
   "metadata": {},
   "outputs": [],
   "source": [
    "movie_genre_object.create_objects[0].ordering"
   ]
  },
  {
   "cell_type": "code",
   "execution_count": null,
   "id": "ef289820",
   "metadata": {},
   "outputs": [],
   "source": [
    "sample_created = movie_genre_object.created_df.loc[1:5]"
   ]
  },
  {
   "cell_type": "code",
   "execution_count": null,
   "id": "9a9e5e06",
   "metadata": {},
   "outputs": [],
   "source": [
    "row_results = sample_created.apply(lambda row: movie_genre_object.create_dict_from_row(row), axis=1)"
   ]
  },
  {
   "cell_type": "code",
   "execution_count": null,
   "id": "b117b799",
   "metadata": {},
   "outputs": [],
   "source": [
    "list(row_results)"
   ]
  },
  {
   "cell_type": "code",
   "execution_count": null,
   "id": "f1f077c1",
   "metadata": {},
   "outputs": [],
   "source": [
    "MovieGenre(**dict(sample_created.loc[0]))"
   ]
  },
  {
   "cell_type": "code",
   "execution_count": null,
   "id": "a8391282",
   "metadata": {},
   "outputs": [],
   "source": [
    "sample_object = MovieGenre(**dict(sample_created))"
   ]
  },
  {
   "cell_type": "code",
   "execution_count": null,
   "id": "bbc43940",
   "metadata": {},
   "outputs": [],
   "source": [
    "movie_objects = movie_genre_object.set_movie_object(sample_created)"
   ]
  },
  {
   "cell_type": "code",
   "execution_count": null,
   "id": "e38d9886",
   "metadata": {},
   "outputs": [],
   "source": [
    "from common_methods import *"
   ]
  },
  {
   "cell_type": "code",
   "execution_count": null,
   "id": "77e5330d",
   "metadata": {},
   "outputs": [],
   "source": [
    "df = movie_genre_object.created_df"
   ]
  },
  {
   "cell_type": "code",
   "execution_count": null,
   "id": "aff5b368",
   "metadata": {},
   "outputs": [],
   "source": [
    "fields = [field for field in movie_genre_object.identity_fields if field != movie_genre_object.pk_field]"
   ]
  },
  {
   "cell_type": "code",
   "execution_count": null,
   "id": "5ec5b19b",
   "metadata": {},
   "outputs": [],
   "source": [
    "fields"
   ]
  },
  {
   "cell_type": "code",
   "execution_count": null,
   "id": "16f98c7c",
   "metadata": {},
   "outputs": [],
   "source": [
    "df.dropna(subset=fields, how='any', inplace=True)"
   ]
  },
  {
   "cell_type": "code",
   "execution_count": null,
   "id": "6fb97c9e",
   "metadata": {},
   "outputs": [],
   "source": [
    "df.loc[df['movie_id'].isnull() | df['genre_id'].isnull()]"
   ]
  },
  {
   "cell_type": "code",
   "execution_count": null,
   "id": "ce244b6f",
   "metadata": {},
   "outputs": [],
   "source": [
    "df[fields].notnull().values.all(1)"
   ]
  },
  {
   "cell_type": "code",
   "execution_count": null,
   "id": "6c6d4165",
   "metadata": {},
   "outputs": [],
   "source": [
    "df.loc[df[fields].notnull().values.all(1)]"
   ]
  },
  {
   "cell_type": "code",
   "execution_count": null,
   "id": "180dc890",
   "metadata": {},
   "outputs": [],
   "source": [
    "len(movie_genre_object.create_objects)"
   ]
  },
  {
   "cell_type": "code",
   "execution_count": null,
   "id": "c73fcbb1",
   "metadata": {},
   "outputs": [],
   "source": [
    "movie_genres = MovieGenre.objects.all()"
   ]
  },
  {
   "cell_type": "code",
   "execution_count": null,
   "id": "9b4ddb4d",
   "metadata": {},
   "outputs": [],
   "source": [
    "movie_genres[0].movie.__dict__"
   ]
  },
  {
   "cell_type": "code",
   "execution_count": null,
   "id": "ac05de54",
   "metadata": {},
   "outputs": [],
   "source": [
    "movie_objects"
   ]
  },
  {
   "cell_type": "code",
   "execution_count": null,
   "id": "836e419f",
   "metadata": {},
   "outputs": [],
   "source": [
    "MovieGenre.objects.bulk_create(movie_objects)"
   ]
  },
  {
   "cell_type": "code",
   "execution_count": null,
   "id": "908f0a83",
   "metadata": {},
   "outputs": [],
   "source": [
    "movie_genre_object.created_df"
   ]
  },
  {
   "cell_type": "code",
   "execution_count": null,
   "id": "9417c546",
   "metadata": {},
   "outputs": [],
   "source": [
    "language_object.create_objects"
   ]
  },
  {
   "cell_type": "code",
   "execution_count": null,
   "id": "fada9dd2",
   "metadata": {},
   "outputs": [],
   "source": [
    "results = language_object.created_df.apply(lambda row: language_object.create_dict_from_row(row), axis=1)"
   ]
  },
  {
   "cell_type": "code",
   "execution_count": null,
   "id": "9d08b3af",
   "metadata": {},
   "outputs": [],
   "source": [
    "results"
   ]
  },
  {
   "cell_type": "code",
   "execution_count": null,
   "id": "bf738861",
   "metadata": {},
   "outputs": [],
   "source": [
    "language_object.get_update_fields()"
   ]
  },
  {
   "cell_type": "code",
   "execution_count": null,
   "id": "d12f7213",
   "metadata": {},
   "outputs": [],
   "source": [
    "language_object.fast_import()"
   ]
  },
  {
   "cell_type": "code",
   "execution_count": null,
   "id": "c17e99f9",
   "metadata": {},
   "outputs": [],
   "source": [
    "language_object.create_objects"
   ]
  },
  {
   "cell_type": "code",
   "execution_count": null,
   "id": "7c65ad57",
   "metadata": {},
   "outputs": [],
   "source": [
    "row = language_object.created_df.loc[0]"
   ]
  },
  {
   "cell_type": "code",
   "execution_count": null,
   "id": "64904e9e",
   "metadata": {},
   "outputs": [],
   "source": [
    "language_object.get_initial_dict(row)"
   ]
  },
  {
   "cell_type": "code",
   "execution_count": null,
   "id": "1749f850",
   "metadata": {},
   "outputs": [],
   "source": [
    "all_import_object.import_data()"
   ]
  },
  {
   "cell_type": "code",
   "execution_count": null,
   "id": "3dced967",
   "metadata": {},
   "outputs": [],
   "source": [
    "language_objects = [model_object for model_object in Language.objects.distinct('name').in_bulk(field_name='name')]"
   ]
  },
  {
   "cell_type": "code",
   "execution_count": null,
   "id": "5d30d10a",
   "metadata": {},
   "outputs": [],
   "source": [
    "movies = Movie._meta.get_field('language').related_model.objects.in_bulk(field_name='name')"
   ]
  },
  {
   "cell_type": "code",
   "execution_count": null,
   "id": "dacd3ea4",
   "metadata": {},
   "outputs": [],
   "source": [
    "Movie._meta.get_field('language').attname"
   ]
  },
  {
   "cell_type": "code",
   "execution_count": null,
   "id": "c0da352b",
   "metadata": {},
   "outputs": [],
   "source": []
  },
  {
   "cell_type": "code",
   "execution_count": null,
   "id": "3ae2fa1f",
   "metadata": {},
   "outputs": [],
   "source": [
    "movies = Movie.objects.values(*['id', 'title_type', 'start_year'])"
   ]
  },
  {
   "cell_type": "code",
   "execution_count": null,
   "id": "3c7f02c0",
   "metadata": {},
   "outputs": [],
   "source": [
    "movie_df = pd.DataFrame(data=movies)"
   ]
  },
  {
   "cell_type": "code",
   "execution_count": null,
   "id": "d8425705",
   "metadata": {},
   "outputs": [],
   "source": [
    "Genre.objects.bulk_create([{'name': 'some random'}, {'name': 'other random'}])"
   ]
  },
  {
   "cell_type": "code",
   "execution_count": null,
   "id": "ff92dba0",
   "metadata": {},
   "outputs": [],
   "source": [
    "movies[['title_type', 'start_year']].astype(str).agg(''.join, axis=1)"
   ]
  },
  {
   "cell_type": "code",
   "execution_count": null,
   "id": "9bc1b0e4",
   "metadata": {},
   "outputs": [],
   "source": [
    "list(movies['title_type'] + movies['start_year'].astype(str))"
   ]
  },
  {
   "cell_type": "code",
   "execution_count": null,
   "id": "8112f495",
   "metadata": {},
   "outputs": [],
   "source": [
    "movies.get('en').pk"
   ]
  },
  {
   "cell_type": "code",
   "execution_count": null,
   "id": "4595f2cb",
   "metadata": {},
   "outputs": [],
   "source": [
    "movies"
   ]
  },
  {
   "cell_type": "code",
   "execution_count": null,
   "id": "495d20e2",
   "metadata": {},
   "outputs": [],
   "source": [
    "language_objects"
   ]
  },
  {
   "cell_type": "code",
   "execution_count": null,
   "id": "0fdb3dd0",
   "metadata": {},
   "outputs": [],
   "source": [
    "Language._meta.pk.attname"
   ]
  },
  {
   "cell_type": "code",
   "execution_count": null,
   "id": "4056711c",
   "metadata": {},
   "outputs": [],
   "source": [
    "language_objects"
   ]
  },
  {
   "cell_type": "code",
   "execution_count": null,
   "id": "0bb3ecd4",
   "metadata": {},
   "outputs": [],
   "source": [
    "all_import_object.identity_values"
   ]
  },
  {
   "cell_type": "code",
   "execution_count": null,
   "id": "2fc88b9e",
   "metadata": {},
   "outputs": [],
   "source": [
    "all_import_object.import_data()"
   ]
  },
  {
   "cell_type": "code",
   "execution_count": null,
   "id": "985775af",
   "metadata": {},
   "outputs": [],
   "source": [
    "languages = Language.objects.only('name')"
   ]
  },
  {
   "cell_type": "code",
   "execution_count": null,
   "id": "75168f87",
   "metadata": {},
   "outputs": [],
   "source": [
    "languages[0].name"
   ]
  },
  {
   "cell_type": "code",
   "execution_count": null,
   "id": "ae3dffc7",
   "metadata": {},
   "outputs": [],
   "source": [
    "language_objects = [Language(pk=1, name='ja')]"
   ]
  },
  {
   "cell_type": "code",
   "execution_count": null,
   "id": "a644b663",
   "metadata": {},
   "outputs": [],
   "source": [
    "Language.objects.bulk_update(language_objects, fields=['name'])"
   ]
  },
  {
   "cell_type": "code",
   "execution_count": null,
   "id": "a3a76f3f",
   "metadata": {},
   "outputs": [],
   "source": [
    "crew = pd.read_csv('/Users/timdunn/Desktop/converted_movie_project_data/crew.csv')"
   ]
  },
  {
   "cell_type": "code",
   "execution_count": null,
   "id": "67302015",
   "metadata": {},
   "outputs": [],
   "source": [
    "crew_objects "
   ]
  },
  {
   "cell_type": "code",
   "execution_count": null,
   "id": "2dd4b628",
   "metadata": {},
   "outputs": [],
   "source": [
    "from data_to_db import DataToDb"
   ]
  },
  {
   "cell_type": "code",
   "execution_count": null,
   "id": "9d07440a",
   "metadata": {},
   "outputs": [],
   "source": [
    "data_object = DataToDb(Crew, '/Users/timdunn/Desktop/converted_movie_project_data/crew.csv', identity=['nconst'])"
   ]
  },
  {
   "cell_type": "code",
   "execution_count": null,
   "id": "dc616e92",
   "metadata": {},
   "outputs": [],
   "source": [
    "movies = Movie.objects.filter(title_type__in=['movie', 'tvMovie', 'video'])"
   ]
  },
  {
   "cell_type": "code",
   "execution_count": null,
   "id": "a0bc8248",
   "metadata": {},
   "outputs": [],
   "source": [
    "from convert_import_data import ConvertImportData"
   ]
  },
  {
   "cell_type": "code",
   "execution_count": null,
   "id": "14ddc24c",
   "metadata": {},
   "outputs": [],
   "source": [
    "main_object = ConvertImportData(configuration_file='/Users/timdunn/movie_project/all_processes/movie_configuration.yaml')"
   ]
  },
  {
   "cell_type": "code",
   "execution_count": null,
   "id": "27a0a5a7",
   "metadata": {},
   "outputs": [],
   "source": [
    "main_object.convert_and_import()"
   ]
  },
  {
   "cell_type": "code",
   "execution_count": null,
   "id": "3185c50e",
   "metadata": {},
   "outputs": [],
   "source": [
    "the_dicts"
   ]
  },
  {
   "cell_type": "code",
   "execution_count": null,
   "id": "3fa8fc89",
   "metadata": {},
   "outputs": [],
   "source": [
    "data_object.fast_import()"
   ]
  },
  {
   "cell_type": "code",
   "execution_count": null,
   "id": "b6e8db58",
   "metadata": {},
   "outputs": [],
   "source": [
    "Crew.objects."
   ]
  },
  {
   "cell_type": "code",
   "execution_count": null,
   "id": "e5580533",
   "metadata": {},
   "outputs": [],
   "source": [
    "Crew.objects.bulk_create(crew)"
   ]
  },
  {
   "cell_type": "code",
   "execution_count": null,
   "id": "094d2fb6",
   "metadata": {},
   "outputs": [],
   "source": [
    "AddCrewData('/Users/timdunn/Desktop/converted_movie_project_data/crew.csv').import_records()"
   ]
  },
  {
   "cell_type": "code",
   "execution_count": null,
   "id": "1cb4ffad",
   "metadata": {},
   "outputs": [],
   "source": [
    "[language.name for language in languages]"
   ]
  }
 ],
 "metadata": {
  "kernelspec": {
   "display_name": "Python 3 (ipykernel)",
   "language": "python",
   "name": "python3"
  },
  "language_info": {
   "codemirror_mode": {
    "name": "ipython",
    "version": 3
   },
   "file_extension": ".py",
   "mimetype": "text/x-python",
   "name": "python",
   "nbconvert_exporter": "python",
   "pygments_lexer": "ipython3",
   "version": "3.9.7"
  }
 },
 "nbformat": 4,
 "nbformat_minor": 5
}
